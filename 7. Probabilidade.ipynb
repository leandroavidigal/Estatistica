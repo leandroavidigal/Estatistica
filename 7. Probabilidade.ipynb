{
 "cells": [
  {
   "cell_type": "markdown",
   "metadata": {
    "id": "WnG17bPMPsXC"
   },
   "source": [
    "# Probabilidade"
   ]
  },
  {
   "cell_type": "markdown",
   "metadata": {},
   "source": [
    "A probabilidade é a base para tomar decisões em condições de incerteza e é uma ferramenta poderosa para modelar e analisar dados.\n",
    "\n",
    "#### Objetivos da Seção\n",
    "\n",
    "Nesta seção, você aprenderá os conceitos básicos de probabilidade e como aplicá-los em diversas situações. Os tópicos abordados fornecerão uma compreensão sólida que é essencial para qualquer cientista de dados ou estatístico. A seguir, uma visão geral dos assuntos que serão discutidos:\n",
    "\n",
    "1. **Introdução à Probabilidade**:\n",
    "   - Uma visão geral do que é probabilidade e por que ela é importante.\n",
    "\n",
    "2. **Básico sobre Probabilidade**:\n",
    "   - Definições e conceitos fundamentais, como experimentos aleatórios, eventos e espaço amostral.\n",
    "\n",
    "3. **Permutação e Combinação**:\n",
    "   - Técnicas para contar o número de maneiras que diferentes eventos podem ocorrer, essenciais para calcular probabilidades em espaços amostrais complexos.\n",
    "\n",
    "4. **Interseção, União e Complemento de Eventos**:\n",
    "   - Conceitos-chave para entender como diferentes eventos podem interagir.\n",
    "\n",
    "5. **Eventos Independentes e Dependentes**:\n",
    "   - Diferenciação entre eventos que são afetados uns pelos outros e aqueles que não são.\n",
    "\n",
    "6. **Probabilidade Condicional**:\n",
    "   - Conceito de probabilidade condicional e a regra da multiplicação.\n",
    "\n",
    "7. **Teorema de Bayes e Redes Bayesianas**:\n",
    "   - Uma introdução ao Teorema de Bayes, uma ferramenta poderosa para atualizar probabilidades à medida que novas informações se tornam disponíveis, e uma visão geral das redes Bayesianas.\n",
    "\n",
    "8. **Classificador Ótimo de Bayes e Naive Bayes**:\n",
    "   - Aplicações práticas do Teorema de Bayes em aprendizado de máquina, incluindo o classificador Naive Bayes.\n",
    "\n",
    "9. **Distribuições de Probabilidade**:\n",
    "   - Discussão sobre distribuições de probabilidade comuns, incluindo a normal, binomial e de Poisson.\n",
    "\n",
    "10. **Previsões com Probabilidade em Machine Learning**:\n",
    "    - Como aplicar conceitos de probabilidade para fazer previsões e inferências em modelos de aprendizado de máquina.\n",
    "\n",
    "#### Estrutura da Seção\n",
    "\n",
    "Cada tópico será abordado de maneira detalhada, com explicações teóricas seguidas de exemplos práticos e exercícios para solidificar seu entendimento. Ao final da seção, você terá uma compreensão robusta de como a probabilidade é aplicada em diversos contextos e estará bem equipado para avançar para tópicos mais complexos em ciência de dados e aprendizado de máquina.\n",
    "\n",
    "### Por que Estudar Probabilidade?\n",
    "\n",
    "A probabilidade é a linguagem da incerteza. Em ciência de dados, quase todas as análises lidam com dados que têm algum nível de incerteza. Compreender a probabilidade permite que você:\n",
    "\n",
    "- **Modele Incertezas**: Crie modelos que podem lidar com a incerteza e fazer previsões precisas.\n",
    "- **Tome Decisões Informadas**: Use dados e probabilidades para tomar decisões baseadas em evidências.\n",
    "- **Entenda Modelos de Machine Learning**: Muitos algoritmos de aprendizado de máquina, especialmente os baseados em técnicas bayesianas, requerem uma compreensão sólida de probabilidade."
   ]
  },
  {
   "cell_type": "markdown",
   "metadata": {},
   "source": [
    "### Introdução à Probabilidade\n",
    "\n",
    "A imagem fornecida introduz vários conceitos fundamentais de probabilidade. Vamos explicá-los em detalhes:\n",
    "\n",
    "#### Probabilidade\n",
    "\n",
    "- **Definição**: Probabilidade é uma medida das chances de um evento ocorrer. Ela é representada por números que variam entre 0 e 1.\n",
    "  - **0** significa que o evento não pode ocorrer.\n",
    "  - **1** significa que o evento certamente ocorrerá.\n",
    "\n",
    "#### Representação Numérica\n",
    "\n",
    "- **Intervalo de Valores**: A probabilidade é expressa como um valor entre 0 e 1, que pode ser convertido em porcentagem multiplicando por 100.\n",
    "  - Exemplo: Uma probabilidade de 0,5 é equivalente a 50%.\n",
    "\n",
    "#### Exemplo: Jogar uma Moeda\n",
    "\n",
    "- **Probabilidade de Jogar uma Moeda**: Quando você joga uma moeda, existem dois resultados possíveis: cara ou coroa.\n",
    "  - Como a moeda tem duas faces, a probabilidade de cair cara (ou coroa) é $\\frac{1}{2}$.\n",
    "  - Isso pode ser representado como $\\frac{1}{2} = 0,5 = 50\\%$.\n",
    "\n",
    "#### Conceito de Tentativa (Trial)\n",
    "\n",
    "- **Tentativa**: O ato de jogar a moeda é chamado de tentativa ou experimento. Cada jogada é uma tentativa independente.\n",
    "\n",
    "#### Independência de Eventos\n",
    "\n",
    "- **Independência**: Cada jogada da moeda é independente da outra. Isso significa que o resultado de uma jogada não afeta o resultado da próxima jogada.\n",
    "  - Exemplo: Se você jogou uma moeda e obteve cara, a probabilidade de obter cara novamente na próxima jogada ainda é $\\frac{1}{2}$.\n",
    "\n",
    "#### Exemplo: Jogar um Dado\n",
    "\n",
    "- **Probabilidade de Jogar um Dado**: Quando você joga um dado de seis faces, cada face tem uma chance igual de aparecer.\n",
    "  - A probabilidade de obter qualquer número específico (por exemplo, 1) é $\\frac{1}{6}$.\n",
    "  - Isso pode ser representado como $\\frac{1}{6} \\approx 0,1667 \\approx 16\\%$.\n",
    "\n",
    "#### Resumo dos Conceitos:\n",
    "- **Probabilidade**: Medida das chances de um evento ocorrer.\n",
    "- **Representação**: Números entre 0 e 1.\n",
    "- **Exemplo de Moeda**: Probabilidade de cara ou coroa é $\\frac{1}{2}$.\n",
    "- **Tentativa**: Cada jogada é um experimento independente.\n",
    "- **Independência**: Resultados de tentativas não afetam tentativas subsequentes.\n",
    "- **Exemplo de Dado**: Probabilidade de qualquer número específico é $\\frac{1}{6}$.\n",
    "\n",
    "Esses conceitos são a base para entender eventos mais complexos e aplicações em várias áreas, incluindo jogos, previsões, e análise de dados"
   ]
  },
  {
   "cell_type": "markdown",
   "metadata": {},
   "source": [
    "### Experimento, Evento e Espaço Amostral\n",
    "\n",
    "A imagem fornecida define três conceitos fundamentais em probabilidade: experimento, evento e espaço amostral. Vamos explorá-los detalhadamente:\n",
    "\n",
    "#### Experimento\n",
    "\n",
    "- **Definição**: Um experimento é qualquer processo que gera um resultado observável. Em termos simples, é uma ação ou processo que pode ser repetido várias vezes e para o qual podemos observar e registrar resultados.\n",
    "  - **Exemplo**: Jogar uma moeda ou um dado é considerado um experimento. Cada tentativa de jogar a moeda ou o dado é um experimento.\n",
    "\n",
    "#### Evento\n",
    "\n",
    "- **Definição**: Um evento é o resultado individual de um experimento. Pode ser qualquer resultado possível que ocorra após a realização de um experimento.\n",
    "  - **Exemplo**: No caso de jogar uma moeda, os eventos possíveis são \"cara\" e \"coroa\".\n",
    "  - **Exemplo**: No caso de jogar um dado, os eventos possíveis são obter um dos números entre 1 e 6 (1, 2, 3, 4, 5, 6).\n",
    "\n",
    "#### Espaço Amostral\n",
    "\n",
    "- **Definição**: O espaço amostral é o conjunto de todos os possíveis eventos de um experimento. É uma lista completa de todos os resultados que podem ocorrer.\n",
    "  - **Exemplo**: Para uma moeda, o espaço amostral é {cara, coroa}.\n",
    "  - **Exemplo**: Para um dado, o espaço amostral é {1, 2, 3, 4, 5, 6}.\n",
    "\n",
    "### Exemplo Detalhado com um Dado\n",
    "\n",
    "Vamos aplicar esses conceitos ao exemplo de jogar um dado:\n",
    "\n",
    "- **Experimento**: Jogar um dado.\n",
    "  - Cada \"jogada\" é um experimento.\n",
    "\n",
    "- **Evento**: Qualquer número que aparece na face superior do dado após a jogada.\n",
    "  - Os possíveis eventos são 1, 2, 3, 4, 5, 6.\n",
    "\n",
    "- **Espaço Amostral**: O conjunto de todos os possíveis resultados desse experimento.\n",
    "  - Para um dado de seis faces, o espaço amostral é {E1, E2, E3, E4, E5, E6}, onde cada \\( E_i \\) representa a ocorrência de um número \\( i \\) na jogada.\n",
    "\n",
    "### Importância desses Conceitos\n",
    "\n",
    "Compreender esses conceitos é crucial para estudar e aplicar probabilidade porque:\n",
    "\n",
    "- **Experimentos** nos ajudam a definir a ação ou processo que estamos analisando.\n",
    "- **Eventos** nos permitem identificar e categorizar os possíveis resultados do experimento.\n",
    "- **Espaço Amostral** nos dá uma visão completa de todos os resultados possíveis, permitindo calcular probabilidades de eventos específicos.\n",
    "\n",
    "#### Exemplos Práticos\n",
    "\n",
    "1. **Moeda**:\n",
    "   - Experimento: Jogar uma moeda.\n",
    "   - Eventos: Cara, Coroa.\n",
    "   - Espaço Amostral: {Cara, Coroa}.\n",
    "\n",
    "2. **Dado**:\n",
    "   - Experimento: Jogar um dado.\n",
    "   - Eventos: 1, 2, 3, 4, 5, 6.\n",
    "   - Espaço Amostral: {1, 2, 3, 4, 5, 6}."
   ]
  },
  {
   "cell_type": "markdown",
   "metadata": {
    "id": "VN2wxPVyi4pa"
   },
   "source": [
    "### Importações"
   ]
  },
  {
   "cell_type": "code",
   "execution_count": 4,
   "metadata": {
    "id": "5mU_frgSdSPB",
    "scrolled": false
   },
   "outputs": [],
   "source": [
    "import numpy as np\n",
    "from scipy import stats\n",
    "import seaborn as sns"
   ]
  },
  {
   "cell_type": "markdown",
   "metadata": {
    "id": "AEJmt2ixPusB"
   },
   "source": [
    "## Permutação"
   ]
  },
  {
   "cell_type": "markdown",
   "metadata": {},
   "source": [
    "Permutação é um conceito fundamental na matemática e na probabilidade, que se refere à maneira de organizar ou rearranjar um conjunto de elementos. Diferentemente da combinação, onde a ordem dos elementos não importa, na permutação a ordem é crucial. \n",
    "\n",
    "#### Definição\n",
    "\n",
    "Uma permutação de um conjunto de elementos é uma sequência ou disposição dos elementos onde a ordem é importante. Se temos um conjunto de $n$ elementos distintos, o número de permutações possíveis desses $n$ elementos é dado por $n!$ (n fatorial).\n",
    "\n",
    "#### Fórmula\n",
    "\n",
    "A fórmula para calcular o número de permutações de $n$ elementos é:\n",
    "$n! = n \\times (n-1) \\times (n-2) \\times \\ldots \\times 1$\n",
    "\n",
    "Por exemplo, se temos três elementos $\\{a, b, c\\}$:\n",
    "$3! = 3 \\times 2 \\times 1 = 6$\n",
    "\n",
    "#### Permutação de Subconjuntos\n",
    "\n",
    "Às vezes, queremos permutar apenas $k$ elementos de um conjunto maior de $n$ elementos. A fórmula para isso é:\n",
    "$P(n, k) = \\frac{n!}{(n-k)!}$\n",
    "\n",
    "Aqui, $P(n, k)$ representa o número de maneiras de permutar $k$ elementos a partir de um conjunto de $n$ elementos.\n",
    "\n",
    "Por exemplo, para escolher e permutar 2 elementos a partir de um conjunto de 4 elementos $\\{a, b, c, d\\}$:\n",
    "$P(4, 2) = \\frac{4!}{(4-2)!} = \\frac{4 \\times 3 \\times 2 \\times 1}{2 \\times 1} = 12$\n",
    "\n",
    "\n",
    "#### Aplicações de Permutações\n",
    "\n",
    "Permutações são amplamente usadas em várias áreas, incluindo:\n",
    "\n",
    "1. **Combinatória**: Para contar e organizar elementos em diferentes arranjos.\n",
    "2. **Criptografia**: Para criar chaves seguras com base na ordem dos elementos.\n",
    "3. **Genética**: Para estudar a ordem dos genes e mutações.\n",
    "4. **Algoritmos**: Para otimizar e resolver problemas que envolvem diferentes sequências."
   ]
  },
  {
   "cell_type": "code",
   "execution_count": 5,
   "metadata": {
    "id": "EiJUzpLA2eSJ"
   },
   "outputs": [],
   "source": [
    "import math"
   ]
  },
  {
   "cell_type": "code",
   "execution_count": 6,
   "metadata": {
    "colab": {
     "base_uri": "https://localhost:8080/",
     "height": 55
    },
    "id": "jr0Yxwkw2gh8",
    "outputId": "4155c4e9-7578-4467-8113-384a1cacfde6"
   },
   "outputs": [
    {
     "data": {
      "text/plain": [
       "6"
      ]
     },
     "execution_count": 6,
     "metadata": {},
     "output_type": "execute_result"
    }
   ],
   "source": [
    "math.factorial(3)"
   ]
  },
  {
   "cell_type": "code",
   "execution_count": 7,
   "metadata": {
    "colab": {
     "base_uri": "https://localhost:8080/",
     "height": 55
    },
    "id": "6c3VT4oo3Gzw",
    "outputId": "1dfab60b-d21a-4731-82e9-a19658318c33"
   },
   "outputs": [
    {
     "data": {
      "text/plain": [
       "45239040.0"
      ]
     },
     "execution_count": 7,
     "metadata": {},
     "output_type": "execute_result"
    }
   ],
   "source": [
    "math.factorial(36) / math.factorial(36 - 5)"
   ]
  },
  {
   "cell_type": "code",
   "execution_count": 8,
   "metadata": {
    "colab": {
     "base_uri": "https://localhost:8080/",
     "height": 55
    },
    "id": "C0zvm5se3mSr",
    "outputId": "f4757dee-5d2f-4f82-fee5-25708051c15f"
   },
   "outputs": [
    {
     "data": {
      "text/plain": [
       "60466176.0"
      ]
     },
     "execution_count": 8,
     "metadata": {},
     "output_type": "execute_result"
    }
   ],
   "source": [
    "math.pow(36, 5)"
   ]
  },
  {
   "cell_type": "markdown",
   "metadata": {
    "id": "QDizneKGSQ7_"
   },
   "source": [
    "## Combinação"
   ]
  },
  {
   "cell_type": "markdown",
   "metadata": {},
   "source": [
    "Combinação é um conceito fundamental em matemática e probabilidade, que se refere à seleção de elementos de um conjunto sem levar em consideração a ordem desses elementos. Diferentemente da permutação, onde a ordem importa, na combinação a ordem dos elementos selecionados não importa.\n",
    "\n",
    "#### Definição\n",
    "\n",
    "Uma combinação de um conjunto de elementos é uma seleção de elementos onde a ordem não é importante. Se temos um conjunto de \\( n \\) elementos, e queremos selecionar \\( k \\) elementos desse conjunto, o número de combinações possíveis é dado por:\n",
    "\n",
    "$$C(n, k) = \\frac{n!}{k! \\times (n-k)!}$$\n",
    "\n",
    "Aqui, \\( C(n, k) \\) é lido como \"n escolher k\" e \\( n! \\) (n fatorial) representa o produto de todos os números inteiros positivos até \\( n \\).\n",
    "\n",
    "#### Fórmula\n",
    "\n",
    "A fórmula para calcular o número de combinações de \\( n \\) elementos tomados \\( k \\) de cada vez é:\n",
    "\n",
    "$$C(n, k) = \\frac{n!}{k! \\times (n-k)!}$$\n",
    "\n",
    "#### Exemplo\n",
    "\n",
    "Vamos calcular o número de maneiras de escolher 3 elementos de um conjunto de 5 elementos $$\\{a, b, c, d, e\\}$$:\n",
    "\n",
    "$$C(5, 3) = \\frac{5!}{3! \\times (5-3)!} = \\frac{5 \\times 4 \\times 3 \\times 2 \\times 1}{3 \\times 2 \\times 1 \\times 2 \\times 1} = \\frac{120}{12} = 10$$\n",
    "\n",
    "As combinações possíveis são:\n",
    "1. \\(\\{a, b, c\\}\\)\n",
    "2. \\(\\{a, b, d\\}\\)\n",
    "3. \\(\\{a, b, e\\}\\)\n",
    "4. \\(\\{a, c, d\\}\\)\n",
    "5. \\(\\{a, c, e\\}\\)\n",
    "6. \\(\\{a, d, e\\}\\)\n",
    "7. \\(\\{b, c, d\\}\\)\n",
    "8. \\(\\{b, c, e\\}\\)\n",
    "9. \\(\\{b, d, e\\}\\)\n",
    "10. \\(\\{c, d, e\\}\\)\n",
    "\n",
    "#### Aplicações de Combinações\n",
    "\n",
    "Combinações são amplamente utilizadas em diversas áreas, incluindo:\n",
    "\n",
    "1. **Estatística**: Para calcular a probabilidade de eventos onde a ordem dos resultados não importa.\n",
    "2. **Análise de Dados**: Para selecionar subconjuntos de dados para análise.\n",
    "3. **Genética**: Para estudar possíveis combinações de genes.\n",
    "4. **Ciência da Computação**: Para resolver problemas de otimização e seleção.\n",
    "\n",
    "### Diferença entre Permutação e Combinação\n",
    "\n",
    "- **Permutação**: A ordem dos elementos importa.\n",
    "  - Exemplo: As permutações de \\(\\{a, b, c\\}\\) são \\((a, b, c)\\), \\((a, c, b)\\), \\((b, a, c)\\), etc.\n",
    "- **Combinação**: A ordem dos elementos não importa.\n",
    "  - Exemplo: As combinações de \\(\\{a, b, c, d, e\\}\\) escolhendo 3 são \\(\\{a, b, c\\}\\), \\(\\{a, b, d\\}\\), \\(\\{a, b, e\\}\\), etc."
   ]
  },
  {
   "cell_type": "markdown",
   "metadata": {},
   "source": [
    "Número possível de arranjos em uma coleção (ordem não é importante). Quantas combinações de 2 letras podem ser feitas com ABCDEF?"
   ]
  },
  {
   "cell_type": "code",
   "execution_count": 9,
   "metadata": {
    "colab": {
     "base_uri": "https://localhost:8080/",
     "height": 55
    },
    "id": "_5-w97Gm4fW3",
    "outputId": "d6927c25-6dbc-434f-d856-53446e1b67bc"
   },
   "outputs": [
    {
     "data": {
      "text/plain": [
       "15.0"
      ]
     },
     "execution_count": 9,
     "metadata": {},
     "output_type": "execute_result"
    }
   ],
   "source": [
    "math.factorial(6) / (math.factorial(2) * math.factorial(6 - 2))"
   ]
  },
  {
   "cell_type": "code",
   "execution_count": 10,
   "metadata": {
    "colab": {
     "base_uri": "https://localhost:8080/"
    },
    "id": "hEDn2lJr4081",
    "outputId": "638e8e86-f17f-414e-bf5c-70c81f273c5b"
   },
   "outputs": [
    {
     "data": {
      "text/plain": [
       "21.0"
      ]
     },
     "execution_count": 10,
     "metadata": {},
     "output_type": "execute_result"
    }
   ],
   "source": [
    "math.factorial(6 + 2 - 1) / (math.factorial(2) * math.factorial(6 - 1))"
   ]
  },
  {
   "cell_type": "markdown",
   "metadata": {
    "id": "rjzVj9LMwpKI"
   },
   "source": [
    "## Interseção, união e diferença"
   ]
  },
  {
   "cell_type": "markdown",
   "metadata": {},
   "source": [
    "Vamos utilizar os conjuntos \\( A \\) e \\( B \\) fornecidos para ilustrar as operações de interseção, união e diferença. \n",
    "\n",
    "- \\( A = \\{0, 1, 2, 3, 4, 5, 6, 7\\} \\)\n",
    "- \\( B = \\{0, 2, 4, 6, 8\\} \\)\n",
    "\n",
    "#### Interseção (\\( \\cap \\))\n",
    "\n",
    "A interseção de \\( A \\) e \\( B \\) é o conjunto que contém todos os elementos comuns a \\( A \\) e \\( B \\).\n",
    "\n",
    "- **Notação**: \\( A \\cap B \\)\n",
    "- **Cálculo**: \n",
    "  - \\( A \\cap B = \\{0, 2, 4, 6\\} \\)\n",
    "\n",
    "#### União (\\( \\cup \\))\n",
    "\n",
    "A união de \\( A \\) e \\( B \\) é o conjunto que contém todos os elementos que estão em \\( A \\), em \\( B \\), ou em ambos.\n",
    "\n",
    "- **Notação**: \\( A \\cup B \\)\n",
    "- **Cálculo**: \n",
    "  - \\( A \\cup B = \\{0, 1, 2, 3, 4, 5, 6, 7, 8\\} \\)\n",
    "\n",
    "#### Diferença (\\( - \\))\n",
    "\n",
    "A diferença entre \\( A \\) e \\( B \\) é o conjunto que contém todos os elementos que estão em \\( A \\) mas não estão em \\( B \\).\n",
    "\n",
    "- **Notação**: \\( A - B \\)\n",
    "- **Cálculo**: \n",
    "  - \\( A - B = \\{1, 3, 5, 7\\} \\)\n",
    "  - \\( B - A = \\{8\\} \\)"
   ]
  },
  {
   "cell_type": "code",
   "execution_count": 11,
   "metadata": {
    "scrolled": true
   },
   "outputs": [],
   "source": [
    "### Visualização com Diagramas de Venn\n",
    "\n",
    "import matplotlib.pyplot as plt\n",
    "from matplotlib_venn import venn2\n",
    "\n",
    "# Definir os conjuntos\n",
    "A = {0, 1, 2, 3, 4, 5, 6, 7}\n",
    "B = {0, 2, 4, 6, 8}"
   ]
  },
  {
   "cell_type": "code",
   "execution_count": 12,
   "metadata": {},
   "outputs": [
    {
     "data": {
      "image/png": "[encoded data removed]",
      "text/plain": [
       "<Figure size 576x432 with 1 Axes>"
      ]
     },
     "metadata": {},
     "output_type": "display_data"
    }
   ],
   "source": [
    "# Interseção\n",
    "plt.figure(figsize=(8, 6))\n",
    "venn = venn2([A, B], ('A', 'B'))\n",
    "venn.get_label_by_id('10').set_text('')\n",
    "venn.get_label_by_id('01').set_text('')\n",
    "venn.get_label_by_id('11').set_text('0\\n2\\n4\\n6\\n8')\n",
    "plt.title('Interseção de A e B (A ∩ B)')\n",
    "plt.show()"
   ]
  },
  {
   "cell_type": "code",
   "execution_count": 13,
   "metadata": {},
   "outputs": [
    {
     "data": {
      "text/plain": [
       "{0, 2, 4, 6, 8}"
      ]
     },
     "execution_count": 13,
     "metadata": {},
     "output_type": "execute_result"
    }
   ],
   "source": [
    "set(A) and set(B)"
   ]
  },
  {
   "cell_type": "code",
   "execution_count": 14,
   "metadata": {},
   "outputs": [
    {
     "data": {
      "image/png": "[encoded data removed]",
      "text/plain": [
       "<Figure size 576x432 with 1 Axes>"
      ]
     },
     "metadata": {},
     "output_type": "display_data"
    }
   ],
   "source": [
    "# União\n",
    "plt.figure(figsize=(8, 6))\n",
    "venn = venn2([A, B], ('A', 'B'))\n",
    "venn.get_label_by_id('10').set_text('1\\n3\\n5\\n7')\n",
    "venn.get_label_by_id('01').set_text('8')\n",
    "venn.get_label_by_id('11').set_text('0\\n2\\n4\\n6')\n",
    "plt.title('União de A e B (A ∪ B)')\n",
    "plt.show()"
   ]
  },
  {
   "cell_type": "code",
   "execution_count": 15,
   "metadata": {},
   "outputs": [
    {
     "data": {
      "text/plain": [
       "{0, 1, 2, 3, 4, 5, 6, 7, 8}"
      ]
     },
     "execution_count": 15,
     "metadata": {},
     "output_type": "execute_result"
    }
   ],
   "source": [
    "set(A) | set(B)"
   ]
  },
  {
   "cell_type": "code",
   "execution_count": 16,
   "metadata": {},
   "outputs": [
    {
     "data": {
      "image/png": "[encoded data removed]",
      "text/plain": [
       "<Figure size 576x432 with 1 Axes>"
      ]
     },
     "metadata": {},
     "output_type": "display_data"
    }
   ],
   "source": [
    "# Diferença A - B\n",
    "plt.figure(figsize=(8, 6))\n",
    "venn = venn2([A, B], ('A', 'B'))\n",
    "venn.get_label_by_id('10').set_text('1\\n3\\n5\\n7')\n",
    "venn.get_label_by_id('01').set_text('')\n",
    "venn.get_label_by_id('11').set_text('')\n",
    "plt.title('Diferença de A e B (A - B)')\n",
    "plt.show()"
   ]
  },
  {
   "cell_type": "code",
   "execution_count": 17,
   "metadata": {},
   "outputs": [
    {
     "data": {
      "text/plain": [
       "{1, 3, 5, 7}"
      ]
     },
     "execution_count": 17,
     "metadata": {},
     "output_type": "execute_result"
    }
   ],
   "source": [
    "set(A).difference(set(B))"
   ]
  },
  {
   "cell_type": "code",
   "execution_count": 18,
   "metadata": {
    "scrolled": true
   },
   "outputs": [
    {
     "data": {
      "image/png": "[encoded data removed]",
      "text/plain": [
       "<Figure size 576x432 with 1 Axes>"
      ]
     },
     "metadata": {},
     "output_type": "display_data"
    }
   ],
   "source": [
    "# Diferença B - A\n",
    "plt.figure(figsize=(8, 6))\n",
    "venn = venn2([A, B], ('A', 'B'))\n",
    "venn.get_label_by_id('10').set_text('')\n",
    "venn.get_label_by_id('01').set_text('8')\n",
    "venn.get_label_by_id('11').set_text('')\n",
    "plt.title('Diferença de B e A (B - A)')\n",
    "plt.show()"
   ]
  },
  {
   "cell_type": "code",
   "execution_count": 19,
   "metadata": {},
   "outputs": [
    {
     "data": {
      "text/plain": [
       "{8}"
      ]
     },
     "execution_count": 19,
     "metadata": {},
     "output_type": "execute_result"
    }
   ],
   "source": [
    "set(B).difference(set(A))"
   ]
  },
  {
   "cell_type": "markdown",
   "metadata": {},
   "source": [
    "### Eventos Dependentes e Independentes\n",
    "\n",
    "No estudo da probabilidade, é importante entender a diferença entre eventos dependentes e independentes. Essa distinção ajuda a determinar como a ocorrência de um evento afeta a probabilidade de outro evento.\n",
    "\n",
    "#### Eventos Independentes\n",
    "\n",
    "Dois eventos são considerados independentes se a ocorrência de um evento não afeta a ocorrência do outro evento. Em outras palavras, o resultado de um evento não fornece nenhuma informação sobre o resultado do outro evento.\n",
    "\n",
    "- **Exemplo**:\n",
    "  - **Jogadas de Moeda**: Suponha que você jogue uma moeda duas vezes. O resultado da primeira jogada (cara ou coroa) não afeta o resultado da segunda jogada. Esses eventos são independentes.\n",
    "\n",
    "- **Fórmula**:\n",
    "  - Para eventos \\(A\\) e \\(B\\) independentes, a probabilidade de ambos ocorrerem (\\(P(A \\cap B)\\)) é o produto de suas probabilidades individuais:\n",
    "    $$\n",
    "    P(A \\cap B) = P(A) \\times P(B)\n",
    "    $$\n",
    "\n",
    "#### Eventos Dependentes\n",
    "\n",
    "Dois eventos são considerados dependentes se a ocorrência de um evento afeta a ocorrência do outro evento. Em outras palavras, o resultado de um evento fornece informações sobre a probabilidade do outro evento.\n",
    "\n",
    "- **Exemplo**:\n",
    "  - **Sorteio de Cartas**: Suponha que você tenha um baralho de 52 cartas e tire uma carta. Se você não devolver a carta ao baralho, a probabilidade de tirar uma segunda carta específica será afetada pela primeira carta retirada. Esses eventos são dependentes.\n",
    "\n",
    "- **Fórmula**:\n",
    "  - Para eventos \\(A\\) e \\(B\\) dependentes, a probabilidade de ambos ocorrerem (\\(P(A \\cap B)\\)) é a probabilidade de \\(A\\) multiplicada pela probabilidade de \\(B\\) dado que \\(A\\) ocorreu:\n",
    "    $$\n",
    "    P(A \\cap B) = P(A) \\times P(B|A)\n",
    "    $$\n",
    "  - Aqui, \\(P(B|A)\\) é a probabilidade de \\(B\\) ocorrer dado que \\(A\\) já ocorreu.\n",
    "\n",
    "### Exemplos Detalhados\n",
    "\n",
    "#### Exemplo 1: Eventos Independentes\n",
    "\n",
    "Vamos considerar um exemplo prático para entender eventos independentes:\n",
    "\n",
    "- **Experimento**: Jogar dois dados.\n",
    "  - Evento \\(A\\): O primeiro dado mostra um 3.\n",
    "  - Evento \\(B\\): O segundo dado mostra um 5.\n",
    "\n",
    "A probabilidade de \\(A\\) ocorrer é:\n",
    "$$\n",
    "P(A) = \\frac{1}{6}\n",
    "$$\n",
    "\n",
    "A probabilidade de \\(B\\) ocorrer é:\n",
    "$$\n",
    "P(B) = \\frac{1}{6}\n",
    "$$\n",
    "\n",
    "Como os eventos são independentes, a probabilidade de ambos \\(A\\) e \\(B\\) ocorrerem é:\n",
    "$$\n",
    "P(A \\cap B) = P(A) \\times P(B) = \\frac{1}{6} \\times \\frac{1}{6} = \\frac{1}{36}\n",
    "$$\n",
    "\n",
    "#### Exemplo 2: Eventos Dependentes\n",
    "\n",
    "Vamos considerar um exemplo prático para entender eventos dependentes:\n",
    "\n",
    "- **Experimento**: Sorteio de duas cartas de um baralho de 52 cartas, sem reposição.\n",
    "  - Evento \\(A\\): A primeira carta é um Ás.\n",
    "  - Evento \\(B\\): A segunda carta é um Rei, dado que a primeira carta foi um Ás.\n",
    "\n",
    "A probabilidade de \\(A\\) ocorrer é:\n",
    "$$\n",
    "P(A) = \\frac{4}{52} = \\frac{1}{13}\n",
    "$$\n",
    "\n",
    "Após a primeira carta ser retirada (um Ás), restam 51 cartas no baralho. A probabilidade de \\(B\\) ocorrer, dado que \\(A\\) já ocorreu, é:\n",
    "$$\n",
    "P(B|A) = \\frac{4}{51}\n",
    "$$\n",
    "\n",
    "A probabilidade de ambos \\(A\\) e \\(B\\) ocorrerem é:\n",
    "$$\n",
    "P(A \\cap B) = P(A) \\times P(B|A) = \\frac{1}{13} \\times \\frac{4}{51} = \\frac{4}{663}\n",
    "$$"
   ]
  },
  {
   "cell_type": "markdown",
   "metadata": {},
   "source": [
    "### Redes Bayesianas e Probabilidade Condicional\n",
    "\n",
    "**Redes Bayesianas** são modelos gráficos que representam um conjunto de variáveis aleatórias e suas dependências condicionais por meio de um grafo acíclico direcionado (DAG - Directed Acyclic Graph). Cada nó no grafo representa uma variável aleatória, enquanto as arestas direcionadas entre os nós indicam dependências condicionais entre as variáveis.\n",
    "\n",
    "#### Probabilidade Condicional\n",
    "\n",
    "A probabilidade condicional é a probabilidade de um evento ocorrer dado que outro evento já ocorreu. A notação para a probabilidade condicional de \\(A\\) dado \\(B\\) é \\(P(A|B)\\).\n",
    "\n",
    "#### Regra do Produto\n",
    "\n",
    "A regra do produto é uma maneira de decompor a probabilidade conjunta de dois eventos. Para eventos \\(A\\) e \\(B\\), a probabilidade conjunta \\(P(A \\cap B)\\) pode ser expressa como:\n",
    "$$ P(A \\cap B) = P(A|B) \\times P(B) $$\n",
    "ou\n",
    "$$ P(A \\cap B) = P(B|A) \\times P(A) $$\n",
    "\n",
    "#### Exemplo: Problema do Alarme\n",
    "\n",
    "Considere o exemplo de um sistema de alarme que pode ser acionado por um ladrão ou um terremoto. Você tem dois vizinhos, João e Maria, que prometem ligar se ouvirem o alarme. No entanto, João às vezes confunde o telefone com o alarme, e Maria pode não ouvir o alarme se estiver ouvindo música alta.\n",
    "\n",
    "Vamos usar uma rede bayesiana para modelar este problema.\n",
    "\n",
    "##### Variáveis\n",
    "- \\(A\\): Alarme soa.\n",
    "- \\(L\\): Ladrão.\n",
    "- \\(T\\): Terremoto.\n",
    "- \\(J\\): João liga.\n",
    "- \\(M\\): Maria liga.\n",
    "\n",
    "##### Dependências Condicionais\n",
    "- O alarme \\(A\\) depende de \\(L\\) (ladrão) e \\(T\\) (terremoto).\n",
    "- João \\(J\\) e Maria \\(M\\) dependem do alarme \\(A\\).\n",
    "\n",
    "##### Probabilidades\n",
    "1. \\(P(L)\\): Probabilidade de um ladrão invadir.\n",
    "2. \\(P(T)\\): Probabilidade de um terremoto ocorrer.\n",
    "3. \\(P(A|L, T)\\): Probabilidade do alarme soar dado que um ladrão invadiu e/ou um terremoto ocorreu.\n",
    "4. \\(P(J|A)\\): Probabilidade de João ligar dado que o alarme soou.\n",
    "5. \\(P(M|A)\\): Probabilidade de Maria ligar dado que o alarme soou.\n",
    "\n",
    "##### Calculo da Probabilidade Conjunta\n",
    "\n",
    "Queremos calcular a probabilidade de o alarme ter tocado, mas nenhum ladrão nem um terremoto aconteceram, e ambos, João e Maria, ligaram:\n",
    "$$ P(J \\cap M \\cap A \\cap \\neg L \\cap \\neg T) = P(J|A) \\times P(M|A) \\times P(A|\\neg L \\cap \\neg T) \\times P(\\neg L) \\times P(\\neg T) $$\n",
    "\n",
    "Utilizando os valores fornecidos:\n",
    "- \\(P(J|A) = 0.9\\)\n",
    "- \\(P(M|A) = 0.7\\)\n",
    "- \\(P(A|\\neg L \\cap \\neg T) = 0.001\\)\n",
    "- \\(P(\\neg L) = 0.999\\)\n",
    "- \\(P(\\neg T) = 0.998\\)\n",
    "\n",
    "Temos:\n",
    "$$ P(J \\cap M \\cap A \\cap \\neg L \\cap \\neg T) = 0.9 \\times 0.7 \\times 0.001 \\times 0.999 \\times 0.998 $$\n",
    "$$ = 0.00062 $$"
   ]
  },
  {
   "cell_type": "markdown",
   "metadata": {},
   "source": [
    "### Visualização da Rede Bayesiana com `pydot`"
   ]
  },
  {
   "cell_type": "code",
   "execution_count": 20,
   "metadata": {},
   "outputs": [
    {
     "data": {
      "image/png": "[encoded data removed]",
      "text/plain": [
       "<IPython.core.display.Image object>"
      ]
     },
     "metadata": {},
     "output_type": "display_data"
    }
   ],
   "source": [
    "import pydot\n",
    "from IPython.display import Image, display\n",
    "\n",
    "# Definir a estrutura da rede bayesiana\n",
    "edges = [\n",
    "    ('Ladrão', 'Alarme'),\n",
    "    ('Terremoto', 'Alarme'),\n",
    "    ('Alarme', 'JoãoLigar'),\n",
    "    ('Alarme', 'MariaLigar')\n",
    "]\n",
    "\n",
    "# Criar o grafo\n",
    "graph = pydot.Dot(graph_type='digraph')\n",
    "\n",
    "# Adicionar os nós\n",
    "nodes = ['Ladrão', 'Terremoto', 'Alarme', 'JoãoLigar', 'MariaLigar']\n",
    "for node in nodes:\n",
    "    graph.add_node(pydot.Node(node))\n",
    "\n",
    "# Adicionar as arestas\n",
    "for edge in edges:\n",
    "    graph.add_edge(pydot.Edge(edge[0], edge[1]))\n",
    "\n",
    "# Salvar e exibir o gráfico\n",
    "graph.write_png('bayesian_network.png')\n",
    "display(Image(filename='bayesian_network.png'))"
   ]
  },
  {
   "cell_type": "markdown",
   "metadata": {},
   "source": [
    "### Cálculo das Probabilidades"
   ]
  },
  {
   "cell_type": "code",
   "execution_count": 21,
   "metadata": {},
   "outputs": [
    {
     "name": "stdout",
     "output_type": "stream",
     "text": [
      "Probabilidade P(J ∩ M ∩ A ∩ ¬L ∩ ¬T): 0.0006281112599999999\n"
     ]
    }
   ],
   "source": [
    "# Definindo as distribuições de probabilidade\n",
    "P_L = {'sim': 0.001, 'não': 0.999}\n",
    "P_T = {'sim': 0.002, 'não': 0.998}\n",
    "\n",
    "# Distribuição condicional para o alarme\n",
    "P_A_given_LT = {\n",
    "    ('sim', 'sim'): {'sim': 0.95, 'não': 0.05},\n",
    "    ('sim', 'não'): {'sim': 0.94, 'não': 0.06},\n",
    "    ('não', 'sim'): {'sim': 0.29, 'não': 0.71},\n",
    "    ('não', 'não'): {'sim': 0.001, 'não': 0.999}\n",
    "}\n",
    "\n",
    "# Distribuição condicional para João ligar\n",
    "P_J_given_A = {'sim': 0.9, 'não': 0.1}\n",
    "P_J_given_notA = {'sim': 0.05, 'não': 0.95}\n",
    "\n",
    "# Distribuição condicional para Maria ligar\n",
    "P_M_given_A = {'sim': 0.7, 'não': 0.3}\n",
    "P_M_given_notA = {'sim': 0.01, 'não': 0.99}\n",
    "\n",
    "# Calcular a probabilidade P(J ∩ M ∩ A ∩ ¬L ∩ ¬T)\n",
    "P_J_given_A = 0.9\n",
    "P_M_given_A = 0.7\n",
    "P_A_given_notL_notT = 0.001\n",
    "P_notL = 0.999\n",
    "P_notT = 0.998\n",
    "\n",
    "result = P_J_given_A * P_M_given_A * P_A_given_notL_notT * P_notL * P_notT\n",
    "print(\"Probabilidade P(J ∩ M ∩ A ∩ ¬L ∩ ¬T):\", result)"
   ]
  },
  {
   "cell_type": "markdown",
   "metadata": {},
   "source": [
    "1. **Visualização com `pydot`**:\n",
    "   - Definimos a estrutura da rede bayesiana com nós e arestas que representam as variáveis e suas dependências condicionais.\n",
    "   - Usamos `pydot` para criar um grafo direcionado (DAG) e visualizá-lo como uma imagem PNG.\n",
    "\n",
    "2. **Cálculo das Probabilidades**:\n",
    "   - Definimos as distribuições de probabilidade para cada variável e as distribuições condicionais para as dependências.\n",
    "   - Calculamos a probabilidade conjunta \\(P(J \\cap M \\cap A \\cap \\neg L \\cap \\neg T)\\) usando as probabilidades condicionais e a regra da cadeia."
   ]
  },
  {
   "cell_type": "markdown",
   "metadata": {},
   "source": [
    "O código acima permite que você visualize a estrutura da rede bayesiana utilizando `pydot` e calcule a probabilidade de múltiplos eventos interdependentes manualmente. A visualização ajuda a entender as relações condicionais entre as variáveis, enquanto o cálculo manual demonstra como aplicar as regras de probabilidade condicional para inferir a probabilidade de eventos específicos."
   ]
  },
  {
   "cell_type": "markdown",
   "metadata": {},
   "source": [
    "### Naive Bayes\n",
    "\n",
    "#### Tabela 1: Dados de Treinamento\n",
    "\n",
    "| História do crédito | Dívida | Garantias | Renda anual           | Risco    |\n",
    "|---------------------|--------|-----------|-----------------------|----------|\n",
    "| Ruim                | Alta   | Nenhuma   | < 15.000              | Alto     |\n",
    "| Desconhecida        | Alta   | Nenhuma   | >= 15.000 a <= 35.000 | Alto     |\n",
    "| Desconhecida        | Baixa  | Nenhuma   | >= 15.000 a <= 35.000 | Moderado |\n",
    "| Desconhecida        | Baixa  | Nenhuma   | < 15.000              | Alto     |\n",
    "| Desconhecida        | Baixa  | Nenhuma   | > 35.000              | Baixo    |\n",
    "| Desconhecida        | Baixa  | Adequada  | > 35.000              | Baixo    |\n",
    "| Ruim                | Baixa  | Nenhuma   | < 15.000              | Alto     |\n",
    "| Ruim                | Baixa  | Adequada  | > 35.000              | Moderado |\n",
    "| Boa                 | Baixa  | Nenhuma   | > 35.000              | Baixo    |\n",
    "| Boa                 | Alta   | Adequada  | > 35.000              | Baixo    |\n",
    "| Boa                 | Alta   | Nenhuma   | < 15.000              | Alto     |\n",
    "| Boa                 | Alta   | Nenhuma   | >= 15.000 a <= 35.000 | Moderado |\n",
    "| Boa                 | Alta   | Nenhuma   | > 35.000              | Baixo    |\n",
    "| Ruim                | Alta   | Nenhuma   | >= 15.000 a <= 35.000 | Alto     |\n",
    "\n",
    "#### Tabela 2: Probabilidades Condicionais\n",
    "\n",
    "| Risco de crédito | História do crédito |          | Dívida |         | Garantias |          | Renda anual |                    |\n",
    "|------------------|---------------------|----------|--------|---------|-----------|----------|-------------|--------------------|\n",
    "|                  | Boa                 | Desconhecida | Ruim  | Alta   | Baixa   | Nenhuma  | Adequada | < 15.000 | >= 15.000 a <= 35.000 | > 35.000 |\n",
    "| Alto (6/14)      | 1/6                 | 2/6          | 3/6   | 4/6    | 2/6     | 6/6      | 0        | 3/6    | 2/6                 | 1/6      |\n",
    "| Moderado (3/14)  | 1/3                 | 1/3          | 1/3   | 1/3    | 2/3     | 2/3      | 1/3      | 0      | 2/3                 | 1/3      |\n",
    "| Baixo (5/14)     | 3/5                 | 2/5          | 0     | 2/5    | 3/5     | 3/5      | 2/5      | 0      | 0                   | 5/5      |\n",
    "\n",
    "### Explicação do Naive Bayes\n",
    "\n",
    "O Naive Bayes é um algoritmo de classificação que utiliza o Teorema de Bayes com a suposição de independência entre os atributos. \n",
    "\n",
    "#### Teorema de Bayes\n",
    "\n",
    "O teorema de Bayes é expresso pela fórmula:\n",
    "\n",
    "$$\n",
    "P(C | X) = \\frac{P(X | C) \\cdot P(C)}{P(X)}\n",
    "$$\n",
    "\n",
    "Onde:\n",
    "- \\(P(C | X)\\) é a probabilidade da classe \\(C\\) dado o vetor de atributos \\(X\\).\n",
    "- \\(P(X | C)\\) é a probabilidade de observar o vetor de atributos \\(X\\) dado que a classe é \\(C\\).\n",
    "- \\(P(C)\\) é a probabilidade a priori da classe \\(C\\).\n",
    "- \\(P(X)\\) é a probabilidade a priori do vetor de atributos \\(X\\).\n",
    "\n",
    "### Exemplo de Cálculo\n",
    "\n",
    "Vamos classificar um exemplo com as seguintes características:\n",
    "- História do crédito: Boa\n",
    "- Dívida: Alta\n",
    "- Garantias: Nenhuma\n",
    "- Renda anual: > 35.000\n",
    "\n",
    "#### Calcular a probabilidade de cada classe:\n",
    "\n",
    "##### Classe: Alto\n",
    "\n",
    "$$\n",
    "P(Alto | X) = P(História = Boa | Alto) \\cdot P(Dívida = Alta | Alto) \\cdot P(Garantias = Nenhuma | Alto) \\cdot P(Renda > 35.000 | Alto) \\cdot P(Alto)\n",
    "$$\n",
    "\n",
    "Substituindo os valores da segunda tabela:\n",
    "\n",
    "$$\n",
    "P(Alto | X) = \\left(\\frac{1}{6}\\right) \\cdot \\left(\\frac{4}{6}\\right) \\cdot \\left(\\frac{6}{6}\\right) \\cdot \\left(\\frac{1}{6}\\right) \\cdot \\left(\\frac{6}{14}\\right)\n",
    "$$\n",
    "\n",
    "Calculando:\n",
    "\n",
    "$$\n",
    "P(Alto | X) = \\left(\\frac{1}{6}\\right) \\cdot \\left(\\frac{4}{6}\\right) \\cdot 1 \\cdot \\left(\\frac{1}{6}\\right) \\cdot \\left(\\frac{6}{14}\\right)\n",
    "$$\n",
    "\n",
    "$$\n",
    "P(Alto | X) = \\left(\\frac{1}{6} \\cdot \\frac{4}{6} \\cdot \\frac{1}{6} \\cdot \\frac{6}{14}\\right) = \\frac{1}{6} \\cdot \\frac{4}{6} \\cdot \\frac{1}{6} \\cdot \\frac{6}{14} = \\frac{4}{3024} = \\frac{1}{756}\n",
    "$$\n",
    "\n",
    "##### Classe: Moderado\n",
    "\n",
    "$$\n",
    "P(Moderado | X) = P(História = Boa | Moderado) \\cdot P(Dívida = Alta | Moderado) \\cdot P(Garantias = Nenhuma | Moderado) \\cdot P(Renda > 35.000 | Moderado) \\cdot P(Moderado)\n",
    "$$\n",
    "\n",
    "Substituindo os valores da segunda tabela:\n",
    "\n",
    "$$\n",
    "P(Moderado | X) = \\left(\\frac{1}{3}\\right) \\cdot \\left(\\frac{1}{3}\\right) \\cdot \\left(\\frac{2}{3}\\right) \\cdot \\left(\\frac{1}{3}\\right) \\cdot \\left(\\frac{3}{14}\\right)\n",
    "$$\n",
    "\n",
    "Calculando:\n",
    "\n",
    "$$\n",
    "P(Moderado | X) = \\left(\\frac{1}{3}\\right) \\cdot \\left(\\frac{1}{3}\\right) \\cdot \\left(\\frac{2}{3}\\right) \\cdot \\left(\\frac{1}{3}\\right) \\cdot \\left(\\frac{3}{14}\\right) = \\frac{1}{3} \\cdot \\frac{1}{3} \\cdot \\frac{2}{3} \\cdot \\frac{1}{3} \\cdot \\frac{3}{14} = \\frac{2}{1134} = \\frac{1}{567}\n",
    "$$\n",
    "\n",
    "##### Classe: Baixo\n",
    "\n",
    "$$\n",
    "P(Baixo | X) = P(História = Boa | Baixo) \\cdot P(Dívida = Alta | Baixo) \\cdot P(Garantias = Nenhuma | Baixo) \\cdot P(Renda > 35.000 | Baixo) \\cdot P(Baixo)\n",
    "$$\n",
    "\n",
    "Substituindo os valores da segunda tabela:\n",
    "\n",
    "$$\n",
    "P(Baixo | X) = \\left(\\frac{3}{5}\\right) \\cdot \\left(\\frac{2}{5}\\right) \\cdot \\left(\\frac{3}{5}\\right) \\cdot \\left(\\frac{5}{5}\\right) \\cdot \\left(\\frac{5}{14}\\right)\n",
    "$$\n",
    "\n",
    "Calculando:\n",
    "\n",
    "$$\n",
    "P(Baixo | X) = \\left(\\frac{3}{5}\\right) \\cdot \\left(\\frac{2}{5}\\right) \\cdot \\left(\\frac{3}{5}\\right) \\cdot 1 \\cdot \\left(\\frac{5}{14}\\right) = \\frac{3}{5} \\cdot \\frac{2}{5} \\cdot \\frac{3}{5} \\cdot \\frac{5}{14} = \\frac{18}{3500} = \\frac{9}{1750}\n",
    "$$\n",
    "\n",
    "\n",
    "Os resultados das probabilidades para cada classe são comparados, e a classe com a maior probabilidade é escolhida como a classificação para o novo exemplo. Neste caso, comparamos $\\frac{1}{756}\\), \\(\\frac{1}{567}\\), e \\(\\frac{9}{1750}$ para determinar a classe com maior probabilidade.\n",
    "\n",
    "O algoritmo Naive Bayes simplifica a classificação ao assumir a independência condicional dos atributos dados a classe alvo, o que pode ser muito eficaz em muitos cenários práticos, apesar dessa suposição nem sempre ser verdadeira na prática."
   ]
  },
  {
   "cell_type": "markdown",
   "metadata": {
    "id": "41Peje9kdJya"
   },
   "source": [
    "## Probabilidade e distribuição normal\n",
    "\n",
    "- https://docs.scipy.org/doc/scipy/reference/generated/scipy.stats.norm.html"
   ]
  },
  {
   "cell_type": "code",
   "execution_count": 22,
   "metadata": {
    "id": "ETnewxE8dMkE"
   },
   "outputs": [],
   "source": [
    "dados = np.array([126. , 129.5, 133. , 133. , 136.5, 136.5, 140. , 140. , 140. ,\n",
    "                  140. , 143.5, 143.5, 143.5, 143.5, 143.5, 143.5, 147. , 147. ,\n",
    "                  147. , 147. , 147. , 147. , 147. , 150.5, 150.5, 150.5, 150.5,\n",
    "                  150.5, 150.5, 150.5, 150.5, 154. , 154. , 154. , 154. , 154. ,\n",
    "                  154. , 154. , 154. , 154. , 157.5, 157.5, 157.5, 157.5, 157.5,\n",
    "                  157.5, 157.5, 157.5, 157.5, 157.5, 161. , 161. , 161. , 161. ,\n",
    "                  161. , 161. , 161. , 161. , 161. , 161. , 164.5, 164.5, 164.5,\n",
    "                  164.5, 164.5, 164.5, 164.5, 164.5, 164.5, 168. , 168. , 168. ,\n",
    "                  168. , 168. , 168. , 168. , 168. , 171.5, 171.5, 171.5, 171.5,\n",
    "                  171.5, 171.5, 171.5, 175. , 175. , 175. , 175. , 175. , 175. ,\n",
    "                  178.5, 178.5, 178.5, 178.5, 182. , 182. , 185.5, 185.5, 189., 192.5])"
   ]
  },
  {
   "cell_type": "code",
   "execution_count": 23,
   "metadata": {
    "colab": {
     "base_uri": "https://localhost:8080/",
     "height": 285
    },
    "id": "7XxtDthfHm8Q",
    "outputId": "90ce98d8-f1bf-4b6d-8eff-d66e941ded5e"
   },
   "outputs": [
    {
     "name": "stderr",
     "output_type": "stream",
     "text": [
      "C:\\Users\\yanks\\anaconda3\\lib\\site-packages\\seaborn\\distributions.py:2619: FutureWarning: `distplot` is a deprecated function and will be removed in a future version. Please adapt your code to use either `displot` (a figure-level function with similar flexibility) or `histplot` (an axes-level function for histograms).\n",
      "  warnings.warn(msg, FutureWarning)\n"
     ]
    },
    {
     "data": {
      "image/png": "[encoded data removed]",
      "text/plain": [
       "<Figure size 432x288 with 1 Axes>"
      ]
     },
     "metadata": {
      "needs_background": "light"
     },
     "output_type": "display_data"
    }
   ],
   "source": [
    "sns.distplot(dados);"
   ]
  },
  {
   "cell_type": "code",
   "execution_count": 24,
   "metadata": {
    "colab": {
     "base_uri": "https://localhost:8080/",
     "height": 55
    },
    "id": "rCcV31SsH9ak",
    "outputId": "c566d7e3-b1b0-4e75-ba3d-b015563f298a"
   },
   "outputs": [
    {
     "data": {
      "text/plain": [
       "(159.25, 13.65)"
      ]
     },
     "execution_count": 24,
     "metadata": {},
     "output_type": "execute_result"
    }
   ],
   "source": [
    "media = np.mean(dados)\n",
    "desvio_padrao = np.std(dados)\n",
    "media, desvio_padrao"
   ]
  },
  {
   "cell_type": "code",
   "execution_count": 25,
   "metadata": {
    "colab": {
     "base_uri": "https://localhost:8080/",
     "height": 55
    },
    "id": "GjYpLIT_IKHI",
    "outputId": "ee09c087-3f3c-40c5-f70d-5ea77ef09eda"
   },
   "outputs": [
    {
     "data": {
      "text/plain": [
       "array([150.5 , 159.25, 168.  ])"
      ]
     },
     "execution_count": 25,
     "metadata": {},
     "output_type": "execute_result"
    }
   ],
   "source": [
    "np.quantile(dados, [0.25, 0.50, 0.75])"
   ]
  },
  {
   "cell_type": "code",
   "execution_count": 26,
   "metadata": {},
   "outputs": [],
   "source": [
    "# Calcular Q1, Q2 (mediana) e Q3\n",
    "Q1 = np.percentile(dados, 25)\n",
    "Q2 = np.percentile(dados, 50)\n",
    "Q3 = np.percentile(dados, 75)"
   ]
  },
  {
   "cell_type": "code",
   "execution_count": 27,
   "metadata": {},
   "outputs": [
    {
     "data": {
      "image/png": "[encoded data removed]",
      "text/plain": [
       "<Figure size 720x432 with 1 Axes>"
      ]
     },
     "metadata": {
      "needs_background": "light"
     },
     "output_type": "display_data"
    }
   ],
   "source": [
    "# Criar o gráfico de box plot\n",
    "plt.figure(figsize=(10, 6))\n",
    "plt.boxplot(dados, vert=False)\n",
    "plt.title('Box Plot dos Dados')\n",
    "plt.xlabel('Valores')\n",
    "\n",
    "# Adicionar linhas verticais para Q1, Q2 e Q3\n",
    "plt.axvline(Q1, color='r', linestyle='--', label=f'Q1: {Q1}')\n",
    "plt.axvline(Q2, color='g', linestyle='--', label=f'Q2 (Mediana): {Q2}')\n",
    "plt.axvline(Q3, color='b', linestyle='--', label=f'Q3: {Q3}')\n",
    "\n",
    "# Adicionar legenda\n",
    "plt.legend()\n",
    "\n",
    "# Mostrar o gráfico\n",
    "plt.show()"
   ]
  },
  {
   "cell_type": "markdown",
   "metadata": {
    "id": "CKW7Fregd1LF"
   },
   "source": [
    "### Calcular a probabilidade de selecionar uma pessoa em Q1"
   ]
  },
  {
   "cell_type": "code",
   "execution_count": 28,
   "metadata": {
    "colab": {
     "base_uri": "https://localhost:8080/",
     "height": 55
    },
    "id": "JMVXF36PIesF",
    "outputId": "f1ddb1cd-11a3-4ec6-c687-ac1b7c7552bb"
   },
   "outputs": [
    {
     "data": {
      "text/plain": [
       "-0.641025641025641"
      ]
     },
     "execution_count": 28,
     "metadata": {},
     "output_type": "execute_result"
    }
   ],
   "source": [
    "(150.5 - media) / desvio_padrao"
   ]
  },
  {
   "cell_type": "code",
   "execution_count": 29,
   "metadata": {
    "colab": {
     "base_uri": "https://localhost:8080/",
     "height": 55
    },
    "id": "HOAbK1rTMzfM",
    "outputId": "7d5f95a3-7068-4cc0-88d1-a4275292edfe"
   },
   "outputs": [
    {
     "data": {
      "text/plain": [
       "0.26075301195608336"
      ]
     },
     "execution_count": 29,
     "metadata": {},
     "output_type": "execute_result"
    }
   ],
   "source": [
    "stats.norm.cdf(150.5, media, desvio_padrao)"
   ]
  },
  {
   "cell_type": "markdown",
   "metadata": {
    "id": "sOBWHav0f4XF"
   },
   "source": [
    "### Calcular a probabilidade de selecionar uma pessoa em Q3"
   ]
  },
  {
   "cell_type": "code",
   "execution_count": 30,
   "metadata": {
    "colab": {
     "base_uri": "https://localhost:8080/",
     "height": 55
    },
    "id": "evKG6H16Jv_b",
    "outputId": "2f2bd53c-7972-45df-91e3-4dd1a5e0b65c"
   },
   "outputs": [
    {
     "data": {
      "text/plain": [
       "0.641025641025641"
      ]
     },
     "execution_count": 30,
     "metadata": {},
     "output_type": "execute_result"
    }
   ],
   "source": [
    "(168 - media) / desvio_padrao"
   ]
  },
  {
   "cell_type": "code",
   "execution_count": 31,
   "metadata": {
    "colab": {
     "base_uri": "https://localhost:8080/",
     "height": 55
    },
    "id": "XDUJF8WZNE-9",
    "outputId": "93c7118d-8aba-4379-c04c-89139f41beca"
   },
   "outputs": [
    {
     "data": {
      "text/plain": [
       "0.26075301195608336"
      ]
     },
     "execution_count": 31,
     "metadata": {},
     "output_type": "execute_result"
    }
   ],
   "source": [
    "1 - stats.norm.cdf(168, media, desvio_padrao)"
   ]
  },
  {
   "cell_type": "code",
   "execution_count": 32,
   "metadata": {
    "colab": {
     "base_uri": "https://localhost:8080/",
     "height": 55
    },
    "id": "yGR4hjW3NT_D",
    "outputId": "41dace31-16c3-4078-ee53-e8f29a455cca",
    "scrolled": true
   },
   "outputs": [
    {
     "data": {
      "text/plain": [
       "0.26075301195608336"
      ]
     },
     "execution_count": 32,
     "metadata": {},
     "output_type": "execute_result"
    }
   ],
   "source": [
    "stats.norm.sf(168, media, desvio_padrao)"
   ]
  },
  {
   "cell_type": "markdown",
   "metadata": {
    "id": "-kqXB3cghQ14"
   },
   "source": [
    "### Calcular a probabilidade de selecionar uma pessoa entre Q2 e Q3"
   ]
  },
  {
   "cell_type": "code",
   "execution_count": 33,
   "metadata": {
    "colab": {
     "base_uri": "https://localhost:8080/",
     "height": 55
    },
    "id": "GhkqaAeBKj49",
    "outputId": "c5626ed7-729f-4047-c379-0a96d394a014"
   },
   "outputs": [
    {
     "data": {
      "text/plain": [
       "0.641025641025641"
      ]
     },
     "execution_count": 33,
     "metadata": {},
     "output_type": "execute_result"
    }
   ],
   "source": [
    "(168 - media) / desvio_padrao"
   ]
  },
  {
   "cell_type": "code",
   "execution_count": 34,
   "metadata": {
    "colab": {
     "base_uri": "https://localhost:8080/",
     "height": 55
    },
    "id": "pbG2m85IK5sD",
    "outputId": "ec4e43fb-28d9-452a-bbe4-fe115dd7cf77"
   },
   "outputs": [
    {
     "data": {
      "text/plain": [
       "0.0"
      ]
     },
     "execution_count": 34,
     "metadata": {},
     "output_type": "execute_result"
    }
   ],
   "source": [
    "(159.25 - media) / desvio_padrao"
   ]
  },
  {
   "cell_type": "code",
   "execution_count": 35,
   "metadata": {
    "colab": {
     "base_uri": "https://localhost:8080/",
     "height": 55
    },
    "id": "sptRhEPvNm0t",
    "outputId": "662a8167-9976-49b4-af9f-fe773e40d6b6"
   },
   "outputs": [
    {
     "data": {
      "text/plain": [
       "0.7392469880439166"
      ]
     },
     "execution_count": 35,
     "metadata": {},
     "output_type": "execute_result"
    }
   ],
   "source": [
    "stats.norm.cdf(168, media, desvio_padrao)"
   ]
  },
  {
   "cell_type": "code",
   "execution_count": 36,
   "metadata": {
    "colab": {
     "base_uri": "https://localhost:8080/",
     "height": 55
    },
    "id": "9K0DxKjKNsph",
    "outputId": "47472b9b-1404-4a1a-da45-6c9b982b6dbb"
   },
   "outputs": [
    {
     "data": {
      "text/plain": [
       "0.5"
      ]
     },
     "execution_count": 36,
     "metadata": {},
     "output_type": "execute_result"
    }
   ],
   "source": [
    "stats.norm.cdf(159.25, media, desvio_padrao)"
   ]
  },
  {
   "cell_type": "code",
   "execution_count": 37,
   "metadata": {
    "colab": {
     "base_uri": "https://localhost:8080/",
     "height": 55
    },
    "id": "tBicSKquNyMl",
    "outputId": "e98600c6-a95a-47d4-ca98-41dcc6f0faf9"
   },
   "outputs": [
    {
     "data": {
      "text/plain": [
       "0.23924698804391664"
      ]
     },
     "execution_count": 37,
     "metadata": {},
     "output_type": "execute_result"
    }
   ],
   "source": [
    "stats.norm.cdf(168, media, desvio_padrao) - stats.norm.cdf(159.25, media, desvio_padrao)"
   ]
  },
  {
   "cell_type": "markdown",
   "metadata": {
    "id": "HRvvngMAofQi"
   },
   "source": [
    "### Calcular a probabilidade de selecionar uma pessoa em Q1 ou Q3"
   ]
  },
  {
   "cell_type": "code",
   "execution_count": 38,
   "metadata": {
    "colab": {
     "base_uri": "https://localhost:8080/",
     "height": 55
    },
    "id": "UC-j2gwvLbEK",
    "outputId": "ec116e31-f16d-4d42-ae52-8e85f2e60011"
   },
   "outputs": [
    {
     "data": {
      "text/plain": [
       "0.52218"
      ]
     },
     "execution_count": 38,
     "metadata": {},
     "output_type": "execute_result"
    }
   ],
   "source": [
    "0.26109 + 0.26109"
   ]
  },
  {
   "cell_type": "markdown",
   "metadata": {
    "id": "gY73bwJcpquV"
   },
   "source": [
    "### Calcular a probabilidade de não selecionar uma pessoa em Q1 ou Q3"
   ]
  },
  {
   "cell_type": "code",
   "execution_count": 39,
   "metadata": {
    "colab": {
     "base_uri": "https://localhost:8080/",
     "height": 55
    },
    "id": "6amHRxSZLuer",
    "outputId": "ad59813e-f760-426b-a666-547d1bdebd94"
   },
   "outputs": [
    {
     "data": {
      "text/plain": [
       "0.47782"
      ]
     },
     "execution_count": 39,
     "metadata": {},
     "output_type": "execute_result"
    }
   ],
   "source": [
    "1 - 0.52218"
   ]
  },
  {
   "cell_type": "markdown",
   "metadata": {
    "id": "mxblw-KwtijT"
   },
   "source": [
    "### Exercício 1\n",
    "\n",
    "- Uma empresa fez um concurso para seleção de novos funcionários. A prova tinha 50 questões e o Pedro acertou 40 questões. Considerando uma distribuição normal com média 24 e desvio padrão de 8, quais são as chances dele ser contratado?"
   ]
  },
  {
   "cell_type": "code",
   "execution_count": 40,
   "metadata": {
    "id": "ySddRz-0t8Yq"
   },
   "outputs": [],
   "source": [
    "X = 40\n",
    "media = 24\n",
    "desvio_padrao = 8"
   ]
  },
  {
   "cell_type": "code",
   "execution_count": 41,
   "metadata": {
    "colab": {
     "base_uri": "https://localhost:8080/",
     "height": 55
    },
    "id": "ATev0QZquDe9",
    "outputId": "baf8c772-3723-4053-9f5e-2839ddbb1c8d"
   },
   "outputs": [
    {
     "data": {
      "text/plain": [
       "2.0"
      ]
     },
     "execution_count": 41,
     "metadata": {},
     "output_type": "execute_result"
    }
   ],
   "source": [
    "padronizado = (X - media) / desvio_padrao\n",
    "padronizado"
   ]
  },
  {
   "cell_type": "code",
   "execution_count": 42,
   "metadata": {
    "id": "ImGJvr5suPX-"
   },
   "outputs": [
    {
     "data": {
      "text/plain": [
       "0.97725"
      ]
     },
     "execution_count": 42,
     "metadata": {},
     "output_type": "execute_result"
    }
   ],
   "source": [
    "0.97725"
   ]
  },
  {
   "cell_type": "code",
   "execution_count": 43,
   "metadata": {
    "colab": {
     "base_uri": "https://localhost:8080/",
     "height": 55
    },
    "id": "cM8z6NMZuqXT",
    "outputId": "b898a5f0-9051-4519-bb10-b8505fe8724f"
   },
   "outputs": [
    {
     "data": {
      "text/plain": [
       "0.9772498680518208"
      ]
     },
     "execution_count": 43,
     "metadata": {},
     "output_type": "execute_result"
    }
   ],
   "source": [
    "stats.norm.cdf(2.0)"
   ]
  },
  {
   "cell_type": "code",
   "execution_count": 44,
   "metadata": {
    "colab": {
     "base_uri": "https://localhost:8080/",
     "height": 55
    },
    "id": "Ke5RlnKjuyGq",
    "outputId": "0c61f69b-2307-4031-b59d-91859d840f3d"
   },
   "outputs": [
    {
     "data": {
      "text/plain": [
       "2.0000000000000004"
      ]
     },
     "execution_count": 44,
     "metadata": {},
     "output_type": "execute_result"
    }
   ],
   "source": [
    "stats.norm.ppf(0.9772498680518208)"
   ]
  },
  {
   "cell_type": "code",
   "execution_count": 45,
   "metadata": {
    "colab": {
     "base_uri": "https://localhost:8080/",
     "height": 55
    },
    "id": "KhsYaoCDuQ5Q",
    "outputId": "68dae918-71d2-4038-f4a1-30e419acfa75"
   },
   "outputs": [
    {
     "data": {
      "text/plain": [
       "0.9772498680518208"
      ]
     },
     "execution_count": 45,
     "metadata": {},
     "output_type": "execute_result"
    }
   ],
   "source": [
    "stats.norm.cdf(X, media, desvio_padrao)"
   ]
  },
  {
   "cell_type": "markdown",
   "metadata": {
    "id": "lDooGDk_u9te"
   },
   "source": [
    "### Exercício 2\n",
    "\n",
    "- A vida útil de uma marca de pneus é representada por uma distribuição normal com média de 38.000 Km e desvio padrão de 3.000 Km\n",
    "\n",
    "1.   Qual a probabilidade de que um pneu escolhido aleatoriamente tenha vida útil de 35.000 Km?\n",
    "2.   Qual a probabilidade de que ele dure mais do que 44.000 Km?\n",
    "\n"
   ]
  },
  {
   "cell_type": "markdown",
   "metadata": {
    "id": "tycsxFW4wEW9"
   },
   "source": [
    "#### Questão 1"
   ]
  },
  {
   "cell_type": "code",
   "execution_count": 46,
   "metadata": {
    "colab": {
     "base_uri": "https://localhost:8080/",
     "height": 55
    },
    "id": "3xXfVFimvb9P",
    "outputId": "2087675f-97d6-4222-c4fd-dc674ea60691"
   },
   "outputs": [
    {
     "data": {
      "text/plain": [
       "0.8413447460685429"
      ]
     },
     "execution_count": 46,
     "metadata": {},
     "output_type": "execute_result"
    }
   ],
   "source": [
    "1 - stats.norm.cdf(35000, 38000, 3000)"
   ]
  },
  {
   "cell_type": "code",
   "execution_count": 47,
   "metadata": {
    "colab": {
     "base_uri": "https://localhost:8080/",
     "height": 55
    },
    "id": "d9boMMEmv5cy",
    "outputId": "79378013-f1b3-43d0-b62b-fc06000ccfa5"
   },
   "outputs": [
    {
     "data": {
      "text/plain": [
       "0.8413447460685429"
      ]
     },
     "execution_count": 47,
     "metadata": {},
     "output_type": "execute_result"
    }
   ],
   "source": [
    "stats.norm.sf(35000, 38000, 3000)"
   ]
  },
  {
   "cell_type": "markdown",
   "metadata": {
    "id": "Yl7mp1CkwIsa"
   },
   "source": [
    "#### Questão 2"
   ]
  },
  {
   "cell_type": "code",
   "execution_count": 48,
   "metadata": {
    "colab": {
     "base_uri": "https://localhost:8080/",
     "height": 55
    },
    "id": "n6uTSEO8wKQL",
    "outputId": "10bc4963-981b-40fa-e64b-df5efe3ce931"
   },
   "outputs": [
    {
     "data": {
      "text/plain": [
       "0.02275013194817921"
      ]
     },
     "execution_count": 48,
     "metadata": {},
     "output_type": "execute_result"
    }
   ],
   "source": [
    "1 - stats.norm.cdf(44000, 38000, 3000)"
   ]
  },
  {
   "cell_type": "code",
   "execution_count": 49,
   "metadata": {
    "colab": {
     "base_uri": "https://localhost:8080/",
     "height": 55
    },
    "id": "jQ0BpppXwTQK",
    "outputId": "9041f2f7-c33c-4bbf-bc4f-965c5d0e5aa1"
   },
   "outputs": [
    {
     "data": {
      "text/plain": [
       "2.2750131948179195"
      ]
     },
     "execution_count": 49,
     "metadata": {},
     "output_type": "execute_result"
    }
   ],
   "source": [
    "stats.norm.sf(44000, 38000, 3000) * 100"
   ]
  },
  {
   "cell_type": "markdown",
   "metadata": {
    "id": "rM55aoLUAB1z"
   },
   "source": [
    "## Probabilidade e distribuição binomial\n",
    "\n",
    "- https://docs.scipy.org/doc/scipy/reference/generated/scipy.stats.binom.html#scipy.stats.binom"
   ]
  },
  {
   "cell_type": "markdown",
   "metadata": {},
   "source": [
    "A distribuição binomial é uma distribuição de probabilidade discreta que descreve o número de sucessos em uma sequência de \\(n\\) experimentos independentes, cada um com uma probabilidade de sucesso \\(p\\). Essa distribuição é amplamente utilizada em situações onde existem apenas dois resultados possíveis para cada experimento, comumente chamados de \"sucesso\" e \"fracasso\".\n",
    "\n",
    "#### Definição Formal\n",
    "\n",
    "Para uma variável aleatória binomial \\(X\\), que conta o número de sucessos em \\(n\\) experimentos independentes, a distribuição binomial é definida como:\n",
    "\n",
    "$$ X \\sim \\text{Binomial}(n, p) $$\n",
    "\n",
    "onde:\n",
    "- \\(n\\) é o número de experimentos.\n",
    "- \\(p\\) é a probabilidade de sucesso em cada experimento.\n",
    "\n",
    "#### Função de Probabilidade\n",
    "\n",
    "A função de probabilidade da distribuição binomial é dada por:\n",
    "\n",
    "$$ P(X = k) = \\binom{n}{k} p^k (1 - p)^{n - k} $$\n",
    "\n",
    "onde:\n",
    "- \\(k\\) é o número de sucessos.\n",
    "- \\(\\binom{n}{k}\\) é o coeficiente binomial, que calcula o número de combinações de \\(n\\) itens tomados \\(k\\) de cada vez e é dado por:\n",
    "\n",
    "$$ \\binom{n}{k} = \\frac{n!}{k!(n - k)!} $$\n",
    "\n",
    "#### Propriedades da Distribuição Binomial\n",
    "\n",
    "- **Esperança (Média)**: \\( E[X] = np \\)\n",
    "- **Variância**: \\( \\text{Var}(X) = np(1 - p) \\)\n",
    "- **Desvio Padrão**: \\( \\sigma = \\sqrt{np(1 - p)} \\)\n",
    "\n",
    "#### Exemplo\n",
    "\n",
    "Suponha que estamos interessados no número de vezes que um dado cai no número 6 ao ser lançado 10 vezes. A probabilidade de obter um 6 em um único lançamento é \\( p = \\frac{1}{6} \\). Aqui, \\( n = 10 \\) e \\( p = \\frac{1}{6} \\).\n",
    "\n",
    "#### Código Python para Distribuição Binomial\n",
    "\n",
    "Podemos usar a biblioteca `scipy` para calcular e visualizar a distribuição binomial.\n",
    "\n",
    "```python\n",
    "import numpy as np\n",
    "import matplotlib.pyplot as plt\n",
    "from scipy.stats import binom\n",
    "\n",
    "# Parâmetros\n",
    "n = 10  # número de experimentos\n",
    "p = 1/6  # probabilidade de sucesso\n",
    "\n",
    "# Valores possíveis de k (número de sucessos)\n",
    "k = np.arange(0, n+1)\n",
    "\n",
    "# Função de massa de probabilidade\n",
    "pmf = binom.pmf(k, n, p)\n",
    "\n",
    "# Plotar a distribuição binomial\n",
    "plt.figure(figsize=(10, 6))\n",
    "plt.stem(k, pmf, use_line_collection=True)\n",
    "plt.title('Distribuição Binomial')\n",
    "plt.xlabel('Número de Sucessos (k)')\n",
    "plt.ylabel('Probabilidade')\n",
    "plt.xticks(k)\n",
    "plt.grid()\n",
    "plt.show()\n",
    "```\n",
    "\n",
    "#### Explicação do Código\n",
    "\n",
    "1. **Importação das Bibliotecas**: Importamos `numpy` para cálculos matemáticos, `matplotlib.pyplot` para criar o gráfico, e `scipy.stats` para a distribuição binomial.\n",
    "2. **Parâmetros**: Definimos \\(n\\) como 10 (número de experimentos) e \\(p\\) como \\( \\frac{1}{6} \\) (probabilidade de sucesso).\n",
    "3. **Valores de k**: Criamos uma array `k` contendo todos os valores possíveis de sucessos (0 a 10).\n",
    "4. **Função de Massa de Probabilidade (pmf)**: Calculamos a função de massa de probabilidade para cada valor de \\(k\\) usando `binom.pmf`.\n",
    "5. **Plotar a Distribuição**: Utilizamos `plt.stem` para criar um gráfico de stem plot da distribuição binomial, que mostra as probabilidades de cada número de sucessos.\n",
    "\n",
    "#### Aplicações da Distribuição Binomial\n",
    "\n",
    "A distribuição binomial é usada em muitos campos, incluindo:\n",
    "- **Pesquisa de opinião**: Para modelar a probabilidade de respostas em pesquisas de sim/não.\n",
    "- **Controle de qualidade**: Para modelar o número de itens defeituosos em lotes de produção.\n",
    "- **Genética**: Para calcular a probabilidade de herança de características mendelianas."
   ]
  },
  {
   "cell_type": "markdown",
   "metadata": {
    "id": "R1GvBu2tAHeg"
   },
   "source": [
    "### Exemplo das moedas\n",
    "\n",
    "- Jogando a moeda 10 vezes, qual a probabilidade de obter 5 \"caras\"?"
   ]
  },
  {
   "cell_type": "code",
   "execution_count": 50,
   "metadata": {
    "id": "xBpWBSR_D9nO"
   },
   "outputs": [],
   "source": [
    "n = 10\n",
    "x = 5\n",
    "p = 0.5"
   ]
  },
  {
   "cell_type": "code",
   "execution_count": 51,
   "metadata": {
    "colab": {
     "base_uri": "https://localhost:8080/",
     "height": 55
    },
    "id": "umu8c83XEFPi",
    "outputId": "24077df5-4001-499c-ee5c-b74d542e0f42"
   },
   "outputs": [
    {
     "data": {
      "text/plain": [
       "0.24609375"
      ]
     },
     "execution_count": 51,
     "metadata": {},
     "output_type": "execute_result"
    }
   ],
   "source": [
    "import math\n",
    "(math.factorial(n)) / (math.factorial(x) * math.factorial(n - x)) * math.pow(p, x) * math.pow(1 - p, n - x)"
   ]
  },
  {
   "cell_type": "code",
   "execution_count": 52,
   "metadata": {
    "colab": {
     "base_uri": "https://localhost:8080/",
     "height": 55
    },
    "id": "xqkXWV4GExt5",
    "outputId": "f4009ee8-9d68-45c9-8f7b-eee5942155c5"
   },
   "outputs": [
    {
     "data": {
      "text/plain": [
       "0.24609375000000003"
      ]
     },
     "execution_count": 52,
     "metadata": {},
     "output_type": "execute_result"
    }
   ],
   "source": [
    "stats.binom.pmf(x, n, p)"
   ]
  },
  {
   "cell_type": "markdown",
   "metadata": {
    "id": "OpSKRl6nAL18"
   },
   "source": [
    "### Exercício 1\n",
    "\n",
    "- 70% das pessoas que compraram o livro de Python são mulheres. Se 10 leitores forem selecionados randomicamente, qual a probabilidade de selecionarmos 7 mulheres?"
   ]
  },
  {
   "cell_type": "code",
   "execution_count": 53,
   "metadata": {
    "id": "Xny1sUr2ANx-"
   },
   "outputs": [],
   "source": [
    "n = 10\n",
    "x = 7\n",
    "p = 0.7"
   ]
  },
  {
   "cell_type": "code",
   "execution_count": 54,
   "metadata": {
    "colab": {
     "base_uri": "https://localhost:8080/",
     "height": 55
    },
    "id": "RL3GxQDgAPOq",
    "outputId": "1b42138d-ec0b-47c0-eafe-396b66a583cd"
   },
   "outputs": [
    {
     "data": {
      "text/plain": [
       "0.26682793200000005"
      ]
     },
     "execution_count": 54,
     "metadata": {},
     "output_type": "execute_result"
    }
   ],
   "source": [
    "stats.binom.pmf(x, n, p)"
   ]
  },
  {
   "cell_type": "markdown",
   "metadata": {
    "id": "IAY-YuWTARnE"
   },
   "source": [
    "### Exercício 2\n",
    "\n",
    "- Em uma linha de produção de uma fábrica de parafusos, a probabilidade de obter um parafuso defeituoso é 0,05. Tendo uma amostra de 50 peças, qual a probabilidade de obter\n",
    "\n",
    "1.   Um parafuso defeituoso\n",
    "2.   Nenhum parafuso defeituoso"
   ]
  },
  {
   "cell_type": "markdown",
   "metadata": {
    "id": "ny0Vglv_AV0I"
   },
   "source": [
    "#### Questão 1"
   ]
  },
  {
   "cell_type": "code",
   "execution_count": 55,
   "metadata": {
    "id": "YTMuUfEfAXbD"
   },
   "outputs": [],
   "source": [
    "n = 50\n",
    "x = 1\n",
    "p = 0.05"
   ]
  },
  {
   "cell_type": "code",
   "execution_count": 56,
   "metadata": {
    "colab": {
     "base_uri": "https://localhost:8080/",
     "height": 55
    },
    "id": "fJfwHUGYAYsv",
    "outputId": "980f4e15-18f6-4e96-a788-9ff8f86bebb4"
   },
   "outputs": [
    {
     "data": {
      "text/plain": [
       "0.2024867770439825"
      ]
     },
     "execution_count": 56,
     "metadata": {},
     "output_type": "execute_result"
    }
   ],
   "source": [
    "stats.binom.pmf(x, n, p)"
   ]
  },
  {
   "cell_type": "markdown",
   "metadata": {
    "id": "gSxfyMArAaoZ"
   },
   "source": [
    "#### Questão 2"
   ]
  },
  {
   "cell_type": "code",
   "execution_count": 57,
   "metadata": {
    "id": "CfA1CckPAcNO"
   },
   "outputs": [],
   "source": [
    "n = 50\n",
    "x = 0\n",
    "p = 0.05"
   ]
  },
  {
   "cell_type": "code",
   "execution_count": 58,
   "metadata": {
    "colab": {
     "base_uri": "https://localhost:8080/",
     "height": 55
    },
    "id": "4ygrnZuyAdce",
    "outputId": "d47fff13-cb98-4ba1-dc18-b5cb1cda1a5e"
   },
   "outputs": [
    {
     "data": {
      "text/plain": [
       "0.07694497527671315"
      ]
     },
     "execution_count": 58,
     "metadata": {},
     "output_type": "execute_result"
    }
   ],
   "source": [
    "stats.binom.pmf(x, n, p)"
   ]
  },
  {
   "cell_type": "markdown",
   "metadata": {
    "id": "-ZUN5ieXGSzk"
   },
   "source": [
    "## Probabilidade e distribuição de Poisson\n",
    "\n",
    "- https://docs.scipy.org/doc/scipy/reference/generated/scipy.stats.poisson.html"
   ]
  },
  {
   "cell_type": "markdown",
   "metadata": {},
   "source": [
    "A distribuição de Poisson é uma distribuição de probabilidade discreta que expressa a probabilidade de um dado número de eventos ocorrerem em um intervalo fixo de tempo ou espaço, se esses eventos ocorrem com uma taxa média constante e independentemente do tempo desde o último evento. É uma distribuição usada frequentemente para modelar contagens de eventos.\n",
    "\n",
    "#### Definição Formal\n",
    "\n",
    "Para uma variável aleatória \\( X \\), que conta o número de eventos em um intervalo fixo, a distribuição de Poisson é definida como:\n",
    "\n",
    "$$ X \\sim \\text{Poisson}(\\lambda) $$\n",
    "\n",
    "onde:\n",
    "- \\(\\lambda\\) é a taxa média de eventos por intervalo de tempo ou espaço.\n",
    "\n",
    "#### Função de Probabilidade\n",
    "\n",
    "A função de probabilidade da distribuição de Poisson é dada por:\n",
    "\n",
    "$$ P(X = k) = \\frac{\\lambda^k e^{-\\lambda}}{k!} $$\n",
    "\n",
    "onde:\n",
    "- \\( k \\) é o número de eventos.\n",
    "- \\(\\lambda\\) é a taxa média de eventos.\n",
    "- \\( e \\) é a base do logaritmo natural (aproximadamente igual a 2.71828).\n",
    "\n",
    "#### Propriedades da Distribuição de Poisson\n",
    "\n",
    "- **Esperança (Média)**: \\( E[X] = \\lambda \\)\n",
    "- **Variância**: \\( \\text{Var}(X) = \\lambda \\)\n",
    "- **Desvio Padrão**: \\( \\sigma = \\sqrt{\\lambda} \\)\n",
    "\n",
    "#### Exemplo\n",
    "\n",
    "Suponha que estamos interessados no número de chamadas recebidas por um call center por hora. Se a taxa média de chamadas por hora é 5, podemos modelar o número de chamadas recebidas em uma hora como uma variável aleatória Poisson com \\(\\lambda = 5\\).\n",
    "\n",
    "#### Código Python para Distribuição de Poisson\n",
    "\n",
    "Podemos usar a biblioteca `scipy` para calcular e visualizar a distribuição de Poisson.\n",
    "\n",
    "```python\n",
    "import numpy as np\n",
    "import matplotlib.pyplot as plt\n",
    "from scipy.stats import poisson\n",
    "\n",
    "# Parâmetro\n",
    "lambda_ = 5  # taxa média de eventos por intervalo\n",
    "\n",
    "# Valores possíveis de k (número de eventos)\n",
    "k = np.arange(0, 20)\n",
    "\n",
    "# Função de massa de probabilidade\n",
    "pmf = poisson.pmf(k, lambda_)\n",
    "\n",
    "# Plotar a distribuição de Poisson\n",
    "plt.figure(figsize=(10, 6))\n",
    "plt.stem(k, pmf, use_line_collection=True)\n",
    "plt.title('Distribuição de Poisson')\n",
    "plt.xlabel('Número de Eventos (k)')\n",
    "plt.ylabel('Probabilidade')\n",
    "plt.xticks(k)\n",
    "plt.grid()\n",
    "plt.show()\n",
    "```\n",
    "\n",
    "#### Explicação do Código\n",
    "\n",
    "1. **Importação das Bibliotecas**: Importamos `numpy` para cálculos matemáticos, `matplotlib.pyplot` para criar o gráfico, e `scipy.stats` para a distribuição de Poisson.\n",
    "2. **Parâmetro**: Definimos \\(\\lambda\\) como 5 (taxa média de eventos por intervalo).\n",
    "3. **Valores de k**: Criamos uma array `k` contendo valores possíveis de eventos (0 a 19).\n",
    "4. **Função de Massa de Probabilidade (pmf)**: Calculamos a função de massa de probabilidade para cada valor de \\(k\\) usando `poisson.pmf`.\n",
    "5. **Plotar a Distribuição**: Utilizamos `plt.stem` para criar um gráfico de stem plot da distribuição de Poisson, que mostra as probabilidades de cada número de eventos.\n",
    "\n",
    "#### Aplicações da Distribuição de Poisson\n",
    "\n",
    "A distribuição de Poisson é usada em muitos campos, incluindo:\n",
    "- **Telecomunicações**: Para modelar o número de chamadas recebidas por um call center em um determinado período de tempo.\n",
    "- **Biologia**: Para modelar a distribuição de organismos em uma área fixa.\n",
    "- **Economia**: Para modelar a chegada de clientes em um banco ou supermercado.\n",
    "- **Engenharia**: Para modelar a ocorrência de falhas em sistemas e equipamentos."
   ]
  },
  {
   "cell_type": "markdown",
   "metadata": {
    "id": "U2fnkmZBGWch"
   },
   "source": [
    "### Exemplo dos carros\n",
    "\n",
    "- O número médio de carros vendidos por dia é 10. Qual a probabilidade de vender 14 carros amanhã?"
   ]
  },
  {
   "cell_type": "code",
   "execution_count": 59,
   "metadata": {
    "id": "9yZG4BMFHlcC"
   },
   "outputs": [],
   "source": [
    "x = 14\n",
    "media = 10"
   ]
  },
  {
   "cell_type": "code",
   "execution_count": 60,
   "metadata": {
    "colab": {
     "base_uri": "https://localhost:8080/",
     "height": 55
    },
    "id": "ZfDxtuB8HpMa",
    "outputId": "ddcbd19d-c2c8-4061-fc22-0bcc3ad9a62e"
   },
   "outputs": [
    {
     "data": {
      "text/plain": [
       "2.718281828459045"
      ]
     },
     "execution_count": 60,
     "metadata": {},
     "output_type": "execute_result"
    }
   ],
   "source": [
    "math.e"
   ]
  },
  {
   "cell_type": "code",
   "execution_count": 61,
   "metadata": {
    "colab": {
     "base_uri": "https://localhost:8080/",
     "height": 55
    },
    "id": "fJEi5TPIHs4V",
    "outputId": "1e9d9ee5-1e02-44b0-d2f1-2e7163c4e586"
   },
   "outputs": [
    {
     "data": {
      "text/plain": [
       "5.207710444602621"
      ]
     },
     "execution_count": 61,
     "metadata": {},
     "output_type": "execute_result"
    }
   ],
   "source": [
    "math.pow(math.e, -media) * (math.pow(media, x) / math.factorial(x)) * 100"
   ]
  },
  {
   "cell_type": "code",
   "execution_count": 62,
   "metadata": {
    "colab": {
     "base_uri": "https://localhost:8080/",
     "height": 55
    },
    "id": "C7T0FIl-IVds",
    "outputId": "8cb1e4b9-38dd-466f-824f-88fa4c93dbb7"
   },
   "outputs": [
    {
     "data": {
      "text/plain": [
       "0.05207710444602615"
      ]
     },
     "execution_count": 62,
     "metadata": {},
     "output_type": "execute_result"
    }
   ],
   "source": [
    "stats.poisson.pmf(x, media)"
   ]
  },
  {
   "cell_type": "markdown",
   "metadata": {
    "id": "PPb2aSXOIpwl"
   },
   "source": [
    "### Exercício 1\n",
    "\n",
    "- Em uma linha de produção de uma fábrica de parafusos, a probabilidade é de obter 0,05 defeitos por UNIDADE. Qual a probabilidade de uma unidade apresentar:\n",
    "\n",
    "1.   Um defeito\n",
    "2.   Nenhum defeito"
   ]
  },
  {
   "cell_type": "markdown",
   "metadata": {
    "id": "TT5wf53EIsXm"
   },
   "source": [
    "#### Questão 1"
   ]
  },
  {
   "cell_type": "code",
   "execution_count": 63,
   "metadata": {
    "id": "QWYlTjtdIul6"
   },
   "outputs": [],
   "source": [
    "x = 1\n",
    "media = 0.05"
   ]
  },
  {
   "cell_type": "code",
   "execution_count": 64,
   "metadata": {
    "colab": {
     "base_uri": "https://localhost:8080/",
     "height": 55
    },
    "id": "TSRGX-F0IwBp",
    "outputId": "12b0d20b-bd16-4d16-b518-0468f0026bec"
   },
   "outputs": [
    {
     "data": {
      "text/plain": [
       "4.756147122503571"
      ]
     },
     "execution_count": 64,
     "metadata": {},
     "output_type": "execute_result"
    }
   ],
   "source": [
    "stats.poisson.pmf(x, media) * 100"
   ]
  },
  {
   "cell_type": "markdown",
   "metadata": {
    "id": "4AYL5-nTIyc6"
   },
   "source": [
    "#### Questão 2"
   ]
  },
  {
   "cell_type": "code",
   "execution_count": 65,
   "metadata": {
    "id": "dyvm1oQgI0Fq"
   },
   "outputs": [],
   "source": [
    "x = 0\n",
    "media = 0.05"
   ]
  },
  {
   "cell_type": "code",
   "execution_count": 66,
   "metadata": {
    "colab": {
     "base_uri": "https://localhost:8080/",
     "height": 55
    },
    "id": "kNvZ0pb8I1oi",
    "outputId": "1a98573a-5d8c-4c8a-8c57-d01a756f094b"
   },
   "outputs": [
    {
     "data": {
      "text/plain": [
       "95.1229424500714"
      ]
     },
     "execution_count": 66,
     "metadata": {},
     "output_type": "execute_result"
    }
   ],
   "source": [
    "stats.poisson.pmf(x, media) * 100"
   ]
  },
  {
   "cell_type": "markdown",
   "metadata": {
    "id": "zOWT4LYiI532"
   },
   "source": [
    "### Exercício 2\n",
    "\n",
    "- Um vendedor de uma loja vende em média 50 produtos por dia. Qual a probabilidade de vender somente 5 produtos no próximo dia?"
   ]
  },
  {
   "cell_type": "code",
   "execution_count": 67,
   "metadata": {
    "id": "5vMAviBmI7oF"
   },
   "outputs": [],
   "source": [
    "x = 5\n",
    "media = 50"
   ]
  },
  {
   "cell_type": "code",
   "execution_count": 68,
   "metadata": {
    "colab": {
     "base_uri": "https://localhost:8080/",
     "height": 55
    },
    "id": "GG8zKstlI9F6",
    "outputId": "cda22da2-c784-45cb-9294-0bde2fe6075a"
   },
   "outputs": [
    {
     "data": {
      "text/plain": [
       "5.02278606240605e-16"
      ]
     },
     "execution_count": 68,
     "metadata": {},
     "output_type": "execute_result"
    }
   ],
   "source": [
    "stats.poisson.pmf(x, media)"
   ]
  },
  {
   "cell_type": "markdown",
   "metadata": {
    "id": "LsU42k0cKRNV"
   },
   "source": [
    "## Previsão de probabilidades em machine learning"
   ]
  },
  {
   "cell_type": "code",
   "execution_count": 75,
   "metadata": {
    "colab": {
     "base_uri": "https://localhost:8080/",
     "height": 55
    },
    "id": "G4EfDifZKdP9",
    "outputId": "26e64260-368e-4544-d7c9-4f425f47549e",
    "scrolled": true
   },
   "outputs": [
    {
     "data": {
      "text/plain": [
       "array([[6.61559251e+04, 5.90170151e+01, 8.10653213e+03]])"
      ]
     },
     "execution_count": 75,
     "metadata": {},
     "output_type": "execute_result"
    }
   ],
   "source": [
    "novo"
   ]
  },
  {
   "cell_type": "code",
   "execution_count": 76,
   "metadata": {
    "colab": {
     "base_uri": "https://localhost:8080/",
     "height": 55
    },
    "id": "36yItUpaKevn",
    "outputId": "f131366c-a65e-4088-bb9e-f5ed69133354"
   },
   "outputs": [
    {
     "data": {
      "text/plain": [
       "array([0], dtype=int64)"
      ]
     },
     "execution_count": 76,
     "metadata": {},
     "output_type": "execute_result"
    }
   ],
   "source": [
    "naive_bayes.predict(novo)"
   ]
  },
  {
   "cell_type": "code",
   "execution_count": 77,
   "metadata": {
    "colab": {
     "base_uri": "https://localhost:8080/",
     "height": 55
    },
    "id": "wVWYLwYQKgKG",
    "outputId": "6a19d430-9d05-4af4-9f2b-6427682db5ad"
   },
   "outputs": [
    {
     "data": {
      "text/plain": [
       "array([[1.00000000e+00, 2.03924534e-10]])"
      ]
     },
     "execution_count": 77,
     "metadata": {},
     "output_type": "execute_result"
    }
   ],
   "source": [
    "previsao = naive_bayes.predict_proba(novo)\n",
    "previsao"
   ]
  },
  {
   "cell_type": "code",
   "execution_count": 78,
   "metadata": {
    "colab": {
     "base_uri": "https://localhost:8080/",
     "height": 55
    },
    "id": "Bb1pAe0lKhkY",
    "outputId": "b9fd09d0-4cae-4469-fe43-cab1734e1099"
   },
   "outputs": [
    {
     "data": {
      "text/plain": [
       "0"
      ]
     },
     "execution_count": 78,
     "metadata": {},
     "output_type": "execute_result"
    }
   ],
   "source": [
    "np.argmax(previsao)"
   ]
  },
  {
   "cell_type": "code",
   "execution_count": null,
   "metadata": {},
   "outputs": [],
   "source": []
  },
  {
   "cell_type": "markdown",
   "metadata": {},
   "source": [
    "### Probabilidade em Machine Learning\n",
    "\n",
    "A probabilidade desempenha um papel crucial em muitos algoritmos de aprendizado de máquina, especialmente naqueles que fazem previsões probabilísticas e naqueles que envolvem classificação. Vamos explicar alguns conceitos-chave de probabilidade em machine learning, utilizando o exemplo de Naive Bayes mostrado na imagem."
   ]
  },
  {
   "cell_type": "markdown",
   "metadata": {},
   "source": [
    "#### Introdução à Probabilidade em Machine Learning\n",
    "\n",
    "1. **Modelos Probabilísticos**:\n",
    "   - **Modelos probabilísticos** em machine learning são aqueles que fornecem previsões na forma de probabilidades. Esses modelos não apenas fornecem uma classe prevista, mas também a confiança (probabilidade) dessa previsão.\n",
    "   - **Exemplo**: Algoritmos como Naive Bayes, Regressão Logística e Redes Neurais podem ser configurados para fornecer previsões probabilísticas.\n",
    "\n",
    "2. **Probabilidade Condicional**:\n",
    "   - **Probabilidade condicional** é a probabilidade de um evento ocorrer, dado que outro evento já ocorreu.\n",
    "   - **Teorema de Bayes**: É usado para calcular a probabilidade condicional. No contexto do classificador Naive Bayes, ele ajuda a calcular a probabilidade de uma classe dada as características (features)."
   ]
  },
  {
   "cell_type": "markdown",
   "metadata": {},
   "source": [
    "#### Exemplo Prático: Naive Bayes\n",
    "\n",
    "Na imagem fornecida, o algoritmo Naive Bayes é aplicado a um conjunto de dados de crédito. Vamos seguir o passo a passo e explicar cada parte do processo:\n",
    "\n",
    "1. **Carregamento e Pré-processamento dos Dados**:\n",
    "   - Os dados são carregados de um arquivo CSV e quaisquer valores ausentes são descartados.\n",
    "   - As primeiras colunas são as características (features) e a última coluna é a classe alvo (0 ou 1)."
   ]
  },
  {
   "cell_type": "code",
   "execution_count": 79,
   "metadata": {
    "scrolled": true
   },
   "outputs": [
    {
     "data": {
      "text/html": [
       "<div>\n",
       "<style scoped>\n",
       "    .dataframe tbody tr th:only-of-type {\n",
       "        vertical-align: middle;\n",
       "    }\n",
       "\n",
       "    .dataframe tbody tr th {\n",
       "        vertical-align: top;\n",
       "    }\n",
       "\n",
       "    .dataframe thead th {\n",
       "        text-align: right;\n",
       "    }\n",
       "</style>\n",
       "<table border=\"1\" class=\"dataframe\">\n",
       "  <thead>\n",
       "    <tr style=\"text-align: right;\">\n",
       "      <th></th>\n",
       "      <th>i#clientid</th>\n",
       "      <th>income</th>\n",
       "      <th>age</th>\n",
       "      <th>loan</th>\n",
       "      <th>c#default</th>\n",
       "    </tr>\n",
       "  </thead>\n",
       "  <tbody>\n",
       "    <tr>\n",
       "      <th>0</th>\n",
       "      <td>1</td>\n",
       "      <td>66155.925095</td>\n",
       "      <td>59.017015</td>\n",
       "      <td>8106.532131</td>\n",
       "      <td>0</td>\n",
       "    </tr>\n",
       "    <tr>\n",
       "      <th>1</th>\n",
       "      <td>2</td>\n",
       "      <td>34415.153966</td>\n",
       "      <td>48.117153</td>\n",
       "      <td>6564.745018</td>\n",
       "      <td>0</td>\n",
       "    </tr>\n",
       "    <tr>\n",
       "      <th>2</th>\n",
       "      <td>3</td>\n",
       "      <td>57317.170063</td>\n",
       "      <td>63.108049</td>\n",
       "      <td>8020.953296</td>\n",
       "      <td>0</td>\n",
       "    </tr>\n",
       "    <tr>\n",
       "      <th>3</th>\n",
       "      <td>4</td>\n",
       "      <td>42709.534201</td>\n",
       "      <td>45.751972</td>\n",
       "      <td>6103.642260</td>\n",
       "      <td>0</td>\n",
       "    </tr>\n",
       "    <tr>\n",
       "      <th>4</th>\n",
       "      <td>5</td>\n",
       "      <td>66952.688845</td>\n",
       "      <td>18.584336</td>\n",
       "      <td>8770.099235</td>\n",
       "      <td>1</td>\n",
       "    </tr>\n",
       "  </tbody>\n",
       "</table>\n",
       "</div>"
      ],
      "text/plain": [
       "   i#clientid        income        age         loan  c#default\n",
       "0           1  66155.925095  59.017015  8106.532131          0\n",
       "1           2  34415.153966  48.117153  6564.745018          0\n",
       "2           3  57317.170063  63.108049  8020.953296          0\n",
       "3           4  42709.534201  45.751972  6103.642260          0\n",
       "4           5  66952.688845  18.584336  8770.099235          1"
      ]
     },
     "execution_count": 79,
     "metadata": {},
     "output_type": "execute_result"
    }
   ],
   "source": [
    "import pandas as pd\n",
    "dataset = pd.read_csv('credit_data.csv')\n",
    "dataset.dropna(inplace=True)\n",
    "dataset.head()"
   ]
  },
  {
   "cell_type": "markdown",
   "metadata": {},
   "source": [
    "2. **Separação das Features e Classes**:\n",
    "   - As características \\(X\\) e as classes \\(y\\) são separadas."
   ]
  },
  {
   "cell_type": "code",
   "execution_count": 80,
   "metadata": {},
   "outputs": [],
   "source": [
    "X = dataset.iloc[:,1:4].values\n",
    "y = dataset.iloc[:,4].values"
   ]
  },
  {
   "cell_type": "markdown",
   "metadata": {},
   "source": [
    "3. **Treinamento do Modelo Naive Bayes**:\n",
    "   - Um modelo Naive Bayes Gaussiano é treinado usando as características e classes."
   ]
  },
  {
   "cell_type": "code",
   "execution_count": 81,
   "metadata": {},
   "outputs": [
    {
     "data": {
      "text/plain": [
       "GaussianNB()"
      ]
     },
     "execution_count": 81,
     "metadata": {},
     "output_type": "execute_result"
    }
   ],
   "source": [
    "from sklearn.naive_bayes import GaussianNB\n",
    "naive_bayes = GaussianNB()\n",
    "naive_bayes.fit(X, y)"
   ]
  },
  {
   "cell_type": "markdown",
   "metadata": {},
   "source": [
    "4. **Previsão com o Modelo Treinado**:\n",
    "   - Uma nova observação é reshapeada e a previsão é feita usando o modelo treinado."
   ]
  },
  {
   "cell_type": "code",
   "execution_count": 82,
   "metadata": {},
   "outputs": [
    {
     "data": {
      "text/plain": [
       "array([0], dtype=int64)"
      ]
     },
     "execution_count": 82,
     "metadata": {},
     "output_type": "execute_result"
    }
   ],
   "source": [
    "novo = X[0].reshape(1,-1)\n",
    "naive_bayes.predict(novo)"
   ]
  },
  {
   "cell_type": "markdown",
   "metadata": {},
   "source": [
    "5. **Probabilidade das Classes**:\n",
    "   - A probabilidade de cada classe é calculada para a nova observação."
   ]
  },
  {
   "cell_type": "code",
   "execution_count": 84,
   "metadata": {},
   "outputs": [
    {
     "data": {
      "text/plain": [
       "array([[1.00000000e+00, 2.03924534e-10]])"
      ]
     },
     "execution_count": 84,
     "metadata": {},
     "output_type": "execute_result"
    }
   ],
   "source": [
    "previsao = naive_bayes.predict_proba(novo)\n",
    "previsao"
   ]
  },
  {
   "cell_type": "code",
   "execution_count": 85,
   "metadata": {},
   "outputs": [
    {
     "data": {
      "text/plain": [
       "0"
      ]
     },
     "execution_count": 85,
     "metadata": {},
     "output_type": "execute_result"
    }
   ],
   "source": [
    "np.argmax(previsao)"
   ]
  },
  {
   "cell_type": "markdown",
   "metadata": {},
   "source": [
    "### Explicação dos Resultados\n",
    "\n",
    "1. **Previsão da Classe**:\n",
    "   - O método `predict` retorna a classe prevista para a nova observação. No exemplo, a previsão é 0.\n",
    "\n",
    "2. **Previsão Probabilística**:\n",
    "   - O método `predict_proba` retorna as probabilidades de cada classe. Neste exemplo, a probabilidade de ser da classe 0 é praticamente 1, enquanto a probabilidade de ser da classe 1 é extremamente baixa (aproximadamente 0).\n",
    "\n",
    "A probabilidade em machine learning permite que modelos forneçam previsões não apenas na forma de classes discretas, mas também na forma de probabilidades associadas a essas classes. Isso é crucial em muitas aplicações práticas, onde a confiança da previsão é tão importante quanto a previsão em si. Algoritmos como Naive Bayes utilizam princípios de probabilidade para classificar dados de forma eficiente, tornando-os ferramentas poderosas em machine learning."
   ]
  }
 ],
 "metadata": {
  "colab": {
   "collapsed_sections": [
    "gmBXJGnRxWq3",
    "w2WYy99Vxcif",
    "CKW7Fregd1LF",
    "sOBWHav0f4XF",
    "-kqXB3cghQ14",
    "HRvvngMAofQi",
    "gY73bwJcpquV",
    "mxblw-KwtijT",
    "lDooGDk_u9te",
    "tycsxFW4wEW9",
    "Yl7mp1CkwIsa",
    "R1GvBu2tAHeg",
    "OpSKRl6nAL18",
    "IAY-YuWTARnE",
    "ny0Vglv_AV0I",
    "gSxfyMArAaoZ",
    "U2fnkmZBGWch",
    "PPb2aSXOIpwl",
    "TT5wf53EIsXm",
    "4AYL5-nTIyc6",
    "zOWT4LYiI532"
   ],
   "provenance": []
  },
  "kernelspec": {
   "display_name": "Python 3 (ipykernel)",
   "language": "python",
   "name": "python3"
  },
  "language_info": {
   "codemirror_mode": {
    "name": "ipython",
    "version": 3
   },
   "file_extension": ".py",
   "mimetype": "text/x-python",
   "name": "python",
   "nbconvert_exporter": "python",
   "pygments_lexer": "ipython3",
   "version": "3.9.12"
  }
 },
 "nbformat": 4,
 "nbformat_minor": 1
}
