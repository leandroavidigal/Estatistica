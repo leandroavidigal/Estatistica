{
 "cells": [
  {
   "cell_type": "markdown",
   "metadata": {},
   "source": [
    "### Distribuição de Frequência"
   ]
  },
  {
   "cell_type": "markdown",
   "metadata": {},
   "source": [
    "A Distribuição de Frequência é um método estatístico essencial utilizado para organizar e analisar conjuntos de dados, facilitando a compreensão e interpretação das informações contidas neles. Este processo envolve agrupar dados em classes ou categorias e contar a frequência com que cada categoria ocorre no conjunto de dados. Especificamente, neste caso, estamos lidando com um conjunto de dados que consiste em medidas, possivelmente representando alturas ou outra variável mensurável"
   ]
  },
  {
   "cell_type": "code",
   "execution_count": 1,
   "metadata": {},
   "outputs": [],
   "source": [
    "import numpy as np\n",
    "import matplotlib.pyplot as plt\n",
    "import pandas as pd\n",
    "import seaborn as sns"
   ]
  },
  {
   "cell_type": "code",
   "execution_count": 2,
   "metadata": {},
   "outputs": [],
   "source": [
    "dados = np.array([160, 165, 167, 164, 160, 166, 160, 161, 150, 152, 173, 160, 155,\n",
    "                  164, 168, 162, 161, 168, 163, 156, 155, 169, 151, 170, 164,\n",
    "                  155, 152, 163, 160, 155, 157, 156, 158, 158, 161, 154, 161, 156, 172, 153])"
   ]
  },
  {
   "cell_type": "markdown",
   "metadata": {},
   "source": [
    "### Ordenação"
   ]
  },
  {
   "cell_type": "code",
   "execution_count": 3,
   "metadata": {},
   "outputs": [],
   "source": [
    "dados = np.sort(dados)"
   ]
  },
  {
   "cell_type": "markdown",
   "metadata": {},
   "source": [
    "> A linha dados = np.sort(dados) no Python utiliza a função sort do NumPy para organizar os elementos do array dados em ordem crescente. "
   ]
  },
  {
   "cell_type": "code",
   "execution_count": 4,
   "metadata": {},
   "outputs": [
    {
     "data": {
      "text/plain": [
       "array([150, 151, 152, 152, 153, 154, 155, 155, 155, 155, 156, 156, 156,\n",
       "       157, 158, 158, 160, 160, 160, 160, 160, 161, 161, 161, 161, 162,\n",
       "       163, 163, 164, 164, 164, 165, 166, 167, 168, 168, 169, 170, 172,\n",
       "       173])"
      ]
     },
     "execution_count": 4,
     "metadata": {},
     "output_type": "execute_result"
    }
   ],
   "source": [
    "dados"
   ]
  },
  {
   "cell_type": "code",
   "execution_count": 12,
   "metadata": {},
   "outputs": [
    {
     "data": {
      "text/plain": [
       "150"
      ]
     },
     "execution_count": 12,
     "metadata": {},
     "output_type": "execute_result"
    }
   ],
   "source": [
    "minimo = dados.min()\n",
    "minimo"
   ]
  },
  {
   "cell_type": "code",
   "execution_count": 5,
   "metadata": {},
   "outputs": [
    {
     "data": {
      "text/plain": [
       "173"
      ]
     },
     "execution_count": 5,
     "metadata": {},
     "output_type": "execute_result"
    }
   ],
   "source": [
    "maximo = dados.max()\n",
    "maximo"
   ]
  },
  {
   "cell_type": "code",
   "execution_count": 6,
   "metadata": {},
   "outputs": [
    {
     "data": {
      "text/plain": [
       "(array([150, 151, 152, 153, 154, 155, 156, 157, 158, 160, 161, 162, 163,\n",
       "        164, 165, 166, 167, 168, 169, 170, 172, 173]),\n",
       " array([1, 1, 2, 1, 1, 4, 3, 1, 2, 5, 4, 1, 2, 3, 1, 1, 1, 2, 1, 1, 1, 1],\n",
       "       dtype=int64))"
      ]
     },
     "execution_count": 6,
     "metadata": {},
     "output_type": "execute_result"
    }
   ],
   "source": [
    "np.unique(dados, return_counts=True)"
   ]
  },
  {
   "cell_type": "code",
   "execution_count": 7,
   "metadata": {},
   "outputs": [
    {
     "data": {
      "text/plain": [
       "<BarContainer object of 40 artists>"
      ]
     },
     "execution_count": 7,
     "metadata": {},
     "output_type": "execute_result"
    },
    {
     "data": {
      "image/png": "[encoded data removed]",
      "text/plain": [
       "<Figure size 432x288 with 1 Axes>"
      ]
     },
     "metadata": {
      "needs_background": "light"
     },
     "output_type": "display_data"
    }
   ],
   "source": [
    "plt.bar(dados, dados)"
   ]
  },
  {
   "cell_type": "markdown",
   "metadata": {},
   "source": [
    "### Número de Classes com a Regra de Sturges\n",
    "\n",
    "A fórmula $i = 1 + 3.3 \\log n$ é comumente usada para determinar o número de classes (ou intervalos) em uma tabela de distribuição de frequência. Esta é uma aplicação da regra de Sturges, um método prático para calcular o número de classes que melhor representa os dados numa distribuição de frequência, sendo particularmente útil em grandes conjuntos de dados.\n",
    "\n",
    "#### Detalhes da Fórmula:\n",
    "\n",
    "- **$n$**: Representa o número total de observações no conjunto de dados.\n",
    "- **$\\log$**: Refere-se ao logaritmo na base 10.\n",
    "- **$1 + 3.3 \\log n$**: A constante 3.3 é derivada do $\\log_2$, e ajuda a garantir que o número de classes cresça proporcionalmente ao logaritmo do número de dados.\n",
    "\n",
    "#### Por que Usar a Regra de Sturges?\n",
    "\n",
    "- **Simplicidade e Praticidade**: Oferece uma maneira rápida de estabelecer o número de classes sem cálculos complexos.\n",
    "- **Adaptabilidade**: Útil quando não há uma ideia clara de como os dados estão distribuídos.\n",
    "- **Eficiência para Grandes Amostras**: Mais eficaz para grandes conjuntos de dados, onde a simples visualização dos dados é insuficiente.\n",
    "\n",
    "#### Limitações:\n",
    "\n",
    "- **Sensibilidade a $n$**: Pode não ser ideal para conjuntos de dados muito pequenos ou muito grandes.\n",
    "- **Assume Normalidade**: Supõe que os dados estão aproximadamente normalmente distribuídos, o que pode não ser sempre o caso."
   ]
  },
  {
   "cell_type": "code",
   "execution_count": 8,
   "metadata": {},
   "outputs": [
    {
     "data": {
      "text/plain": [
       "40"
      ]
     },
     "execution_count": 8,
     "metadata": {},
     "output_type": "execute_result"
    }
   ],
   "source": [
    "n = len(dados)\n",
    "n"
   ]
  },
  {
   "cell_type": "code",
   "execution_count": 9,
   "metadata": {},
   "outputs": [
    {
     "data": {
      "text/plain": [
       "6.286797971382275"
      ]
     },
     "execution_count": 9,
     "metadata": {},
     "output_type": "execute_result"
    }
   ],
   "source": [
    "i = 1 + 3.3 * np.log10(n)\n",
    "i"
   ]
  },
  {
   "cell_type": "code",
   "execution_count": 10,
   "metadata": {},
   "outputs": [
    {
     "data": {
      "text/plain": [
       "6"
      ]
     },
     "execution_count": 10,
     "metadata": {},
     "output_type": "execute_result"
    }
   ],
   "source": [
    "i = round(i)\n",
    "i"
   ]
  },
  {
   "cell_type": "markdown",
   "metadata": {},
   "source": [
    "### Amplitude do intervalo"
   ]
  },
  {
   "cell_type": "markdown",
   "metadata": {},
   "source": [
    "A amplitude do intervalo, representada por $h$, é um conceito chave na construção de tabelas de distribuição de frequência. Ela indica a largura de cada classe ou intervalo e é determinada pela fórmula:\n",
    "\n",
    "$$h = \\frac{AA}{i}$$\n",
    "\n",
    "onde:\n",
    "- $h$ é a amplitude do intervalo.\n",
    "- $AA$ é a amplitude absoluta, que é calculada como a diferença entre o maior valor ($X_{\\text{max}}$) e o menor valor ($X_{\\text{min}}$) nos dados.\n",
    "- $i$ é o número de classes, que pode ser determinado por métodos como a regra de Sturges.\n",
    "\n",
    "#### Importância da Amplitude do Intervalo:\n",
    "\n",
    "- **Adequação da Representação**: A escolha correta da amplitude do intervalo é crucial para uma representação adequada da variabilidade dos dados.\n",
    "- **Facilitação da Interpretação**: Intervalos muito pequenos podem levar a uma tabela com muitos detalhes, tornando difícil a interpretação, enquanto intervalos muito grandes podem esconder padrões significativos nos dados.\n",
    "- **Impacto na Visualização**: A amplitude do intervalo influencia diretamente a visualização e interpretação de gráficos de frequência, como histogramas."
   ]
  },
  {
   "cell_type": "markdown",
   "metadata": {},
   "source": [
    "h = AA / i\n",
    "\n",
    "AA = Xmax - Xmin"
   ]
  },
  {
   "cell_type": "code",
   "execution_count": 13,
   "metadata": {},
   "outputs": [
    {
     "data": {
      "text/plain": [
       "23"
      ]
     },
     "execution_count": 13,
     "metadata": {},
     "output_type": "execute_result"
    }
   ],
   "source": [
    "AA = maximo - minimo\n",
    "AA"
   ]
  },
  {
   "cell_type": "code",
   "execution_count": 14,
   "metadata": {},
   "outputs": [
    {
     "data": {
      "text/plain": [
       "3.8333333333333335"
      ]
     },
     "execution_count": 14,
     "metadata": {},
     "output_type": "execute_result"
    }
   ],
   "source": [
    "h = AA / i\n",
    "h"
   ]
  },
  {
   "cell_type": "code",
   "execution_count": 15,
   "metadata": {},
   "outputs": [
    {
     "data": {
      "text/plain": [
       "4"
      ]
     },
     "execution_count": 15,
     "metadata": {},
     "output_type": "execute_result"
    }
   ],
   "source": [
    "import math\n",
    "h = math.ceil(h)\n",
    "h"
   ]
  },
  {
   "cell_type": "markdown",
   "metadata": {},
   "source": [
    "### Construção da distribuição de frequência"
   ]
  },
  {
   "cell_type": "markdown",
   "metadata": {},
   "source": [
    "Para construir uma distribuição de frequência a partir de um conjunto de dados, um passo crucial é determinar os intervalos de classe. Isso envolve definir o início e o fim de cada intervalo com base na amplitude do intervalo calculada anteriormente. O uso da função `np.arange` do NumPy é uma maneira eficaz de criar esses intervalos automaticamente.\n",
    "\n",
    "#### Definição dos Intervalos de Classe:\n",
    "\n",
    "Para determinar os intervalos de classe, utilizamos a seguinte expressão:\n",
    "\n",
    "$$\\text{intervalos} = np.arange(\\text{minimo}, \\text{maximo} + 2, \\text{step} = h)$$\n",
    "\n",
    "onde:\n",
    "- $\\text{minimo}$ é o menor valor no conjunto de dados.\n",
    "- $\\text{maximo}$ é o maior valor no conjunto de dados.\n",
    "- $h$ é a amplitude do intervalo.\n",
    "\n",
    "A função `np.arange` gera valores dentro de um intervalo com um espaçamento definido por `h`, partindo do valor mínimo até o máximo. O $\\text{maximo} + 2$ garante que o último intervalo inclua o valor máximo."
   ]
  },
  {
   "cell_type": "code",
   "execution_count": 16,
   "metadata": {},
   "outputs": [
    {
     "data": {
      "text/plain": [
       "array([150, 154, 158, 162, 166, 170, 174])"
      ]
     },
     "execution_count": 16,
     "metadata": {},
     "output_type": "execute_result"
    }
   ],
   "source": [
    "intervalos = np.arange(minimo, maximo + 2, step = h)\n",
    "intervalos"
   ]
  },
  {
   "cell_type": "code",
   "execution_count": 17,
   "metadata": {},
   "outputs": [],
   "source": [
    "intervalo1, intervalo2, intervalo3, intervalo4, intervalo5, intervalo6 = 0,0,0,0,0,0\n",
    "for i in range(n):\n",
    "  if dados[i] >= intervalos[0] and dados[i] < intervalos[1]:\n",
    "    intervalo1 += 1\n",
    "  elif dados[i] >= intervalos[1] and dados[i] < intervalos[2]:\n",
    "    intervalo2 += 1\n",
    "  elif dados[i] >= intervalos[2] and dados[i] < intervalos[3]:\n",
    "    intervalo3 += 1\n",
    "  elif dados[i] >= intervalos[3] and dados[i] < intervalos[4]:\n",
    "    intervalo4 += 1\n",
    "  elif dados[i] >= intervalos[4] and dados[i] < intervalos[5]:\n",
    "    intervalo5 += 1\n",
    "  elif dados[i] >= intervalos[5] and dados[i] < intervalos[6]:\n",
    "    intervalo6 += 1"
   ]
  },
  {
   "cell_type": "code",
   "execution_count": 18,
   "metadata": {},
   "outputs": [
    {
     "data": {
      "text/plain": [
       "[5, 9, 11, 7, 5, 3]"
      ]
     },
     "execution_count": 18,
     "metadata": {},
     "output_type": "execute_result"
    }
   ],
   "source": [
    "lista_intervalos = []\n",
    "lista_intervalos.append(intervalo1)\n",
    "lista_intervalos.append(intervalo2)\n",
    "lista_intervalos.append(intervalo3)\n",
    "lista_intervalos.append(intervalo4)\n",
    "lista_intervalos.append(intervalo5)\n",
    "lista_intervalos.append(intervalo6)\n",
    "lista_intervalos"
   ]
  },
  {
   "cell_type": "code",
   "execution_count": 19,
   "metadata": {},
   "outputs": [],
   "source": [
    "lista_classes = []\n",
    "for i in range(len(lista_intervalos)):\n",
    "  lista_classes.append(str(intervalos[i]) + '-' + str(intervalos[i + 1]))"
   ]
  },
  {
   "cell_type": "code",
   "execution_count": 20,
   "metadata": {},
   "outputs": [
    {
     "data": {
      "text/plain": [
       "['150-154', '154-158', '158-162', '162-166', '166-170', '170-174']"
      ]
     },
     "execution_count": 20,
     "metadata": {},
     "output_type": "execute_result"
    }
   ],
   "source": [
    "lista_classes"
   ]
  },
  {
   "cell_type": "code",
   "execution_count": 21,
   "metadata": {},
   "outputs": [
    {
     "data": {
      "image/png": "[encoded data removed]",
      "text/plain": [
       "<Figure size 432x288 with 1 Axes>"
      ]
     },
     "metadata": {
      "needs_background": "light"
     },
     "output_type": "display_data"
    }
   ],
   "source": [
    "plt.bar(lista_classes, lista_intervalos)\n",
    "plt.title('Distribuição de frequência - histograma')\n",
    "plt.xlabel('intervalos')\n",
    "plt.ylabel('valores');"
   ]
  },
  {
   "cell_type": "markdown",
   "metadata": {},
   "source": [
    "### Distribuição de frequência e histograma com numpy e matplotlib"
   ]
  },
  {
   "cell_type": "markdown",
   "metadata": {},
   "source": [
    "https://numpy.org/doc/stable/reference/generated/numpy.histogram.html\n",
    "https://numpy.org/doc/stable/reference/generated/numpy.histogram_bin_edges.html#numpy.histogram_bin_edges"
   ]
  },
  {
   "cell_type": "code",
   "execution_count": 22,
   "metadata": {},
   "outputs": [],
   "source": [
    "dados = np.array([160, 165, 167, 164, 160, 166, 160, 161, 150, 152, 173, 160, 155,\n",
    "                  164, 168, 162, 161, 168, 163, 156, 155, 169, 151, 170, 164,\n",
    "                  155, 152, 163, 160, 155, 157, 156, 158, 158, 161, 154, 161, 156, 172, 153])"
   ]
  },
  {
   "cell_type": "code",
   "execution_count": 23,
   "metadata": {},
   "outputs": [],
   "source": [
    "frequencia, classes = np.histogram(dados)"
   ]
  },
  {
   "cell_type": "code",
   "execution_count": 24,
   "metadata": {},
   "outputs": [
    {
     "data": {
      "text/plain": [
       "(array([4, 2, 7, 3, 9, 3, 5, 3, 2, 2], dtype=int64),\n",
       " array([150. , 152.3, 154.6, 156.9, 159.2, 161.5, 163.8, 166.1, 168.4,\n",
       "        170.7, 173. ]),\n",
       " 11)"
      ]
     },
     "execution_count": 24,
     "metadata": {},
     "output_type": "execute_result"
    }
   ],
   "source": [
    "frequencia, classes, len(classes)"
   ]
  },
  {
   "cell_type": "code",
   "execution_count": 25,
   "metadata": {},
   "outputs": [
    {
     "data": {
      "image/png": "[encoded data removed]",
      "text/plain": [
       "<Figure size 432x288 with 1 Axes>"
      ]
     },
     "metadata": {
      "needs_background": "light"
     },
     "output_type": "display_data"
    }
   ],
   "source": [
    "plt.hist(dados, bins = classes);"
   ]
  },
  {
   "cell_type": "code",
   "execution_count": 26,
   "metadata": {},
   "outputs": [
    {
     "data": {
      "text/plain": [
       "(array([ 6, 10, 12,  8,  4], dtype=int64),\n",
       " array([150. , 154.6, 159.2, 163.8, 168.4, 173. ]))"
      ]
     },
     "execution_count": 26,
     "metadata": {},
     "output_type": "execute_result"
    }
   ],
   "source": [
    "frequencia, classes = np.histogram(dados, bins=5)\n",
    "frequencia, classes"
   ]
  },
  {
   "cell_type": "code",
   "execution_count": 27,
   "metadata": {},
   "outputs": [
    {
     "data": {
      "image/png": "[encoded data removed]",
      "text/plain": [
       "<Figure size 432x288 with 1 Axes>"
      ]
     },
     "metadata": {
      "needs_background": "light"
     },
     "output_type": "display_data"
    }
   ],
   "source": [
    "plt.hist(dados, classes);"
   ]
  },
  {
   "cell_type": "code",
   "execution_count": 28,
   "metadata": {},
   "outputs": [
    {
     "data": {
      "text/plain": [
       "(array([ 5,  8,  3, 12,  5,  4,  3], dtype=int64),\n",
       " array([150.        , 153.28571429, 156.57142857, 159.85714286,\n",
       "        163.14285714, 166.42857143, 169.71428571, 173.        ]))"
      ]
     },
     "execution_count": 28,
     "metadata": {},
     "output_type": "execute_result"
    }
   ],
   "source": [
    "frequencia, classes = np.histogram(dados, bins = 'sturges')\n",
    "frequencia, classes"
   ]
  },
  {
   "cell_type": "code",
   "execution_count": 29,
   "metadata": {},
   "outputs": [
    {
     "data": {
      "image/png": "[encoded data removed]",
      "text/plain": [
       "<Figure size 432x288 with 1 Axes>"
      ]
     },
     "metadata": {
      "needs_background": "light"
     },
     "output_type": "display_data"
    }
   ],
   "source": [
    "plt.hist(dados, classes);"
   ]
  },
  {
   "cell_type": "markdown",
   "metadata": {},
   "source": [
    "### Distribuição de frequência e histograma com pandas e seaborn"
   ]
  },
  {
   "cell_type": "code",
   "execution_count": 30,
   "metadata": {},
   "outputs": [
    {
     "data": {
      "text/plain": [
       "numpy.ndarray"
      ]
     },
     "execution_count": 30,
     "metadata": {},
     "output_type": "execute_result"
    }
   ],
   "source": [
    "type(dados)"
   ]
  },
  {
   "cell_type": "code",
   "execution_count": 31,
   "metadata": {},
   "outputs": [],
   "source": [
    "dataset = pd.DataFrame({'dados': dados})"
   ]
  },
  {
   "cell_type": "code",
   "execution_count": 32,
   "metadata": {},
   "outputs": [
    {
     "data": {
      "text/html": [
       "<div>\n",
       "<style scoped>\n",
       "    .dataframe tbody tr th:only-of-type {\n",
       "        vertical-align: middle;\n",
       "    }\n",
       "\n",
       "    .dataframe tbody tr th {\n",
       "        vertical-align: top;\n",
       "    }\n",
       "\n",
       "    .dataframe thead th {\n",
       "        text-align: right;\n",
       "    }\n",
       "</style>\n",
       "<table border=\"1\" class=\"dataframe\">\n",
       "  <thead>\n",
       "    <tr style=\"text-align: right;\">\n",
       "      <th></th>\n",
       "      <th>dados</th>\n",
       "    </tr>\n",
       "  </thead>\n",
       "  <tbody>\n",
       "    <tr>\n",
       "      <th>0</th>\n",
       "      <td>160</td>\n",
       "    </tr>\n",
       "    <tr>\n",
       "      <th>1</th>\n",
       "      <td>165</td>\n",
       "    </tr>\n",
       "    <tr>\n",
       "      <th>2</th>\n",
       "      <td>167</td>\n",
       "    </tr>\n",
       "    <tr>\n",
       "      <th>3</th>\n",
       "      <td>164</td>\n",
       "    </tr>\n",
       "    <tr>\n",
       "      <th>4</th>\n",
       "      <td>160</td>\n",
       "    </tr>\n",
       "  </tbody>\n",
       "</table>\n",
       "</div>"
      ],
      "text/plain": [
       "   dados\n",
       "0    160\n",
       "1    165\n",
       "2    167\n",
       "3    164\n",
       "4    160"
      ]
     },
     "execution_count": 32,
     "metadata": {},
     "output_type": "execute_result"
    }
   ],
   "source": [
    "dataset.head()"
   ]
  },
  {
   "cell_type": "code",
   "execution_count": 33,
   "metadata": {},
   "outputs": [
    {
     "data": {
      "image/png": "[encoded data removed]",
      "text/plain": [
       "<Figure size 432x288 with 1 Axes>"
      ]
     },
     "metadata": {
      "needs_background": "light"
     },
     "output_type": "display_data"
    }
   ],
   "source": [
    "dataset.plot.hist();"
   ]
  },
  {
   "cell_type": "code",
   "execution_count": 34,
   "metadata": {},
   "outputs": [
    {
     "name": "stderr",
     "output_type": "stream",
     "text": [
      "C:\\Users\\yanks\\anaconda3\\lib\\site-packages\\seaborn\\distributions.py:2619: FutureWarning: `distplot` is a deprecated function and will be removed in a future version. Please adapt your code to use either `displot` (a figure-level function with similar flexibility) or `histplot` (an axes-level function for histograms).\n",
      "  warnings.warn(msg, FutureWarning)\n"
     ]
    },
    {
     "data": {
      "image/png": "[encoded data removed]",
      "text/plain": [
       "<Figure size 432x288 with 1 Axes>"
      ]
     },
     "metadata": {
      "needs_background": "light"
     },
     "output_type": "display_data"
    }
   ],
   "source": [
    "sns.distplot(dados, hist = True, kde = True);"
   ]
  },
  {
   "cell_type": "markdown",
   "metadata": {},
   "source": [
    "### Exercício - idade census.csv"
   ]
  },
  {
   "cell_type": "code",
   "execution_count": 35,
   "metadata": {},
   "outputs": [],
   "source": [
    "import pandas as pd\n",
    "dataset = pd.read_csv('census.csv')"
   ]
  },
  {
   "cell_type": "code",
   "execution_count": 36,
   "metadata": {},
   "outputs": [
    {
     "data": {
      "text/html": [
       "<div>\n",
       "<style scoped>\n",
       "    .dataframe tbody tr th:only-of-type {\n",
       "        vertical-align: middle;\n",
       "    }\n",
       "\n",
       "    .dataframe tbody tr th {\n",
       "        vertical-align: top;\n",
       "    }\n",
       "\n",
       "    .dataframe thead th {\n",
       "        text-align: right;\n",
       "    }\n",
       "</style>\n",
       "<table border=\"1\" class=\"dataframe\">\n",
       "  <thead>\n",
       "    <tr style=\"text-align: right;\">\n",
       "      <th></th>\n",
       "      <th>age</th>\n",
       "      <th>workclass</th>\n",
       "      <th>final-weight</th>\n",
       "      <th>education</th>\n",
       "      <th>education-num</th>\n",
       "      <th>marital-status</th>\n",
       "      <th>occupation</th>\n",
       "      <th>relationship</th>\n",
       "      <th>race</th>\n",
       "      <th>sex</th>\n",
       "      <th>capital-gain</th>\n",
       "      <th>capital-loos</th>\n",
       "      <th>hour-per-week</th>\n",
       "      <th>native-country</th>\n",
       "      <th>income</th>\n",
       "    </tr>\n",
       "  </thead>\n",
       "  <tbody>\n",
       "    <tr>\n",
       "      <th>0</th>\n",
       "      <td>39</td>\n",
       "      <td>State-gov</td>\n",
       "      <td>77516</td>\n",
       "      <td>Bachelors</td>\n",
       "      <td>13</td>\n",
       "      <td>Never-married</td>\n",
       "      <td>Adm-clerical</td>\n",
       "      <td>Not-in-family</td>\n",
       "      <td>White</td>\n",
       "      <td>Male</td>\n",
       "      <td>2174</td>\n",
       "      <td>0</td>\n",
       "      <td>40</td>\n",
       "      <td>United-States</td>\n",
       "      <td>&lt;=50K</td>\n",
       "    </tr>\n",
       "    <tr>\n",
       "      <th>1</th>\n",
       "      <td>50</td>\n",
       "      <td>Self-emp-not-inc</td>\n",
       "      <td>83311</td>\n",
       "      <td>Bachelors</td>\n",
       "      <td>13</td>\n",
       "      <td>Married-civ-spouse</td>\n",
       "      <td>Exec-managerial</td>\n",
       "      <td>Husband</td>\n",
       "      <td>White</td>\n",
       "      <td>Male</td>\n",
       "      <td>0</td>\n",
       "      <td>0</td>\n",
       "      <td>13</td>\n",
       "      <td>United-States</td>\n",
       "      <td>&lt;=50K</td>\n",
       "    </tr>\n",
       "    <tr>\n",
       "      <th>2</th>\n",
       "      <td>38</td>\n",
       "      <td>Private</td>\n",
       "      <td>215646</td>\n",
       "      <td>HS-grad</td>\n",
       "      <td>9</td>\n",
       "      <td>Divorced</td>\n",
       "      <td>Handlers-cleaners</td>\n",
       "      <td>Not-in-family</td>\n",
       "      <td>White</td>\n",
       "      <td>Male</td>\n",
       "      <td>0</td>\n",
       "      <td>0</td>\n",
       "      <td>40</td>\n",
       "      <td>United-States</td>\n",
       "      <td>&lt;=50K</td>\n",
       "    </tr>\n",
       "    <tr>\n",
       "      <th>3</th>\n",
       "      <td>53</td>\n",
       "      <td>Private</td>\n",
       "      <td>234721</td>\n",
       "      <td>11th</td>\n",
       "      <td>7</td>\n",
       "      <td>Married-civ-spouse</td>\n",
       "      <td>Handlers-cleaners</td>\n",
       "      <td>Husband</td>\n",
       "      <td>Black</td>\n",
       "      <td>Male</td>\n",
       "      <td>0</td>\n",
       "      <td>0</td>\n",
       "      <td>40</td>\n",
       "      <td>United-States</td>\n",
       "      <td>&lt;=50K</td>\n",
       "    </tr>\n",
       "    <tr>\n",
       "      <th>4</th>\n",
       "      <td>28</td>\n",
       "      <td>Private</td>\n",
       "      <td>338409</td>\n",
       "      <td>Bachelors</td>\n",
       "      <td>13</td>\n",
       "      <td>Married-civ-spouse</td>\n",
       "      <td>Prof-specialty</td>\n",
       "      <td>Wife</td>\n",
       "      <td>Black</td>\n",
       "      <td>Female</td>\n",
       "      <td>0</td>\n",
       "      <td>0</td>\n",
       "      <td>40</td>\n",
       "      <td>Cuba</td>\n",
       "      <td>&lt;=50K</td>\n",
       "    </tr>\n",
       "  </tbody>\n",
       "</table>\n",
       "</div>"
      ],
      "text/plain": [
       "   age          workclass  final-weight   education  education-num  \\\n",
       "0   39          State-gov         77516   Bachelors             13   \n",
       "1   50   Self-emp-not-inc         83311   Bachelors             13   \n",
       "2   38            Private        215646     HS-grad              9   \n",
       "3   53            Private        234721        11th              7   \n",
       "4   28            Private        338409   Bachelors             13   \n",
       "\n",
       "        marital-status          occupation    relationship    race      sex  \\\n",
       "0        Never-married        Adm-clerical   Not-in-family   White     Male   \n",
       "1   Married-civ-spouse     Exec-managerial         Husband   White     Male   \n",
       "2             Divorced   Handlers-cleaners   Not-in-family   White     Male   \n",
       "3   Married-civ-spouse   Handlers-cleaners         Husband   Black     Male   \n",
       "4   Married-civ-spouse      Prof-specialty            Wife   Black   Female   \n",
       "\n",
       "   capital-gain  capital-loos  hour-per-week  native-country  income  \n",
       "0          2174             0             40   United-States   <=50K  \n",
       "1             0             0             13   United-States   <=50K  \n",
       "2             0             0             40   United-States   <=50K  \n",
       "3             0             0             40   United-States   <=50K  \n",
       "4             0             0             40            Cuba   <=50K  "
      ]
     },
     "execution_count": 36,
     "metadata": {},
     "output_type": "execute_result"
    }
   ],
   "source": [
    "dataset.head()"
   ]
  },
  {
   "cell_type": "code",
   "execution_count": 37,
   "metadata": {},
   "outputs": [
    {
     "data": {
      "text/plain": [
       "(90, 17)"
      ]
     },
     "execution_count": 37,
     "metadata": {},
     "output_type": "execute_result"
    }
   ],
   "source": [
    "dataset['age'].max(), dataset['age'].min()"
   ]
  },
  {
   "cell_type": "code",
   "execution_count": 38,
   "metadata": {},
   "outputs": [
    {
     "data": {
      "image/png": "[encoded data removed]",
      "text/plain": [
       "<Figure size 432x288 with 1 Axes>"
      ]
     },
     "metadata": {
      "needs_background": "light"
     },
     "output_type": "display_data"
    }
   ],
   "source": [
    "dataset['age'].plot.hist();"
   ]
  },
  {
   "cell_type": "code",
   "execution_count": 39,
   "metadata": {},
   "outputs": [],
   "source": [
    "dataset['age'] = pd.cut(dataset['age'], bins=[0, 17, 25, 40, 60, 90], \n",
    "                        labels=['Faixa1', \"Faixa2\", \"Faixa3\", \"Faixa4\", \"Faixa5\"])"
   ]
  },
  {
   "cell_type": "code",
   "execution_count": 40,
   "metadata": {},
   "outputs": [
    {
     "data": {
      "text/html": [
       "<div>\n",
       "<style scoped>\n",
       "    .dataframe tbody tr th:only-of-type {\n",
       "        vertical-align: middle;\n",
       "    }\n",
       "\n",
       "    .dataframe tbody tr th {\n",
       "        vertical-align: top;\n",
       "    }\n",
       "\n",
       "    .dataframe thead th {\n",
       "        text-align: right;\n",
       "    }\n",
       "</style>\n",
       "<table border=\"1\" class=\"dataframe\">\n",
       "  <thead>\n",
       "    <tr style=\"text-align: right;\">\n",
       "      <th></th>\n",
       "      <th>age</th>\n",
       "      <th>workclass</th>\n",
       "      <th>final-weight</th>\n",
       "      <th>education</th>\n",
       "      <th>education-num</th>\n",
       "      <th>marital-status</th>\n",
       "      <th>occupation</th>\n",
       "      <th>relationship</th>\n",
       "      <th>race</th>\n",
       "      <th>sex</th>\n",
       "      <th>capital-gain</th>\n",
       "      <th>capital-loos</th>\n",
       "      <th>hour-per-week</th>\n",
       "      <th>native-country</th>\n",
       "      <th>income</th>\n",
       "    </tr>\n",
       "  </thead>\n",
       "  <tbody>\n",
       "    <tr>\n",
       "      <th>0</th>\n",
       "      <td>Faixa3</td>\n",
       "      <td>State-gov</td>\n",
       "      <td>77516</td>\n",
       "      <td>Bachelors</td>\n",
       "      <td>13</td>\n",
       "      <td>Never-married</td>\n",
       "      <td>Adm-clerical</td>\n",
       "      <td>Not-in-family</td>\n",
       "      <td>White</td>\n",
       "      <td>Male</td>\n",
       "      <td>2174</td>\n",
       "      <td>0</td>\n",
       "      <td>40</td>\n",
       "      <td>United-States</td>\n",
       "      <td>&lt;=50K</td>\n",
       "    </tr>\n",
       "    <tr>\n",
       "      <th>1</th>\n",
       "      <td>Faixa4</td>\n",
       "      <td>Self-emp-not-inc</td>\n",
       "      <td>83311</td>\n",
       "      <td>Bachelors</td>\n",
       "      <td>13</td>\n",
       "      <td>Married-civ-spouse</td>\n",
       "      <td>Exec-managerial</td>\n",
       "      <td>Husband</td>\n",
       "      <td>White</td>\n",
       "      <td>Male</td>\n",
       "      <td>0</td>\n",
       "      <td>0</td>\n",
       "      <td>13</td>\n",
       "      <td>United-States</td>\n",
       "      <td>&lt;=50K</td>\n",
       "    </tr>\n",
       "    <tr>\n",
       "      <th>2</th>\n",
       "      <td>Faixa3</td>\n",
       "      <td>Private</td>\n",
       "      <td>215646</td>\n",
       "      <td>HS-grad</td>\n",
       "      <td>9</td>\n",
       "      <td>Divorced</td>\n",
       "      <td>Handlers-cleaners</td>\n",
       "      <td>Not-in-family</td>\n",
       "      <td>White</td>\n",
       "      <td>Male</td>\n",
       "      <td>0</td>\n",
       "      <td>0</td>\n",
       "      <td>40</td>\n",
       "      <td>United-States</td>\n",
       "      <td>&lt;=50K</td>\n",
       "    </tr>\n",
       "    <tr>\n",
       "      <th>3</th>\n",
       "      <td>Faixa4</td>\n",
       "      <td>Private</td>\n",
       "      <td>234721</td>\n",
       "      <td>11th</td>\n",
       "      <td>7</td>\n",
       "      <td>Married-civ-spouse</td>\n",
       "      <td>Handlers-cleaners</td>\n",
       "      <td>Husband</td>\n",
       "      <td>Black</td>\n",
       "      <td>Male</td>\n",
       "      <td>0</td>\n",
       "      <td>0</td>\n",
       "      <td>40</td>\n",
       "      <td>United-States</td>\n",
       "      <td>&lt;=50K</td>\n",
       "    </tr>\n",
       "    <tr>\n",
       "      <th>4</th>\n",
       "      <td>Faixa3</td>\n",
       "      <td>Private</td>\n",
       "      <td>338409</td>\n",
       "      <td>Bachelors</td>\n",
       "      <td>13</td>\n",
       "      <td>Married-civ-spouse</td>\n",
       "      <td>Prof-specialty</td>\n",
       "      <td>Wife</td>\n",
       "      <td>Black</td>\n",
       "      <td>Female</td>\n",
       "      <td>0</td>\n",
       "      <td>0</td>\n",
       "      <td>40</td>\n",
       "      <td>Cuba</td>\n",
       "      <td>&lt;=50K</td>\n",
       "    </tr>\n",
       "  </tbody>\n",
       "</table>\n",
       "</div>"
      ],
      "text/plain": [
       "      age          workclass  final-weight   education  education-num  \\\n",
       "0  Faixa3          State-gov         77516   Bachelors             13   \n",
       "1  Faixa4   Self-emp-not-inc         83311   Bachelors             13   \n",
       "2  Faixa3            Private        215646     HS-grad              9   \n",
       "3  Faixa4            Private        234721        11th              7   \n",
       "4  Faixa3            Private        338409   Bachelors             13   \n",
       "\n",
       "        marital-status          occupation    relationship    race      sex  \\\n",
       "0        Never-married        Adm-clerical   Not-in-family   White     Male   \n",
       "1   Married-civ-spouse     Exec-managerial         Husband   White     Male   \n",
       "2             Divorced   Handlers-cleaners   Not-in-family   White     Male   \n",
       "3   Married-civ-spouse   Handlers-cleaners         Husband   Black     Male   \n",
       "4   Married-civ-spouse      Prof-specialty            Wife   Black   Female   \n",
       "\n",
       "   capital-gain  capital-loos  hour-per-week  native-country  income  \n",
       "0          2174             0             40   United-States   <=50K  \n",
       "1             0             0             13   United-States   <=50K  \n",
       "2             0             0             40   United-States   <=50K  \n",
       "3             0             0             40   United-States   <=50K  \n",
       "4             0             0             40            Cuba   <=50K  "
      ]
     },
     "execution_count": 40,
     "metadata": {},
     "output_type": "execute_result"
    }
   ],
   "source": [
    "dataset.head()"
   ]
  },
  {
   "cell_type": "code",
   "execution_count": 41,
   "metadata": {},
   "outputs": [
    {
     "data": {
      "text/plain": [
       "['Faixa3', 'Faixa4', 'Faixa2', 'Faixa5', 'Faixa1']\n",
       "Categories (5, object): ['Faixa1' < 'Faixa2' < 'Faixa3' < 'Faixa4' < 'Faixa5']"
      ]
     },
     "execution_count": 41,
     "metadata": {},
     "output_type": "execute_result"
    }
   ],
   "source": [
    "dataset['age'].unique()"
   ]
  },
  {
   "cell_type": "markdown",
   "metadata": {},
   "source": [
    "### Regras de associação"
   ]
  },
  {
   "cell_type": "markdown",
   "metadata": {},
   "source": [
    "Bastante utilizado para:\n",
    "\n",
    "    1. Análise de mercado:\n",
    "    - Prateleiras de mercado:\n",
    "    Em que prateleira o biscoito de chocolate deve ser colocado para maximizar suas vendas?\n",
    "    Suco de uva costuma ser comprado com refrigerante?\n",
    "    Qual produto pode ser colocado em promoção para uma venda casada com tomates?\n",
    "        \n",
    "    - Promoções com itens que são vendidos em conjunto\n",
    "    - Planejar catálogos das lojas e folhetos de promoções\n",
    "    \n",
    "    2. Universidade: \n",
    "    - Controle de evasão em universidades\n",
    "    \n",
    "    3. Saúde e medicina:\n",
    "    - Identificar combinações de sintomas que frequentemente ocorrem juntos para ajudar no diagnóstico precoce de doenças.\n",
    "    - Analisar prescrições para descobrir combinações de medicamentos que podem levar a interações adversas.\n",
    "    \n",
    "    4. Comércio eletrônico:\n",
    "    - Recomendação de produtos com base no histórico de compras dos clientes para aumentar a venda cruzada e a venda sugestiva.\n",
    "    - Análise do comportamento de navegação para sugerir produtos que outros usuários com padrões de navegação semelhantes compraram.\n",
    "    \n",
    "    5. Segurança de TI:\n",
    "    - Detectar padrões de atividades que podem indicar uma ameaça de segurança, como uma combinação de downloads e acessos a áreas sensíveis do sistema\n",
    "    - Identificar combinações de falhas de login que sugerem tentativas de invasão.\n",
    "    \n",
    "    6. Banca e seguros:\n",
    "    - Detectar fraudes por meio da identificação de padrões incomuns de transações que costumam ocorrer juntas em atividades fraudulentas.\n",
    "    - Avaliar o risco de crédito analisando combinações de comportamentos de pagamento do cliente e outras variáveis financeiras.\n",
    "    \n",
    "    8. Telecomunicações:\n",
    "    - Analisar padrões de uso para identificar clientes em risco de churn, oferecendo promoções específicas baseadas em suas atividades e preferências.\n",
    "    - Otimizar a localização de torres de celular ao analisar combinações de alta demanda de serviço em diferentes áreas.\n",
    "    \n",
    "    9. Gestão de cadeia de suprimentos:\n",
    "    - Prever a demanda de produtos baseando-se em combinações de pedidos anteriores e condições de mercado.\n",
    "    - Identificar combinações de atrasos de fornecedores que podem impactar a produção.\n",
    "    \n",
    "    10. Transportes e logística:\n",
    "    - Melhorar a eficiência do planejamento de rotas ao identificar padrões frequentes no movimento de veículos.\n",
    "    - Otimizar a alocação de recursos analisando combinações de carga e rotas que maximizam o lucro.\n"
   ]
  },
  {
   "cell_type": "markdown",
   "metadata": {},
   "source": [
    "#### Algoritmo Apriori"
   ]
  },
  {
   "cell_type": "markdown",
   "metadata": {},
   "source": [
    "O algoritmo Apriori é um clássico no campo da mineração de dados, particularmente para a análise de regras de associação. Ele foi projetado para operar em bancos de dados contendo transações, como o histórico de compras em um supermercado, e é usado para identificar os conjuntos de itens que aparecem frequentemente juntos nas transações, conhecidos como \"itemsets frequentes\"."
   ]
  },
  {
   "cell_type": "markdown",
   "metadata": {},
   "source": [
    "| Nº  | Leite | Café | Cerveja | Pão | Manteiga | Arroz | Feijão |\n",
    "|-----|-------|------|---------|-----|----------|-------|--------|\n",
    "| 1   | Não   | Sim  | Não     | Sim | Sim      | Não   | Não    |\n",
    "| 2   | Sim   | Não  | Sim     | Sim | Sim      | Não   | Não    |\n",
    "| 3   | Não   | Sim  | Não     | Sim | Sim      | Não   | Não    |\n",
    "| 4   | Sim   | Sim  | Não     | Sim | Sim      | Não   | Não    |\n",
    "| 5   | Não   | Não  | Sim     | Não | Não      | Não   | Não    |\n",
    "| 6   | Não   | Não  | Não     | Não | Sim      | Não   | Não    |\n",
    "| 7   | Não   | Não  | Não     | Sim | Não      | Não   | Não    |\n",
    "| 8   | Não   | Não  | Não     | Não | Não      | Sim   | Não    |\n",
    "| 9   | Não   | Não  | Não     | Não | Sim      | Sim   | Não    |\n",
    "| 10  | Não   | Não  | Não     | Não | Não      | Não   | Sim    |"
   ]
  },
  {
   "cell_type": "markdown",
   "metadata": {},
   "source": [
    "1. **Definição de suporte:** O algoritmo começa com a definição de um parâmetro chamado \"suporte mínimo\". O suporte de um itemset é definido como a proporção de transações na base de dados que contêm esse itemset. O suporte mínimo é o limiar que determina se um itemset é considerado \"frequente\".\n",
    "\n",
    "2. **Geração de itemsets candidatos:** Inicialmente, o Apriori considera todos os itens individuais na base de dados e calcula o suporte de cada um. Os itens que têm um suporte menor que o suporte mínimo são descartados.\n",
    "\n",
    "3. **Junção:** O algoritmo então gera itemsets de tamanho maior (com 2 itens, depois 3, e assim por diante) combinando os itemsets frequentes anteriores. Isso é feito apenas entre itemsets que têm todos os subconjuntos em comum, exceto pelo último item (estratégia de junção).\n",
    "\n",
    "4. **Poda:** Após gerar um novo nível de itemsets candidatos, o Apriori realiza um passo de poda. Itemsets candidatos que têm algum subconjunto não frequente são eliminados, pois segundo o princípio da antimonotonicidade, um itemset não pode ser frequente se algum de seus subconjuntos imediatos não for frequente.\n",
    "\n",
    "5. **Cálculo do suporte:** O suporte dos itemsets candidatos restantes é calculado. Aqueles que não atendem ao suporte mínimo são descartados.\n",
    "\n",
    "6. **Repetição:** Os passos de junção, poda e cálculo do suporte são repetidos até que não haja novos itemsets frequentes a serem gerados.\n",
    "\n",
    "7. **Geração de regras:** Uma vez identificados todos os itemsets frequentes, o algoritmo pode ser usado para gerar regras de associação, que sugerem uma relação forte entre um subconjunto de itens e outro dentro do mesmo itemset. Isso é feito calculando-se a confiança das regras, que é uma medida de quão frequentemente os itens no consequente da regra ocorrem com os itens no antecedente."
   ]
  },
  {
   "cell_type": "code",
   "execution_count": 42,
   "metadata": {},
   "outputs": [
    {
     "data": {
      "text/html": [
       "<div>\n",
       "<style scoped>\n",
       "    .dataframe tbody tr th:only-of-type {\n",
       "        vertical-align: middle;\n",
       "    }\n",
       "\n",
       "    .dataframe tbody tr th {\n",
       "        vertical-align: top;\n",
       "    }\n",
       "\n",
       "    .dataframe thead th {\n",
       "        text-align: right;\n",
       "    }\n",
       "</style>\n",
       "<table border=\"1\" class=\"dataframe\">\n",
       "  <thead>\n",
       "    <tr style=\"text-align: right;\">\n",
       "      <th></th>\n",
       "      <th>age</th>\n",
       "      <th>workclass</th>\n",
       "      <th>final-weight</th>\n",
       "      <th>education</th>\n",
       "      <th>education-num</th>\n",
       "      <th>marital-status</th>\n",
       "      <th>occupation</th>\n",
       "      <th>relationship</th>\n",
       "      <th>race</th>\n",
       "      <th>sex</th>\n",
       "      <th>capital-gain</th>\n",
       "      <th>capital-loos</th>\n",
       "      <th>hour-per-week</th>\n",
       "      <th>native-country</th>\n",
       "      <th>income</th>\n",
       "    </tr>\n",
       "  </thead>\n",
       "  <tbody>\n",
       "    <tr>\n",
       "      <th>0</th>\n",
       "      <td>Faixa3</td>\n",
       "      <td>State-gov</td>\n",
       "      <td>77516</td>\n",
       "      <td>Bachelors</td>\n",
       "      <td>13</td>\n",
       "      <td>Never-married</td>\n",
       "      <td>Adm-clerical</td>\n",
       "      <td>Not-in-family</td>\n",
       "      <td>White</td>\n",
       "      <td>Male</td>\n",
       "      <td>2174</td>\n",
       "      <td>0</td>\n",
       "      <td>40</td>\n",
       "      <td>United-States</td>\n",
       "      <td>&lt;=50K</td>\n",
       "    </tr>\n",
       "    <tr>\n",
       "      <th>1</th>\n",
       "      <td>Faixa4</td>\n",
       "      <td>Self-emp-not-inc</td>\n",
       "      <td>83311</td>\n",
       "      <td>Bachelors</td>\n",
       "      <td>13</td>\n",
       "      <td>Married-civ-spouse</td>\n",
       "      <td>Exec-managerial</td>\n",
       "      <td>Husband</td>\n",
       "      <td>White</td>\n",
       "      <td>Male</td>\n",
       "      <td>0</td>\n",
       "      <td>0</td>\n",
       "      <td>13</td>\n",
       "      <td>United-States</td>\n",
       "      <td>&lt;=50K</td>\n",
       "    </tr>\n",
       "    <tr>\n",
       "      <th>2</th>\n",
       "      <td>Faixa3</td>\n",
       "      <td>Private</td>\n",
       "      <td>215646</td>\n",
       "      <td>HS-grad</td>\n",
       "      <td>9</td>\n",
       "      <td>Divorced</td>\n",
       "      <td>Handlers-cleaners</td>\n",
       "      <td>Not-in-family</td>\n",
       "      <td>White</td>\n",
       "      <td>Male</td>\n",
       "      <td>0</td>\n",
       "      <td>0</td>\n",
       "      <td>40</td>\n",
       "      <td>United-States</td>\n",
       "      <td>&lt;=50K</td>\n",
       "    </tr>\n",
       "    <tr>\n",
       "      <th>3</th>\n",
       "      <td>Faixa4</td>\n",
       "      <td>Private</td>\n",
       "      <td>234721</td>\n",
       "      <td>11th</td>\n",
       "      <td>7</td>\n",
       "      <td>Married-civ-spouse</td>\n",
       "      <td>Handlers-cleaners</td>\n",
       "      <td>Husband</td>\n",
       "      <td>Black</td>\n",
       "      <td>Male</td>\n",
       "      <td>0</td>\n",
       "      <td>0</td>\n",
       "      <td>40</td>\n",
       "      <td>United-States</td>\n",
       "      <td>&lt;=50K</td>\n",
       "    </tr>\n",
       "    <tr>\n",
       "      <th>4</th>\n",
       "      <td>Faixa3</td>\n",
       "      <td>Private</td>\n",
       "      <td>338409</td>\n",
       "      <td>Bachelors</td>\n",
       "      <td>13</td>\n",
       "      <td>Married-civ-spouse</td>\n",
       "      <td>Prof-specialty</td>\n",
       "      <td>Wife</td>\n",
       "      <td>Black</td>\n",
       "      <td>Female</td>\n",
       "      <td>0</td>\n",
       "      <td>0</td>\n",
       "      <td>40</td>\n",
       "      <td>Cuba</td>\n",
       "      <td>&lt;=50K</td>\n",
       "    </tr>\n",
       "  </tbody>\n",
       "</table>\n",
       "</div>"
      ],
      "text/plain": [
       "      age          workclass  final-weight   education  education-num  \\\n",
       "0  Faixa3          State-gov         77516   Bachelors             13   \n",
       "1  Faixa4   Self-emp-not-inc         83311   Bachelors             13   \n",
       "2  Faixa3            Private        215646     HS-grad              9   \n",
       "3  Faixa4            Private        234721        11th              7   \n",
       "4  Faixa3            Private        338409   Bachelors             13   \n",
       "\n",
       "        marital-status          occupation    relationship    race      sex  \\\n",
       "0        Never-married        Adm-clerical   Not-in-family   White     Male   \n",
       "1   Married-civ-spouse     Exec-managerial         Husband   White     Male   \n",
       "2             Divorced   Handlers-cleaners   Not-in-family   White     Male   \n",
       "3   Married-civ-spouse   Handlers-cleaners         Husband   Black     Male   \n",
       "4   Married-civ-spouse      Prof-specialty            Wife   Black   Female   \n",
       "\n",
       "   capital-gain  capital-loos  hour-per-week  native-country  income  \n",
       "0          2174             0             40   United-States   <=50K  \n",
       "1             0             0             13   United-States   <=50K  \n",
       "2             0             0             40   United-States   <=50K  \n",
       "3             0             0             40   United-States   <=50K  \n",
       "4             0             0             40            Cuba   <=50K  "
      ]
     },
     "execution_count": 42,
     "metadata": {},
     "output_type": "execute_result"
    }
   ],
   "source": [
    "dataset.head()"
   ]
  },
  {
   "cell_type": "code",
   "execution_count": 43,
   "metadata": {},
   "outputs": [],
   "source": [
    "dataset_apriori = dataset[['age', 'workclass', 'education', 'marital-status', 'relationship', 'occupation',\n",
    "                            'sex', 'native-country', 'income']]"
   ]
  },
  {
   "cell_type": "code",
   "execution_count": 44,
   "metadata": {},
   "outputs": [
    {
     "data": {
      "text/html": [
       "<div>\n",
       "<style scoped>\n",
       "    .dataframe tbody tr th:only-of-type {\n",
       "        vertical-align: middle;\n",
       "    }\n",
       "\n",
       "    .dataframe tbody tr th {\n",
       "        vertical-align: top;\n",
       "    }\n",
       "\n",
       "    .dataframe thead th {\n",
       "        text-align: right;\n",
       "    }\n",
       "</style>\n",
       "<table border=\"1\" class=\"dataframe\">\n",
       "  <thead>\n",
       "    <tr style=\"text-align: right;\">\n",
       "      <th></th>\n",
       "      <th>age</th>\n",
       "      <th>workclass</th>\n",
       "      <th>education</th>\n",
       "      <th>marital-status</th>\n",
       "      <th>relationship</th>\n",
       "      <th>occupation</th>\n",
       "      <th>sex</th>\n",
       "      <th>native-country</th>\n",
       "      <th>income</th>\n",
       "    </tr>\n",
       "  </thead>\n",
       "  <tbody>\n",
       "    <tr>\n",
       "      <th>0</th>\n",
       "      <td>Faixa3</td>\n",
       "      <td>State-gov</td>\n",
       "      <td>Bachelors</td>\n",
       "      <td>Never-married</td>\n",
       "      <td>Not-in-family</td>\n",
       "      <td>Adm-clerical</td>\n",
       "      <td>Male</td>\n",
       "      <td>United-States</td>\n",
       "      <td>&lt;=50K</td>\n",
       "    </tr>\n",
       "    <tr>\n",
       "      <th>1</th>\n",
       "      <td>Faixa4</td>\n",
       "      <td>Self-emp-not-inc</td>\n",
       "      <td>Bachelors</td>\n",
       "      <td>Married-civ-spouse</td>\n",
       "      <td>Husband</td>\n",
       "      <td>Exec-managerial</td>\n",
       "      <td>Male</td>\n",
       "      <td>United-States</td>\n",
       "      <td>&lt;=50K</td>\n",
       "    </tr>\n",
       "    <tr>\n",
       "      <th>2</th>\n",
       "      <td>Faixa3</td>\n",
       "      <td>Private</td>\n",
       "      <td>HS-grad</td>\n",
       "      <td>Divorced</td>\n",
       "      <td>Not-in-family</td>\n",
       "      <td>Handlers-cleaners</td>\n",
       "      <td>Male</td>\n",
       "      <td>United-States</td>\n",
       "      <td>&lt;=50K</td>\n",
       "    </tr>\n",
       "    <tr>\n",
       "      <th>3</th>\n",
       "      <td>Faixa4</td>\n",
       "      <td>Private</td>\n",
       "      <td>11th</td>\n",
       "      <td>Married-civ-spouse</td>\n",
       "      <td>Husband</td>\n",
       "      <td>Handlers-cleaners</td>\n",
       "      <td>Male</td>\n",
       "      <td>United-States</td>\n",
       "      <td>&lt;=50K</td>\n",
       "    </tr>\n",
       "    <tr>\n",
       "      <th>4</th>\n",
       "      <td>Faixa3</td>\n",
       "      <td>Private</td>\n",
       "      <td>Bachelors</td>\n",
       "      <td>Married-civ-spouse</td>\n",
       "      <td>Wife</td>\n",
       "      <td>Prof-specialty</td>\n",
       "      <td>Female</td>\n",
       "      <td>Cuba</td>\n",
       "      <td>&lt;=50K</td>\n",
       "    </tr>\n",
       "  </tbody>\n",
       "</table>\n",
       "</div>"
      ],
      "text/plain": [
       "      age          workclass   education       marital-status    relationship  \\\n",
       "0  Faixa3          State-gov   Bachelors        Never-married   Not-in-family   \n",
       "1  Faixa4   Self-emp-not-inc   Bachelors   Married-civ-spouse         Husband   \n",
       "2  Faixa3            Private     HS-grad             Divorced   Not-in-family   \n",
       "3  Faixa4            Private        11th   Married-civ-spouse         Husband   \n",
       "4  Faixa3            Private   Bachelors   Married-civ-spouse            Wife   \n",
       "\n",
       "           occupation      sex  native-country  income  \n",
       "0        Adm-clerical     Male   United-States   <=50K  \n",
       "1     Exec-managerial     Male   United-States   <=50K  \n",
       "2   Handlers-cleaners     Male   United-States   <=50K  \n",
       "3   Handlers-cleaners     Male   United-States   <=50K  \n",
       "4      Prof-specialty   Female            Cuba   <=50K  "
      ]
     },
     "execution_count": 44,
     "metadata": {},
     "output_type": "execute_result"
    }
   ],
   "source": [
    "dataset_apriori.head()"
   ]
  },
  {
   "cell_type": "code",
   "execution_count": 45,
   "metadata": {},
   "outputs": [
    {
     "data": {
      "text/plain": [
       "(32561, 15)"
      ]
     },
     "execution_count": 45,
     "metadata": {},
     "output_type": "execute_result"
    }
   ],
   "source": [
    "dataset.shape"
   ]
  },
  {
   "cell_type": "code",
   "execution_count": 46,
   "metadata": {},
   "outputs": [
    {
     "data": {
      "text/plain": [
       "(1000, 9)"
      ]
     },
     "execution_count": 46,
     "metadata": {},
     "output_type": "execute_result"
    }
   ],
   "source": [
    "dataset_apriori = dataset_apriori.sample(n = 1000)\n",
    "dataset_apriori.shape"
   ]
  },
  {
   "cell_type": "code",
   "execution_count": 47,
   "metadata": {},
   "outputs": [],
   "source": [
    "transacoes = []\n",
    "for i in range(dataset_apriori.shape[0]):\n",
    "  transacoes.append([str(dataset_apriori.values[i, j]) for j in range(dataset_apriori.shape[1])])"
   ]
  },
  {
   "cell_type": "code",
   "execution_count": 48,
   "metadata": {},
   "outputs": [
    {
     "data": {
      "text/plain": [
       "1000"
      ]
     },
     "execution_count": 48,
     "metadata": {},
     "output_type": "execute_result"
    }
   ],
   "source": [
    "len(transacoes)"
   ]
  },
  {
   "cell_type": "code",
   "execution_count": 49,
   "metadata": {},
   "outputs": [
    {
     "data": {
      "text/plain": [
       "[['Faixa3',\n",
       "  ' State-gov',\n",
       "  ' Masters',\n",
       "  ' Married-civ-spouse',\n",
       "  ' Husband',\n",
       "  ' Exec-managerial',\n",
       "  ' Male',\n",
       "  ' United-States',\n",
       "  ' >50K'],\n",
       " ['Faixa3',\n",
       "  ' Private',\n",
       "  ' Some-college',\n",
       "  ' Divorced',\n",
       "  ' Unmarried',\n",
       "  ' Adm-clerical',\n",
       "  ' Female',\n",
       "  ' United-States',\n",
       "  ' <=50K']]"
      ]
     },
     "execution_count": 49,
     "metadata": {},
     "output_type": "execute_result"
    }
   ],
   "source": [
    "transacoes[:2]"
   ]
  },
  {
   "cell_type": "code",
   "execution_count": 50,
   "metadata": {},
   "outputs": [
    {
     "name": "stdout",
     "output_type": "stream",
     "text": [
      "Collecting apyori\n",
      "  Downloading apyori-1.1.2.tar.gz (8.6 kB)\n",
      "Building wheels for collected packages: apyori\n",
      "  Building wheel for apyori (setup.py): started\n",
      "  Building wheel for apyori (setup.py): finished with status 'done'\n",
      "  Created wheel for apyori: filename=apyori-1.1.2-py3-none-any.whl size=5974 sha256=2fdb7faab0ce153010e32c9dcff43e051c031ff96befbd0bca1674db6bbd19e9\n",
      "  Stored in directory: c:\\users\\yanks\\appdata\\local\\pip\\cache\\wheels\\32\\2a\\54\\10c595515f385f3726642b10c60bf788029e8f3a1323e3913a\n",
      "Successfully built apyori\n",
      "Installing collected packages: apyori\n",
      "Successfully installed apyori-1.1.2\n"
     ]
    }
   ],
   "source": [
    "!pip install apyori"
   ]
  },
  {
   "cell_type": "code",
   "execution_count": 51,
   "metadata": {},
   "outputs": [],
   "source": [
    "from apyori import apriori"
   ]
  },
  {
   "cell_type": "code",
   "execution_count": 52,
   "metadata": {},
   "outputs": [],
   "source": [
    "regras = apriori(transacoes, min_support = 0.3, min_confidence = 0.2)\n",
    "resultados = list(regras)"
   ]
  },
  {
   "cell_type": "code",
   "execution_count": 53,
   "metadata": {},
   "outputs": [
    {
     "data": {
      "text/plain": [
       "35"
      ]
     },
     "execution_count": 53,
     "metadata": {},
     "output_type": "execute_result"
    }
   ],
   "source": [
    "len(resultados)"
   ]
  },
  {
   "cell_type": "code",
   "execution_count": 54,
   "metadata": {},
   "outputs": [
    {
     "data": {
      "text/plain": [
       "[RelationRecord(items=frozenset({' <=50K'}), support=0.759, ordered_statistics=[OrderedStatistic(items_base=frozenset(), items_add=frozenset({' <=50K'}), confidence=0.759, lift=1.0)]),\n",
       " RelationRecord(items=frozenset({' Female'}), support=0.326, ordered_statistics=[OrderedStatistic(items_base=frozenset(), items_add=frozenset({' Female'}), confidence=0.326, lift=1.0)]),\n",
       " RelationRecord(items=frozenset({' HS-grad'}), support=0.326, ordered_statistics=[OrderedStatistic(items_base=frozenset(), items_add=frozenset({' HS-grad'}), confidence=0.326, lift=1.0)]),\n",
       " RelationRecord(items=frozenset({' Husband'}), support=0.401, ordered_statistics=[OrderedStatistic(items_base=frozenset(), items_add=frozenset({' Husband'}), confidence=0.401, lift=1.0)]),\n",
       " RelationRecord(items=frozenset({' Male'}), support=0.674, ordered_statistics=[OrderedStatistic(items_base=frozenset(), items_add=frozenset({' Male'}), confidence=0.674, lift=1.0)]),\n",
       " RelationRecord(items=frozenset({' Married-civ-spouse'}), support=0.449, ordered_statistics=[OrderedStatistic(items_base=frozenset(), items_add=frozenset({' Married-civ-spouse'}), confidence=0.449, lift=1.0)]),\n",
       " RelationRecord(items=frozenset({' Never-married'}), support=0.326, ordered_statistics=[OrderedStatistic(items_base=frozenset(), items_add=frozenset({' Never-married'}), confidence=0.326, lift=1.0)]),\n",
       " RelationRecord(items=frozenset({' Private'}), support=0.7, ordered_statistics=[OrderedStatistic(items_base=frozenset(), items_add=frozenset({' Private'}), confidence=0.7, lift=1.0)]),\n",
       " RelationRecord(items=frozenset({' United-States'}), support=0.901, ordered_statistics=[OrderedStatistic(items_base=frozenset(), items_add=frozenset({' United-States'}), confidence=0.901, lift=1.0)]),\n",
       " RelationRecord(items=frozenset({'Faixa3'}), support=0.364, ordered_statistics=[OrderedStatistic(items_base=frozenset(), items_add=frozenset({'Faixa3'}), confidence=0.364, lift=1.0)]),\n",
       " RelationRecord(items=frozenset({'Faixa4'}), support=0.364, ordered_statistics=[OrderedStatistic(items_base=frozenset(), items_add=frozenset({'Faixa4'}), confidence=0.364, lift=1.0)]),\n",
       " RelationRecord(items=frozenset({' Male', ' <=50K'}), support=0.466, ordered_statistics=[OrderedStatistic(items_base=frozenset(), items_add=frozenset({' Male', ' <=50K'}), confidence=0.466, lift=1.0), OrderedStatistic(items_base=frozenset({' <=50K'}), items_add=frozenset({' Male'}), confidence=0.6139657444005271, lift=0.9109284041550847), OrderedStatistic(items_base=frozenset({' Male'}), items_add=frozenset({' <=50K'}), confidence=0.6913946587537092, lift=0.9109284041550846)]),\n",
       " RelationRecord(items=frozenset({' Never-married', ' <=50K'}), support=0.316, ordered_statistics=[OrderedStatistic(items_base=frozenset(), items_add=frozenset({' Never-married', ' <=50K'}), confidence=0.316, lift=1.0), OrderedStatistic(items_base=frozenset({' <=50K'}), items_add=frozenset({' Never-married'}), confidence=0.4163372859025033, lift=1.277108238964734), OrderedStatistic(items_base=frozenset({' Never-married'}), items_add=frozenset({' <=50K'}), confidence=0.9693251533742331, lift=1.277108238964734)]),\n",
       " RelationRecord(items=frozenset({' Private', ' <=50K'}), support=0.542, ordered_statistics=[OrderedStatistic(items_base=frozenset(), items_add=frozenset({' Private', ' <=50K'}), confidence=0.542, lift=1.0), OrderedStatistic(items_base=frozenset({' <=50K'}), items_add=frozenset({' Private'}), confidence=0.7140974967061924, lift=1.0201392810088463), OrderedStatistic(items_base=frozenset({' Private'}), items_add=frozenset({' <=50K'}), confidence=0.7742857142857144, lift=1.0201392810088463)]),\n",
       " RelationRecord(items=frozenset({' United-States', ' <=50K'}), support=0.679, ordered_statistics=[OrderedStatistic(items_base=frozenset(), items_add=frozenset({' United-States', ' <=50K'}), confidence=0.679, lift=1.0), OrderedStatistic(items_base=frozenset({' <=50K'}), items_add=frozenset({' United-States'}), confidence=0.8945981554677207, lift=0.9928947341484137), OrderedStatistic(items_base=frozenset({' United-States'}), items_add=frozenset({' <=50K'}), confidence=0.753607103218646, lift=0.9928947341484137)]),\n",
       " RelationRecord(items=frozenset({' United-States', ' HS-grad'}), support=0.302, ordered_statistics=[OrderedStatistic(items_base=frozenset(), items_add=frozenset({' United-States', ' HS-grad'}), confidence=0.302, lift=1.0), OrderedStatistic(items_base=frozenset({' HS-grad'}), items_add=frozenset({' United-States'}), confidence=0.9263803680981595, lift=1.0281691099868584), OrderedStatistic(items_base=frozenset({' United-States'}), items_add=frozenset({' HS-grad'}), confidence=0.33518312985571586, lift=1.0281691099868584)]),\n",
       " RelationRecord(items=frozenset({' Male', ' Husband'}), support=0.401, ordered_statistics=[OrderedStatistic(items_base=frozenset(), items_add=frozenset({' Male', ' Husband'}), confidence=0.401, lift=1.0), OrderedStatistic(items_base=frozenset({' Husband'}), items_add=frozenset({' Male'}), confidence=1.0, lift=1.4836795252225519), OrderedStatistic(items_base=frozenset({' Male'}), items_add=frozenset({' Husband'}), confidence=0.5949554896142433, lift=1.4836795252225516)]),\n",
       " RelationRecord(items=frozenset({' Married-civ-spouse', ' Husband'}), support=0.401, ordered_statistics=[OrderedStatistic(items_base=frozenset(), items_add=frozenset({' Married-civ-spouse', ' Husband'}), confidence=0.401, lift=1.0), OrderedStatistic(items_base=frozenset({' Husband'}), items_add=frozenset({' Married-civ-spouse'}), confidence=1.0, lift=2.2271714922048997), OrderedStatistic(items_base=frozenset({' Married-civ-spouse'}), items_add=frozenset({' Husband'}), confidence=0.8930957683741648, lift=2.2271714922048997)]),\n",
       " RelationRecord(items=frozenset({' United-States', ' Husband'}), support=0.368, ordered_statistics=[OrderedStatistic(items_base=frozenset(), items_add=frozenset({' United-States', ' Husband'}), confidence=0.368, lift=1.0), OrderedStatistic(items_base=frozenset({' Husband'}), items_add=frozenset({' United-States'}), confidence=0.9177057356608478, lift=1.018541327037567), OrderedStatistic(items_base=frozenset({' United-States'}), items_add=frozenset({' Husband'}), confidence=0.40843507214206437, lift=1.018541327037567)]),\n",
       " RelationRecord(items=frozenset({' Male', ' Married-civ-spouse'}), support=0.405, ordered_statistics=[OrderedStatistic(items_base=frozenset(), items_add=frozenset({' Male', ' Married-civ-spouse'}), confidence=0.405, lift=1.0), OrderedStatistic(items_base=frozenset({' Male'}), items_add=frozenset({' Married-civ-spouse'}), confidence=0.6008902077151336, lift=1.3382855405682261), OrderedStatistic(items_base=frozenset({' Married-civ-spouse'}), items_add=frozenset({' Male'}), confidence=0.9020044543429845, lift=1.3382855405682261)]),\n",
       " RelationRecord(items=frozenset({' Male', ' Private'}), support=0.464, ordered_statistics=[OrderedStatistic(items_base=frozenset(), items_add=frozenset({' Male', ' Private'}), confidence=0.464, lift=1.0), OrderedStatistic(items_base=frozenset({' Male'}), items_add=frozenset({' Private'}), confidence=0.6884272997032641, lift=0.9834675710046631), OrderedStatistic(items_base=frozenset({' Private'}), items_add=frozenset({' Male'}), confidence=0.6628571428571429, lift=0.983467571004663)]),\n",
       " RelationRecord(items=frozenset({' United-States', ' Male'}), support=0.603, ordered_statistics=[OrderedStatistic(items_base=frozenset(), items_add=frozenset({' United-States', ' Male'}), confidence=0.603, lift=1.0), OrderedStatistic(items_base=frozenset({' Male'}), items_add=frozenset({' United-States'}), confidence=0.8946587537091987, lift=0.9929619907982227), OrderedStatistic(items_base=frozenset({' United-States'}), items_add=frozenset({' Male'}), confidence=0.6692563817980022, lift=0.9929619907982228)]),\n",
       " RelationRecord(items=frozenset({' United-States', ' Married-civ-spouse'}), support=0.41, ordered_statistics=[OrderedStatistic(items_base=frozenset(), items_add=frozenset({' United-States', ' Married-civ-spouse'}), confidence=0.41, lift=1.0), OrderedStatistic(items_base=frozenset({' Married-civ-spouse'}), items_add=frozenset({' United-States'}), confidence=0.9131403118040088, lift=1.013474263933417), OrderedStatistic(items_base=frozenset({' United-States'}), items_add=frozenset({' Married-civ-spouse'}), confidence=0.4550499445061043, lift=1.013474263933417)]),\n",
       " RelationRecord(items=frozenset({' United-States', ' Private'}), support=0.621, ordered_statistics=[OrderedStatistic(items_base=frozenset(), items_add=frozenset({' United-States', ' Private'}), confidence=0.621, lift=1.0), OrderedStatistic(items_base=frozenset({' Private'}), items_add=frozenset({' United-States'}), confidence=0.8871428571428572, lift=0.9846202631996196), OrderedStatistic(items_base=frozenset({' United-States'}), items_add=frozenset({' Private'}), confidence=0.6892341842397336, lift=0.9846202631996195)]),\n",
       " RelationRecord(items=frozenset({' United-States', 'Faixa3'}), support=0.328, ordered_statistics=[OrderedStatistic(items_base=frozenset(), items_add=frozenset({' United-States', 'Faixa3'}), confidence=0.328, lift=1.0), OrderedStatistic(items_base=frozenset({' United-States'}), items_add=frozenset({'Faixa3'}), confidence=0.36403995560488345, lift=1.0001097681452842), OrderedStatistic(items_base=frozenset({'Faixa3'}), items_add=frozenset({' United-States'}), confidence=0.9010989010989011, lift=1.0001097681452842)]),\n",
       " RelationRecord(items=frozenset({' United-States', 'Faixa4'}), support=0.336, ordered_statistics=[OrderedStatistic(items_base=frozenset(), items_add=frozenset({' United-States', 'Faixa4'}), confidence=0.336, lift=1.0), OrderedStatistic(items_base=frozenset({' United-States'}), items_add=frozenset({'Faixa4'}), confidence=0.3729189789123197, lift=1.0245026893195597), OrderedStatistic(items_base=frozenset({'Faixa4'}), items_add=frozenset({' United-States'}), confidence=0.9230769230769231, lift=1.0245026893195595)]),\n",
       " RelationRecord(items=frozenset({' Male', ' Private', ' <=50K'}), support=0.328, ordered_statistics=[OrderedStatistic(items_base=frozenset(), items_add=frozenset({' Male', ' Private', ' <=50K'}), confidence=0.328, lift=1.0), OrderedStatistic(items_base=frozenset({' <=50K'}), items_add=frozenset({' Male', ' Private'}), confidence=0.4321475625823452, lift=0.9313525055653992), OrderedStatistic(items_base=frozenset({' Male'}), items_add=frozenset({' Private', ' <=50K'}), confidence=0.486646884272997, lift=0.8978724802084815), OrderedStatistic(items_base=frozenset({' Private'}), items_add=frozenset({' Male', ' <=50K'}), confidence=0.46857142857142864, lift=1.0055180870631515), OrderedStatistic(items_base=frozenset({' Male', ' <=50K'}), items_add=frozenset({' Private'}), confidence=0.703862660944206, lift=1.0055180870631515), OrderedStatistic(items_base=frozenset({' Private', ' <=50K'}), items_add=frozenset({' Male'}), confidence=0.6051660516605166, lift=0.8978724802084815), OrderedStatistic(items_base=frozenset({' Male', ' Private'}), items_add=frozenset({' <=50K'}), confidence=0.7068965517241379, lift=0.9313525055653991)]),\n",
       " RelationRecord(items=frozenset({' United-States', ' Male', ' <=50K'}), support=0.41, ordered_statistics=[OrderedStatistic(items_base=frozenset(), items_add=frozenset({' United-States', ' Male', ' <=50K'}), confidence=0.41, lift=1.0), OrderedStatistic(items_base=frozenset({' <=50K'}), items_add=frozenset({' United-States', ' Male'}), confidence=0.5401844532279314, lift=0.8958282806433356), OrderedStatistic(items_base=frozenset({' Male'}), items_add=frozenset({' United-States', ' <=50K'}), confidence=0.6083086053412462, lift=0.8958889622109664), OrderedStatistic(items_base=frozenset({' United-States'}), items_add=frozenset({' Male', ' <=50K'}), confidence=0.4550499445061043, lift=0.9765020268371336), OrderedStatistic(items_base=frozenset({' Male', ' <=50K'}), items_add=frozenset({' United-States'}), confidence=0.8798283261802574, lift=0.9765020268371336), OrderedStatistic(items_base=frozenset({' United-States', ' <=50K'}), items_add=frozenset({' Male'}), confidence=0.6038291605301914, lift=0.8958889622109665), OrderedStatistic(items_base=frozenset({' United-States', ' Male'}), items_add=frozenset({' <=50K'}), confidence=0.6799336650082919, lift=0.8958282806433359)]),\n",
       " RelationRecord(items=frozenset({' United-States', ' Private', ' <=50K'}), support=0.478, ordered_statistics=[OrderedStatistic(items_base=frozenset(), items_add=frozenset({' United-States', ' Private', ' <=50K'}), confidence=0.478, lift=1.0), OrderedStatistic(items_base=frozenset({' <=50K'}), items_add=frozenset({' United-States', ' Private'}), confidence=0.6297760210803689, lift=1.0141320790344104), OrderedStatistic(items_base=frozenset({' Private'}), items_add=frozenset({' United-States', ' <=50K'}), confidence=0.6828571428571428, lift=1.0056806227645696), OrderedStatistic(items_base=frozenset({' United-States'}), items_add=frozenset({' Private', ' <=50K'}), confidence=0.5305216426193119, lift=0.9788222188548189), OrderedStatistic(items_base=frozenset({' Private', ' <=50K'}), items_add=frozenset({' United-States'}), confidence=0.8819188191881918, lift=0.9788222188548189), OrderedStatistic(items_base=frozenset({' United-States', ' <=50K'}), items_add=frozenset({' Private'}), confidence=0.7039764359351988, lift=1.0056806227645698), OrderedStatistic(items_base=frozenset({' United-States', ' Private'}), items_add=frozenset({' <=50K'}), confidence=0.7697262479871175, lift=1.0141320790344104)]),\n",
       " RelationRecord(items=frozenset({' Male', ' Married-civ-spouse', ' Husband'}), support=0.401, ordered_statistics=[OrderedStatistic(items_base=frozenset(), items_add=frozenset({' Male', ' Married-civ-spouse', ' Husband'}), confidence=0.401, lift=1.0), OrderedStatistic(items_base=frozenset({' Husband'}), items_add=frozenset({' Male', ' Married-civ-spouse'}), confidence=1.0, lift=2.4691358024691357), OrderedStatistic(items_base=frozenset({' Male'}), items_add=frozenset({' Married-civ-spouse', ' Husband'}), confidence=0.5949554896142433, lift=1.4836795252225516), OrderedStatistic(items_base=frozenset({' Married-civ-spouse'}), items_add=frozenset({' Male', ' Husband'}), confidence=0.8930957683741648, lift=2.2271714922048997), OrderedStatistic(items_base=frozenset({' Male', ' Husband'}), items_add=frozenset({' Married-civ-spouse'}), confidence=1.0, lift=2.2271714922048997), OrderedStatistic(items_base=frozenset({' Married-civ-spouse', ' Husband'}), items_add=frozenset({' Male'}), confidence=1.0, lift=1.4836795252225519), OrderedStatistic(items_base=frozenset({' Male', ' Married-civ-spouse'}), items_add=frozenset({' Husband'}), confidence=0.9901234567901235, lift=2.4691358024691357)]),\n",
       " RelationRecord(items=frozenset({' United-States', ' Male', ' Husband'}), support=0.368, ordered_statistics=[OrderedStatistic(items_base=frozenset(), items_add=frozenset({' United-States', ' Husband', ' Male'}), confidence=0.368, lift=1.0), OrderedStatistic(items_base=frozenset({' Husband'}), items_add=frozenset({' United-States', ' Male'}), confidence=0.9177057356608478, lift=1.521900059139051), OrderedStatistic(items_base=frozenset({' Male'}), items_add=frozenset({' United-States', ' Husband'}), confidence=0.5459940652818991, lift=1.4836795252225519), OrderedStatistic(items_base=frozenset({' United-States'}), items_add=frozenset({' Male', ' Husband'}), confidence=0.40843507214206437, lift=1.018541327037567), OrderedStatistic(items_base=frozenset({' Male', ' Husband'}), items_add=frozenset({' United-States'}), confidence=0.9177057356608478, lift=1.018541327037567), OrderedStatistic(items_base=frozenset({' United-States', ' Husband'}), items_add=frozenset({' Male'}), confidence=1.0, lift=1.4836795252225519), OrderedStatistic(items_base=frozenset({' United-States', ' Male'}), items_add=frozenset({' Husband'}), confidence=0.6102819237147595, lift=1.521900059139051)]),\n",
       " RelationRecord(items=frozenset({' United-States', ' Married-civ-spouse', ' Husband'}), support=0.368, ordered_statistics=[OrderedStatistic(items_base=frozenset(), items_add=frozenset({' United-States', ' Married-civ-spouse', ' Husband'}), confidence=0.368, lift=1.0), OrderedStatistic(items_base=frozenset({' Husband'}), items_add=frozenset({' United-States', ' Married-civ-spouse'}), confidence=0.9177057356608478, lift=2.238306672343531), OrderedStatistic(items_base=frozenset({' Married-civ-spouse'}), items_add=frozenset({' United-States', ' Husband'}), confidence=0.8195991091314031, lift=2.2271714922048997), OrderedStatistic(items_base=frozenset({' United-States'}), items_add=frozenset({' Married-civ-spouse', ' Husband'}), confidence=0.40843507214206437, lift=1.018541327037567), OrderedStatistic(items_base=frozenset({' Married-civ-spouse', ' Husband'}), items_add=frozenset({' United-States'}), confidence=0.9177057356608478, lift=1.018541327037567), OrderedStatistic(items_base=frozenset({' United-States', ' Husband'}), items_add=frozenset({' Married-civ-spouse'}), confidence=1.0, lift=2.2271714922048997), OrderedStatistic(items_base=frozenset({' United-States', ' Married-civ-spouse'}), items_add=frozenset({' Husband'}), confidence=0.8975609756097561, lift=2.238306672343531)]),\n",
       " RelationRecord(items=frozenset({' United-States', ' Male', ' Married-civ-spouse'}), support=0.371, ordered_statistics=[OrderedStatistic(items_base=frozenset(), items_add=frozenset({' United-States', ' Married-civ-spouse', ' Male'}), confidence=0.371, lift=1.0), OrderedStatistic(items_base=frozenset({' Male'}), items_add=frozenset({' United-States', ' Married-civ-spouse'}), confidence=0.5504451038575667, lift=1.3425490337989434), OrderedStatistic(items_base=frozenset({' Married-civ-spouse'}), items_add=frozenset({' United-States', ' Male'}), confidence=0.8262806236080178, lift=1.3702829578905769), OrderedStatistic(items_base=frozenset({' United-States'}), items_add=frozenset({' Male', ' Married-civ-spouse'}), confidence=0.4117647058823529, lift=1.016702977487291), OrderedStatistic(items_base=frozenset({' Male', ' Married-civ-spouse'}), items_add=frozenset({' United-States'}), confidence=0.9160493827160493, lift=1.016702977487291), OrderedStatistic(items_base=frozenset({' United-States', ' Male'}), items_add=frozenset({' Married-civ-spouse'}), confidence=0.615257048092869, lift=1.3702829578905766), OrderedStatistic(items_base=frozenset({' United-States', ' Married-civ-spouse'}), items_add=frozenset({' Male'}), confidence=0.9048780487804878, lift=1.3425490337989432)]),\n",
       " RelationRecord(items=frozenset({' United-States', ' Male', ' Private'}), support=0.404, ordered_statistics=[OrderedStatistic(items_base=frozenset(), items_add=frozenset({' United-States', ' Private', ' Male'}), confidence=0.404, lift=1.0), OrderedStatistic(items_base=frozenset({' Male'}), items_add=frozenset({' United-States', ' Private'}), confidence=0.599406528189911, lift=0.9652279036874574), OrderedStatistic(items_base=frozenset({' Private'}), items_add=frozenset({' United-States', ' Male'}), confidence=0.5771428571428572, lift=0.9571191660743901), OrderedStatistic(items_base=frozenset({' United-States'}), items_add=frozenset({' Male', ' Private'}), confidence=0.4483906770255272, lift=0.9663592177274293), OrderedStatistic(items_base=frozenset({' Male', ' Private'}), items_add=frozenset({' United-States'}), confidence=0.8706896551724138, lift=0.9663592177274293), OrderedStatistic(items_base=frozenset({' United-States', ' Male'}), items_add=frozenset({' Private'}), confidence=0.669983416252073, lift=0.9571191660743901), OrderedStatistic(items_base=frozenset({' United-States', ' Private'}), items_add=frozenset({' Male'}), confidence=0.6505636070853462, lift=0.9652279036874573)]),\n",
       " RelationRecord(items=frozenset({' United-States', ' Male', ' Married-civ-spouse', ' Husband'}), support=0.368, ordered_statistics=[OrderedStatistic(items_base=frozenset(), items_add=frozenset({' United-States', ' Male', ' Married-civ-spouse', ' Husband'}), confidence=0.368, lift=1.0), OrderedStatistic(items_base=frozenset({' Husband'}), items_add=frozenset({' United-States', ' Married-civ-spouse', ' Male'}), confidence=0.9177057356608478, lift=2.4736003656626626), OrderedStatistic(items_base=frozenset({' Male'}), items_add=frozenset({' United-States', ' Married-civ-spouse', ' Husband'}), confidence=0.5459940652818991, lift=1.4836795252225519), OrderedStatistic(items_base=frozenset({' Married-civ-spouse'}), items_add=frozenset({' United-States', ' Husband', ' Male'}), confidence=0.8195991091314031, lift=2.2271714922048997), OrderedStatistic(items_base=frozenset({' United-States'}), items_add=frozenset({' Male', ' Married-civ-spouse', ' Husband'}), confidence=0.40843507214206437, lift=1.018541327037567), OrderedStatistic(items_base=frozenset({' Male', ' Husband'}), items_add=frozenset({' United-States', ' Married-civ-spouse'}), confidence=0.9177057356608478, lift=2.238306672343531), OrderedStatistic(items_base=frozenset({' Married-civ-spouse', ' Husband'}), items_add=frozenset({' United-States', ' Male'}), confidence=0.9177057356608478, lift=1.521900059139051), OrderedStatistic(items_base=frozenset({' United-States', ' Husband'}), items_add=frozenset({' Male', ' Married-civ-spouse'}), confidence=1.0, lift=2.4691358024691357), OrderedStatistic(items_base=frozenset({' Male', ' Married-civ-spouse'}), items_add=frozenset({' United-States', ' Husband'}), confidence=0.9086419753086419, lift=2.4691358024691357), OrderedStatistic(items_base=frozenset({' United-States', ' Male'}), items_add=frozenset({' Married-civ-spouse', ' Husband'}), confidence=0.6102819237147595, lift=1.521900059139051), OrderedStatistic(items_base=frozenset({' United-States', ' Married-civ-spouse'}), items_add=frozenset({' Male', ' Husband'}), confidence=0.8975609756097561, lift=2.238306672343531), OrderedStatistic(items_base=frozenset({' Male', ' Married-civ-spouse', ' Husband'}), items_add=frozenset({' United-States'}), confidence=0.9177057356608478, lift=1.018541327037567), OrderedStatistic(items_base=frozenset({' United-States', ' Male', ' Husband'}), items_add=frozenset({' Married-civ-spouse'}), confidence=1.0, lift=2.2271714922048997), OrderedStatistic(items_base=frozenset({' United-States', ' Married-civ-spouse', ' Husband'}), items_add=frozenset({' Male'}), confidence=1.0, lift=1.4836795252225519), OrderedStatistic(items_base=frozenset({' United-States', ' Male', ' Married-civ-spouse'}), items_add=frozenset({' Husband'}), confidence=0.9919137466307277, lift=2.4736003656626626)])]"
      ]
     },
     "execution_count": 54,
     "metadata": {},
     "output_type": "execute_result"
    }
   ],
   "source": [
    "resultados"
   ]
  },
  {
   "cell_type": "code",
   "execution_count": 55,
   "metadata": {},
   "outputs": [
    {
     "data": {
      "text/plain": [
       "RelationRecord(items=frozenset({' Never-married', ' <=50K'}), support=0.316, ordered_statistics=[OrderedStatistic(items_base=frozenset(), items_add=frozenset({' Never-married', ' <=50K'}), confidence=0.316, lift=1.0), OrderedStatistic(items_base=frozenset({' <=50K'}), items_add=frozenset({' Never-married'}), confidence=0.4163372859025033, lift=1.277108238964734), OrderedStatistic(items_base=frozenset({' Never-married'}), items_add=frozenset({' <=50K'}), confidence=0.9693251533742331, lift=1.277108238964734)])"
      ]
     },
     "execution_count": 55,
     "metadata": {},
     "output_type": "execute_result"
    }
   ],
   "source": [
    "resultados[12]"
   ]
  },
  {
   "cell_type": "code",
   "execution_count": null,
   "metadata": {},
   "outputs": [],
   "source": []
  }
 ],
 "metadata": {
  "colab": {
   "provenance": [],
   "toc_visible": true
  },
  "kernelspec": {
   "display_name": "Python 3 (ipykernel)",
   "language": "python",
   "name": "python3"
  },
  "language_info": {
   "codemirror_mode": {
    "name": "ipython",
    "version": 3
   },
   "file_extension": ".py",
   "mimetype": "text/x-python",
   "name": "python",
   "nbconvert_exporter": "python",
   "pygments_lexer": "ipython3",
   "version": "3.9.12"
  },
  "varInspector": {
   "cols": {
    "lenName": 16,
    "lenType": 16,
    "lenVar": 40
   },
   "kernels_config": {
    "python": {
     "delete_cmd_postfix": "",
     "delete_cmd_prefix": "del ",
     "library": "var_list.py",
     "varRefreshCmd": "print(var_dic_list())"
    },
    "r": {
     "delete_cmd_postfix": ") ",
     "delete_cmd_prefix": "rm(",
     "library": "var_list.r",
     "varRefreshCmd": "cat(var_dic_list()) "
    }
   },
   "types_to_exclude": [
    "module",
    "function",
    "builtin_function_or_method",
    "instance",
    "_Feature"
   ],
   "window_display": false
  }
 },
 "nbformat": 4,
 "nbformat_minor": 1
}
