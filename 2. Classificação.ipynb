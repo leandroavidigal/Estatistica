{
 "cells": [
  {
   "cell_type": "markdown",
   "metadata": {},
   "source": [
    "### Teorema de Bayes"
   ]
  },
  {
   "cell_type": "markdown",
   "metadata": {},
   "source": [
    "O Naive Bayes é um modelo de classificação probabilístico baseado no Teorema de Bayes, com uma suposição \"ingênua\" de independência entre os preditores. Em estatística e aprendizado de máquina, é utilizado para uma ampla gama de problemas de classificação, especialmente em tarefas de processamento de linguagem natural (NLP) como classificação de texto e filtragem de spam, mas também em diagnósticos médicos, detecção de sentimentos, e muito mais. Aqui está uma visão geral de como o Naive Bayes é aplicado nesses campos"
   ]
  },
  {
   "cell_type": "markdown",
   "metadata": {},
   "source": [
    "O fundamento do Naive Bayes é o Teorema de Bayes, que é uma maneira de encontrar a probabilidade de uma hipótese com base em conhecimentos prévios. Matematicamente, é expresso como:"
   ]
  },
  {
   "cell_type": "markdown",
   "metadata": {},
   "source": [
    "$$ P(A|B) = \\frac{P(B|A) \\cdot P(A)}{P(B)} $$"
   ]
  },
  {
   "cell_type": "markdown",
   "metadata": {},
   "source": [
    "onde:\n",
    "- $P(A|B)$ é a probabilidade posterior de $A$ dado $B$,\n",
    "- $P(B|A)$ é a probabilidade de $B$ dado $A$,\n",
    "- $P(A)$ é a probabilidade a priori de $A$, e\n",
    "- $P(B)$ é a probabilidade total de $B$."
   ]
  },
  {
   "cell_type": "markdown",
   "metadata": {},
   "source": [
    "Suponha que em uma cidade, 1% da população tenha uma doença rara. Existe um teste para essa doença que possui uma taxa de verdadeiro positivo (sensibilidade) de 99% e uma taxa de verdadeiro negativo (especificidade) de 98%. A taxa de verdadeiro positivo indica a probabilidade de o teste dar positivo caso a pessoa realmente tenha a doença, enquanto a taxa de verdadeiro negativo reflete a probabilidade de o teste dar negativo caso a pessoa não tenha a doença.\n",
    "\n",
    "Uma pessoa da cidade é selecionada aleatoriamente para realizar o teste, e o resultado é positivo. Qual é a probabilidade dessa pessoa realmente ter a doença?\n",
    "\n",
    "**Solução**\n",
    "\n",
    "Para resolver este problema definimos os eventos da seguinte forma:\n",
    "\n",
    "- $A$: a pessoa tem a doença.\n",
    "- $B$: o teste da pessoa dá positivo.\n",
    "\n",
    "Queremos calcular $P(A|B)$, ou seja, a probabilidade de a pessoa ter a doença dado que seu teste deu positivo.\n",
    "\n",
    "Dados:\n",
    "- $P(A) = 0.01$ (probabilidade de ter a doença),\n",
    "- $P(B|A) = 0.99$ (probabilidade de o teste dar positivo se a pessoa tem a doença),\n",
    "- $P(\\neg A) = 0.99$ (probabilidade de não ter a doença),\n",
    "- $P(B|\\neg A) = 0.02$ (probabilidade de o teste dar positivo se a pessoa não tem a doença).\n",
    "\n",
    "O Teorema de Bayes nos diz que:\n",
    "\n",
    "$$P(A|B) = \\frac{P(B|A) \\cdot P(A)}{P(B)}$$\n",
    "\n",
    "Para encontrar $P(B)$, usamos a Lei da Probabilidade Total:\n",
    "\n",
    "$$P(B) = P(B|A) \\cdot P(A) + P(B|\\neg A) \\cdot P(\\neg A)$$\n",
    "\n",
    "Substituindo os valores conhecidos:\n",
    "\n",
    "$$P(B) = 0.99 \\cdot 0.01 + 0.02 \\cdot 0.99$$"
   ]
  },
  {
   "cell_type": "markdown",
   "metadata": {},
   "source": [
    "Agora, podemos calcular $P(B)$ e, em seguida, $P(A|B)$ utilizando Python:"
   ]
  },
  {
   "cell_type": "code",
   "execution_count": 2,
   "metadata": {},
   "outputs": [],
   "source": [
    "P_A = 0.01\n",
    "P_B_given_A = 0.99\n",
    "P_not_A = 0.99\n",
    "P_B_given_not_A = 0.02"
   ]
  },
  {
   "cell_type": "code",
   "execution_count": 3,
   "metadata": {},
   "outputs": [],
   "source": [
    "P_B = P_B_given_A * P_A + P_B_given_not_A * P_not_A\n",
    "P_A_given_B = (P_B_given_A * P_A) / P_B"
   ]
  },
  {
   "cell_type": "code",
   "execution_count": 4,
   "metadata": {},
   "outputs": [
    {
     "name": "stdout",
     "output_type": "stream",
     "text": [
      "P(B) = 2.97%\n",
      "P(A|B) = 33.33%\n"
     ]
    }
   ],
   "source": [
    "print(\"P(B) = {:.2%}\".format(P_B))\n",
    "print(\"P(A|B) = {:.2%}\".format(P_A_given_B))"
   ]
  },
  {
   "cell_type": "markdown",
   "metadata": {},
   "source": [
    "Vamos detalhar o significado dos dois resultados:\n",
    "\n",
    "1. **\\(P(B) = 2.97\\%\\):** Esta é a probabilidade total de um teste dar positivo na população. Isso leva em conta tanto os verdadeiros positivos (pessoas que realmente têm a doença e recebem um resultado de teste positivo) quanto os falsos positivos (pessoas que não têm a doença mas recebem um resultado de teste positivo). Apesar da doença ser muito rara (apenas 1% da população a tem), a probabilidade de um teste positivo aumenta para aproximadamente 2.97% devido à possibilidade de falsos positivos. Isso destaca como a precisão do teste (especificamente, a taxa de falsos positivos) e a prevalência da doença na população afetam a probabilidade de resultados positivos.\n",
    "\n",
    "2. **\\(P(A|B) = 33.33\\%\\):** Este é o resultado crucial que muitas vezes surpreende as pessoas. Significa que, mesmo se uma pessoa receber um resultado de teste positivo, a probabilidade de ela realmente ter a doença é de apenas 33.33%. Isso pode parecer contra-intuitivo, dada a alta sensibilidade (99%) e especificidade (98%) do teste. No entanto, esse resultado é fortemente influenciado pela baixa prevalência da doença na população (apenas 1%).\n",
    "\n",
    "A razão para essa aparente discrepância reside no fato de que a quantidade de falsos positivos (resultados positivos em pessoas sem a doença) pode superar a quantidade de verdadeiros positivos quando a doença é rara, mesmo com um teste altamente específico. O Teorema de Bayes nos ajuda a ajustar a probabilidade de ter a doença com base no resultado do teste, levando em conta a prevalência da doença na população.\n",
    "\n",
    "**Implicações**\n",
    "\n",
    "Este exemplo demonstra a importância de considerar a prevalência da condição ao interpretar os resultados dos testes. Mesmo um teste altamente preciso pode ter uma taxa significativa de falsos positivos em condições de baixa prevalência, o que pode levar a diagnósticos equivocados se a interpretação dos resultados não levar em conta a prevalência da doença. É por isso que os médicos geralmente usam resultados de testes junto com outras informações clínicas para fazer um diagnóstico."
   ]
  },
  {
   "cell_type": "code",
   "execution_count": null,
   "metadata": {},
   "outputs": [],
   "source": []
  },
  {
   "cell_type": "markdown",
   "metadata": {},
   "source": [
    "### Suposição de Independência Naive"
   ]
  },
  {
   "cell_type": "markdown",
   "metadata": {},
   "source": [
    "A \"naividade\" do Naive Bayes vem da suposição de que os atributos que descrevem as instâncias são independentes uns dos outros, dado o resultado da classe. Esta suposição simplifica os cálculos, permitindo que o modelo seja treinado e executado rapidamente, mesmo em grandes conjuntos de dados."
   ]
  },
  {
   "cell_type": "markdown",
   "metadata": {},
   "source": [
    "$$ P(x_i | y, x_1, \\dots, x_{i-1}, x_{i+1}, \\dots, x_n) = P(x_i | y) $$"
   ]
  },
  {
   "cell_type": "markdown",
   "metadata": {},
   "source": [
    "para todo $i \\neq j$, onde $y$ é a variável da classe."
   ]
  },
  {
   "cell_type": "markdown",
   "metadata": {},
   "source": [
    "### Classificação com Naive Bayes\n",
    "\n",
    "Para classificar um novo ponto de dados com características $x_1, x_2, \\dots, x_n$, calculamos a probabilidade posterior para cada classe $y$ e escolhemos a classe com a maior probabilidade. A fórmula para a probabilidade posterior é:\n",
    "\n",
    "$$ P(y | x_1, x_2, \\dots, x_n) \\propto P(y) \\prod_{i=1}^{n} P(x_i | y) $$\n",
    "\n",
    "A classe escolhida é aquela que maximiza essa probabilidade:\n",
    "\n",
    "$$ \\hat{y} = \\arg\\max_y P(y) \\prod_{i=1}^{n} P(x_i | y) $$"
   ]
  },
  {
   "cell_type": "markdown",
   "metadata": {},
   "source": [
    "### Variações do Naive Bayes"
   ]
  },
  {
   "cell_type": "markdown",
   "metadata": {},
   "source": [
    "Dependendo do tipo de dados de entrada, diferentes versões do Naive Bayes podem ser aplicadas:\n",
    "\n",
    "- Gaussiano Naive Bayes: usado quando os preditores são variáveis contínuas e supostamente distribuídos normalmente.\n",
    "- Multinomial Naive Bayes: ideal para quando os dados são contagens ou frequências de eventos. Comumente usado em classificação de texto.\n",
    "- Bernoulli Naive Bayes: aplicado em situações onde os preditores são variáveis binárias."
   ]
  },
  {
   "cell_type": "markdown",
   "metadata": {},
   "source": [
    "### Aplicações em Estatística e Machine Learning"
   ]
  },
  {
   "cell_type": "markdown",
   "metadata": {},
   "source": [
    "1. Classificação de Texto: Graças à sua simplicidade e eficiência, o Naive Bayes é frequentemente a primeira escolha para classificação de texto, como filtragem de spam e categorização de notícias.\n",
    "\n",
    "2. Diagnósticos Médicos: Pode ser usado para prever a probabilidade de uma doença com base em sintomas e históricos de saúde dos pacientes.\n",
    "\n",
    "3. Sistemas de Recomendação: Embora não seja a principal escolha para sistemas de recomendação complexos, pode ser utilizado para criar bases simples de recomendação, baseadas em características do usuário e produtos."
   ]
  },
  {
   "cell_type": "markdown",
   "metadata": {},
   "source": [
    "### Vantagens e Desvantagens\n",
    "\n",
    "**Vantagens:**\n",
    "\n",
    "Simples e rápido para treinar e prever.\n",
    "Funciona bem com uma quantidade limitada de dados.\n",
    "Boa performance em tarefas de classificação multi-classe.\n",
    "\n",
    "**Desvantagens:**\n",
    "A suposição de independência é muitas vezes irrealista, o que pode afetar o desempenho.\n",
    "Pode ser superado por modelos mais complexos em tarefas com relações intrincadas entre atributos.\n",
    "Apesar de suas limitações, o Naive Bayes continua a ser uma ferramenta poderosa e amplamente utilizada devido à sua simplicidade, eficiência e boa performance em várias aplicações práticas."
   ]
  },
  {
   "cell_type": "markdown",
   "metadata": {},
   "source": [
    "### Exemplo de análise de risco"
   ]
  },
  {
   "cell_type": "markdown",
   "metadata": {},
   "source": [
    "| História do crédito | Dívida | Garantias | Renda anual | Risco |\n",
    "|---------------------|--------|-----------|-------------|-------|\n",
    "| Ruim                | Alta   | Nenhuma   | < 15.000    | Alto  |\n",
    "| Desconhecida        | Alta   | Nenhuma   | >= 15.000 a <= 35.000 | Alto  |\n",
    "| Desconhecida        | Baixa  | Nenhuma   | >= 15.000 a <= 35.000 | Moderado |\n",
    "| Desconhecida        | Baixa  | Nenhuma   | < 15.000    | Alto  |\n",
    "| Desconhecida        | Baixa  | Nenhuma   | > 35.000    | Baixo |\n",
    "| Ruim                | Baixa  | Adequada  | < 15.000    | Alto  |\n",
    "| Ruim                | Baixa  | Nenhuma   | > 35.000    | Moderado |\n",
    "| Boa                 | Baixa  | Adequada  | > 35.000    | Baixo |\n",
    "| Boa                 | Alta   | Nenhuma   | < 15.000    | Alto  |\n",
    "| Boa                 | Alta   | Nenhuma   | >= 15.000 a <= 35.000 | Moderado |\n",
    "| Boa                 | Alta   | Nenhuma   | > 35.000    | Baixo |\n",
    "| Ruim                | Alta   | Nenhuma   | >= 15.000 a <= 35.000 | Alto  |"
   ]
  },
  {
   "cell_type": "markdown",
   "metadata": {},
   "source": [
    "| Risco de crédito | História do crédito: Boa | História do crédito: Desconhecida | História do crédito: Ruim | Dívida: Alta | Dívida: Baixa | Garantias: Nenhuma | Garantias: Adequada | Renda anual: < 15000 | Renda anual: >= 15000 e <= 35000 | Renda anual: > 35000 |\n",
    "|------------------|--------------------------|-----------------------------------|---------------------------|--------------|---------------|--------------------|---------------------|---------------------|----------------------------------|----------------------|\n",
    "| Alto 6/14        | 1/6                      | 2/6                               | 3/6                       | 4/6          | 2/6           | 6/6                | 0                   | 3/6                 | 2/6                              | 1/6                  |\n",
    "| Moderado 3/14    | 1/3                      | 1/3                               | 1/3                       | 1/3          | 2/3           | 2/3                | 1/3                 | 0                   | 2/3                              | 1/3                  |\n",
    "| Baixo 5/14       | 3/5                      | 2/5                               | 0                         | 2/5          | 3/5           | 3/5                | 2/5                 | 0                   | 0                                | 5/5                  |\n"
   ]
  },
  {
   "cell_type": "code",
   "execution_count": 8,
   "metadata": {},
   "outputs": [
    {
     "data": {
      "application/vnd.jupyter.widget-view+json": {
       "model_id": "7d5975a18f07444bbe2d2e83887f4545",
       "version_major": 2,
       "version_minor": 0
      },
      "text/plain": [
       "Dropdown(description='Crédito:', options=('boa', 'desconhecida', 'ruim'), value='boa')"
      ]
     },
     "metadata": {},
     "output_type": "display_data"
    },
    {
     "data": {
      "application/vnd.jupyter.widget-view+json": {
       "model_id": "e02cf3f84c3a47889b77a247d1967b89",
       "version_major": 2,
       "version_minor": 0
      },
      "text/plain": [
       "Dropdown(description='Dívida:', options=('alta', 'baixa'), value='alta')"
      ]
     },
     "metadata": {},
     "output_type": "display_data"
    },
    {
     "data": {
      "application/vnd.jupyter.widget-view+json": {
       "model_id": "47620a35cdc8459e9848071df8e8f38f",
       "version_major": 2,
       "version_minor": 0
      },
      "text/plain": [
       "Dropdown(description='Garantias:', options=('nenhuma', 'adequada'), value='nenhuma')"
      ]
     },
     "metadata": {},
     "output_type": "display_data"
    },
    {
     "data": {
      "application/vnd.jupyter.widget-view+json": {
       "model_id": "bd3420fac0904dbdb8e41a09791f5182",
       "version_major": 2,
       "version_minor": 0
      },
      "text/plain": [
       "Dropdown(description='Renda:', options=('< 15000', '>= 15000 e <= 35000', '> 35000'), value='< 15000')"
      ]
     },
     "metadata": {},
     "output_type": "display_data"
    },
    {
     "data": {
      "application/vnd.jupyter.widget-view+json": {
       "model_id": "7e390ff6f5754f7aac69325d80f9dd64",
       "version_major": 2,
       "version_minor": 0
      },
      "text/plain": [
       "Button(description='Calcular Risco', style=ButtonStyle())"
      ]
     },
     "metadata": {},
     "output_type": "display_data"
    },
    {
     "data": {
      "application/vnd.jupyter.widget-view+json": {
       "model_id": "fc4ff3f5faf3486b9396abbc7d6441e0",
       "version_major": 2,
       "version_minor": 0
      },
      "text/plain": [
       "Output()"
      ]
     },
     "metadata": {},
     "output_type": "display_data"
    }
   ],
   "source": [
    "import ipywidgets as widgets\n",
    "from IPython.display import display, clear_output\n",
    "\n",
    "# Dados fictícios para as probabilidades condicionais e a priori.\n",
    "prob_conds = {\n",
    "    'Alto': {'boa': 0.1, 'desconhecida': 0.3, 'ruim': 0.6, 'alta': 0.7, 'baixa': 0.3, 'nenhuma': 0.8, 'adequada': 0.2, '< 15000': 0.9, '>= 15000 e <= 35000': 0.5, '> 35000': 0.1},\n",
    "    'Moderado': {'boa': 0.3, 'desconhecida': 0.4, 'ruim': 0.3, 'alta': 0.3, 'baixa': 0.7, 'nenhuma': 0.1, 'adequada': 0.9, '< 15000': 0.05, '>= 15000 e <= 35000': 0.3, '> 35000': 0.65},\n",
    "    'Baixo': {'boa': 0.6, 'desconhecida': 0.3, 'ruim': 0.1, 'alta': 0.0, 'baixa': 0.7, 'nenhuma': 0.1, 'adequada': 0.9, '< 15000': 0.05, '>= 15000 e <= 35000': 0.2, '> 35000': 0.25}\n",
    "}\n",
    "\n",
    "# Probabilidades a priori para cada classe de risco.\n",
    "prior_probs = {'Alto': 0.2, 'Moderado': 0.3, 'Baixo': 0.5}\n",
    "\n",
    "# Criamos as caixas de seleção para as características do cliente.\n",
    "credito_input = widgets.Dropdown(options=['boa', 'desconhecida', 'ruim'], description='Crédito:')\n",
    "divida_input = widgets.Dropdown(options=['alta', 'baixa'], description='Dívida:')\n",
    "garantias_input = widgets.Dropdown(options=['nenhuma', 'adequada'], description='Garantias:')\n",
    "renda_input = widgets.Dropdown(options=['< 15000', '>= 15000 e <= 35000', '> 35000'], description='Renda:')\n",
    "\n",
    "button = widgets.Button(description=\"Calcular Risco\")\n",
    "output = widgets.Output()\n",
    "\n",
    "# Esta função será chamada quando o botão for clicado.\n",
    "def on_button_clicked(b):\n",
    "    with output:\n",
    "        clear_output()\n",
    "        # Calcula a probabilidade posterior de cada classe de risco usando o Teorema de Bayes.\n",
    "        post_probs = {}\n",
    "        for risk in prior_probs:\n",
    "            post_probs[risk] = (prior_probs[risk] *\n",
    "                                prob_conds[risk][credito_input.value] *\n",
    "                                prob_conds[risk][divida_input.value] *\n",
    "                                prob_conds[risk][garantias_input.value] *\n",
    "                                prob_conds[risk][renda_input.value])\n",
    "\n",
    "        # Normaliza as probabilidades para somar 1.\n",
    "        total_prob = sum(post_probs.values())\n",
    "        normalized_probs = {risk: (prob / total_prob) for risk, prob in post_probs.items()}\n",
    "        \n",
    "        # Identifica a classificação de risco com maior probabilidade.\n",
    "        max_risk = max(normalized_probs, key=normalized_probs.get)\n",
    "        print(f\"Probabilidades de risco: {normalized_probs}\")\n",
    "        print(f\"Classificação de risco: {max_risk}\")\n",
    "\n",
    "# Mostra as caixas de seleção e o botão.\n",
    "display(credito_input, divida_input, garantias_input, renda_input, button, output)\n",
    "\n",
    "button.on_click(on_button_clicked)"
   ]
  },
  {
   "cell_type": "markdown",
   "metadata": {},
   "source": [
    "### Classificação com dados desbalanceados"
   ]
  },
  {
   "cell_type": "code",
   "execution_count": 9,
   "metadata": {},
   "outputs": [],
   "source": [
    "import pandas as pd\n",
    "import random\n",
    "import numpy as np"
   ]
  },
  {
   "cell_type": "code",
   "execution_count": 10,
   "metadata": {},
   "outputs": [],
   "source": [
    "dataset = pd.read_csv('credit_data.csv')"
   ]
  },
  {
   "cell_type": "code",
   "execution_count": 11,
   "metadata": {},
   "outputs": [
    {
     "data": {
      "text/plain": [
       "(2000, 5)"
      ]
     },
     "execution_count": 11,
     "metadata": {},
     "output_type": "execute_result"
    }
   ],
   "source": [
    "dataset.shape #tamanho da base de dados"
   ]
  },
  {
   "cell_type": "code",
   "execution_count": 12,
   "metadata": {},
   "outputs": [
    {
     "data": {
      "text/html": [
       "<div>\n",
       "<style scoped>\n",
       "    .dataframe tbody tr th:only-of-type {\n",
       "        vertical-align: middle;\n",
       "    }\n",
       "\n",
       "    .dataframe tbody tr th {\n",
       "        vertical-align: top;\n",
       "    }\n",
       "\n",
       "    .dataframe thead th {\n",
       "        text-align: right;\n",
       "    }\n",
       "</style>\n",
       "<table border=\"1\" class=\"dataframe\">\n",
       "  <thead>\n",
       "    <tr style=\"text-align: right;\">\n",
       "      <th></th>\n",
       "      <th>i#clientid</th>\n",
       "      <th>income</th>\n",
       "      <th>age</th>\n",
       "      <th>loan</th>\n",
       "      <th>c#default</th>\n",
       "    </tr>\n",
       "  </thead>\n",
       "  <tbody>\n",
       "    <tr>\n",
       "      <th>0</th>\n",
       "      <td>1</td>\n",
       "      <td>66155.925095</td>\n",
       "      <td>59.017015</td>\n",
       "      <td>8106.532131</td>\n",
       "      <td>0</td>\n",
       "    </tr>\n",
       "    <tr>\n",
       "      <th>1</th>\n",
       "      <td>2</td>\n",
       "      <td>34415.153966</td>\n",
       "      <td>48.117153</td>\n",
       "      <td>6564.745018</td>\n",
       "      <td>0</td>\n",
       "    </tr>\n",
       "    <tr>\n",
       "      <th>2</th>\n",
       "      <td>3</td>\n",
       "      <td>57317.170063</td>\n",
       "      <td>63.108049</td>\n",
       "      <td>8020.953296</td>\n",
       "      <td>0</td>\n",
       "    </tr>\n",
       "    <tr>\n",
       "      <th>3</th>\n",
       "      <td>4</td>\n",
       "      <td>42709.534201</td>\n",
       "      <td>45.751972</td>\n",
       "      <td>6103.642260</td>\n",
       "      <td>0</td>\n",
       "    </tr>\n",
       "    <tr>\n",
       "      <th>4</th>\n",
       "      <td>5</td>\n",
       "      <td>66952.688845</td>\n",
       "      <td>18.584336</td>\n",
       "      <td>8770.099235</td>\n",
       "      <td>1</td>\n",
       "    </tr>\n",
       "  </tbody>\n",
       "</table>\n",
       "</div>"
      ],
      "text/plain": [
       "   i#clientid        income        age         loan  c#default\n",
       "0           1  66155.925095  59.017015  8106.532131          0\n",
       "1           2  34415.153966  48.117153  6564.745018          0\n",
       "2           3  57317.170063  63.108049  8020.953296          0\n",
       "3           4  42709.534201  45.751972  6103.642260          0\n",
       "4           5  66952.688845  18.584336  8770.099235          1"
      ]
     },
     "execution_count": 12,
     "metadata": {},
     "output_type": "execute_result"
    }
   ],
   "source": [
    "dataset.head()"
   ]
  },
  {
   "cell_type": "code",
   "execution_count": 13,
   "metadata": {},
   "outputs": [
    {
     "data": {
      "text/plain": [
       "(1997, 5)"
      ]
     },
     "execution_count": 13,
     "metadata": {},
     "output_type": "execute_result"
    }
   ],
   "source": [
    "dataset.dropna(inplace=True)\n",
    "dataset.shape"
   ]
  },
  {
   "cell_type": "code",
   "execution_count": 14,
   "metadata": {
    "scrolled": true
   },
   "outputs": [
    {
     "data": {
      "image/png": "[encoded data removed]",
      "text/plain": [
       "<Figure size 432x288 with 1 Axes>"
      ]
     },
     "metadata": {
      "needs_background": "light"
     },
     "output_type": "display_data"
    }
   ],
   "source": [
    "import seaborn as sns\n",
    "sns.countplot(x=dataset['c#default']);"
   ]
  },
  {
   "cell_type": "markdown",
   "metadata": {},
   "source": [
    "**Variável Previrosa X**"
   ]
  },
  {
   "cell_type": "code",
   "execution_count": 15,
   "metadata": {},
   "outputs": [],
   "source": [
    "X = dataset.iloc[:, 1:4].values"
   ]
  },
  {
   "cell_type": "code",
   "execution_count": 16,
   "metadata": {},
   "outputs": [
    {
     "data": {
      "text/plain": [
       "(1997, 3)"
      ]
     },
     "execution_count": 16,
     "metadata": {},
     "output_type": "execute_result"
    }
   ],
   "source": [
    "X.shape"
   ]
  },
  {
   "cell_type": "code",
   "execution_count": 17,
   "metadata": {
    "scrolled": true
   },
   "outputs": [
    {
     "data": {
      "text/plain": [
       "array([[6.61559251e+04, 5.90170151e+01, 8.10653213e+03],\n",
       "       [3.44151540e+04, 4.81171531e+01, 6.56474502e+03],\n",
       "       [5.73171701e+04, 6.31080495e+01, 8.02095330e+03],\n",
       "       ...,\n",
       "       [4.43114493e+04, 2.80171669e+01, 5.52278669e+03],\n",
       "       [4.37560566e+04, 6.39717958e+01, 1.62272260e+03],\n",
       "       [6.94365796e+04, 5.61526170e+01, 7.37883360e+03]])"
      ]
     },
     "execution_count": 17,
     "metadata": {},
     "output_type": "execute_result"
    }
   ],
   "source": [
    "X"
   ]
  },
  {
   "cell_type": "markdown",
   "metadata": {},
   "source": [
    "**Variável Resposta Y**"
   ]
  },
  {
   "cell_type": "code",
   "execution_count": 18,
   "metadata": {},
   "outputs": [],
   "source": [
    "y = dataset.iloc[:, 4].values"
   ]
  },
  {
   "cell_type": "code",
   "execution_count": 19,
   "metadata": {},
   "outputs": [
    {
     "data": {
      "text/plain": [
       "(1997,)"
      ]
     },
     "execution_count": 19,
     "metadata": {},
     "output_type": "execute_result"
    }
   ],
   "source": [
    "y.shape"
   ]
  },
  {
   "cell_type": "code",
   "execution_count": 20,
   "metadata": {},
   "outputs": [
    {
     "data": {
      "text/plain": [
       "array([0, 0, 0, ..., 1, 0, 0], dtype=int64)"
      ]
     },
     "execution_count": 20,
     "metadata": {},
     "output_type": "execute_result"
    }
   ],
   "source": [
    "y"
   ]
  },
  {
   "cell_type": "markdown",
   "metadata": {},
   "source": [
    "#### Base de treinamento e teste"
   ]
  },
  {
   "cell_type": "code",
   "execution_count": 21,
   "metadata": {},
   "outputs": [],
   "source": [
    "from sklearn.model_selection import train_test_split"
   ]
  },
  {
   "cell_type": "code",
   "execution_count": 22,
   "metadata": {},
   "outputs": [],
   "source": [
    "#20% da base de dados para teste\n",
    "X_treinamento, X_teste, y_treinamento, y_teste = train_test_split(X, y, test_size = 0.2, stratify = y) "
   ]
  },
  {
   "cell_type": "code",
   "execution_count": 23,
   "metadata": {},
   "outputs": [
    {
     "data": {
      "text/plain": [
       "((1597, 3), (1597,))"
      ]
     },
     "execution_count": 23,
     "metadata": {},
     "output_type": "execute_result"
    }
   ],
   "source": [
    "X_treinamento.shape, y_treinamento.shape"
   ]
  },
  {
   "cell_type": "code",
   "execution_count": 24,
   "metadata": {},
   "outputs": [
    {
     "data": {
      "text/plain": [
       "((400, 3), (400,))"
      ]
     },
     "execution_count": 24,
     "metadata": {},
     "output_type": "execute_result"
    }
   ],
   "source": [
    "X_teste.shape, y_teste.shape"
   ]
  },
  {
   "cell_type": "code",
   "execution_count": 25,
   "metadata": {},
   "outputs": [
    {
     "data": {
      "text/plain": [
       "(array([0, 1], dtype=int64), array([1714,  283], dtype=int64))"
      ]
     },
     "execution_count": 25,
     "metadata": {},
     "output_type": "execute_result"
    }
   ],
   "source": [
    "np.unique(y, return_counts=True)"
   ]
  },
  {
   "cell_type": "code",
   "execution_count": 26,
   "metadata": {},
   "outputs": [
    {
     "data": {
      "text/plain": [
       "(0.8582874311467201, 0.14171256885327993)"
      ]
     },
     "execution_count": 26,
     "metadata": {},
     "output_type": "execute_result"
    }
   ],
   "source": [
    "1714 / len(dataset), 283 / len(dataset)"
   ]
  },
  {
   "cell_type": "code",
   "execution_count": 27,
   "metadata": {},
   "outputs": [
    {
     "data": {
      "text/plain": [
       "(array([0, 1], dtype=int64), array([1371,  226], dtype=int64))"
      ]
     },
     "execution_count": 27,
     "metadata": {},
     "output_type": "execute_result"
    }
   ],
   "source": [
    "np.unique(y_treinamento, return_counts=True)"
   ]
  },
  {
   "cell_type": "code",
   "execution_count": 28,
   "metadata": {},
   "outputs": [
    {
     "data": {
      "text/plain": [
       "0.14151534126487164"
      ]
     },
     "execution_count": 28,
     "metadata": {},
     "output_type": "execute_result"
    }
   ],
   "source": [
    "226 / len(y_treinamento)"
   ]
  },
  {
   "cell_type": "code",
   "execution_count": 29,
   "metadata": {},
   "outputs": [
    {
     "data": {
      "text/plain": [
       "(array([0, 1], dtype=int64), array([343,  57], dtype=int64))"
      ]
     },
     "execution_count": 29,
     "metadata": {},
     "output_type": "execute_result"
    }
   ],
   "source": [
    "np.unique(y_teste, return_counts=True)"
   ]
  },
  {
   "cell_type": "code",
   "execution_count": 30,
   "metadata": {},
   "outputs": [
    {
     "data": {
      "text/plain": [
       "0.1425"
      ]
     },
     "execution_count": 30,
     "metadata": {},
     "output_type": "execute_result"
    }
   ],
   "source": [
    "57 / len(y_teste)"
   ]
  },
  {
   "cell_type": "markdown",
   "metadata": {},
   "source": [
    "#### Classificação com Naïve Bayes"
   ]
  },
  {
   "cell_type": "code",
   "execution_count": 31,
   "metadata": {},
   "outputs": [],
   "source": [
    "from sklearn.naive_bayes import GaussianNB"
   ]
  },
  {
   "cell_type": "code",
   "execution_count": 32,
   "metadata": {},
   "outputs": [
    {
     "data": {
      "text/plain": [
       "GaussianNB()"
      ]
     },
     "execution_count": 32,
     "metadata": {},
     "output_type": "execute_result"
    }
   ],
   "source": [
    "modelo = GaussianNB()\n",
    "modelo.fit(X_treinamento, y_treinamento)"
   ]
  },
  {
   "cell_type": "code",
   "execution_count": 33,
   "metadata": {},
   "outputs": [],
   "source": [
    "previsoes = modelo.predict(X_teste)"
   ]
  },
  {
   "cell_type": "code",
   "execution_count": 34,
   "metadata": {},
   "outputs": [
    {
     "data": {
      "text/plain": [
       "array([0, 0, 0, 0, 0, 0, 0, 0, 0, 0, 0, 0, 0, 0, 0, 0, 0, 0, 0, 0, 0, 0,\n",
       "       0, 0, 0, 0, 0, 1, 0, 0, 0, 0, 0, 0, 1, 0, 1, 0, 1, 0, 0, 0, 0, 0,\n",
       "       0, 1, 0, 1, 0, 0, 0, 0, 0, 0, 0, 0, 0, 0, 0, 0, 0, 0, 0, 0, 1, 0,\n",
       "       0, 0, 0, 0, 0, 0, 0, 0, 1, 0, 0, 1, 1, 0, 0, 0, 0, 1, 0, 0, 0, 0,\n",
       "       0, 1, 0, 0, 0, 0, 0, 0, 0, 0, 0, 0, 0, 0, 0, 0, 0, 0, 0, 0, 0, 0,\n",
       "       0, 0, 0, 0, 0, 0, 0, 0, 0, 0, 0, 0, 1, 0, 0, 0, 0, 0, 0, 0, 1, 0,\n",
       "       0, 0, 0, 1, 0, 0, 0, 0, 0, 0, 1, 0, 0, 0, 0, 0, 0, 1, 0, 0, 0, 0,\n",
       "       0, 0, 0, 0, 0, 1, 0, 0, 0, 0, 0, 0, 0, 0, 0, 0, 0, 0, 0, 0, 0, 0,\n",
       "       0, 0, 0, 0, 0, 0, 0, 0, 0, 0, 0, 0, 0, 0, 0, 0, 0, 0, 0, 0, 1, 0,\n",
       "       0, 0, 1, 0, 0, 0, 0, 0, 0, 0, 0, 0, 1, 0, 0, 0, 0, 0, 0, 0, 0, 0,\n",
       "       0, 0, 0, 0, 0, 0, 0, 0, 0, 0, 1, 0, 0, 0, 0, 0, 0, 1, 0, 0, 0, 0,\n",
       "       1, 0, 0, 1, 0, 0, 0, 0, 0, 0, 0, 0, 0, 0, 0, 0, 0, 1, 0, 1, 0, 1,\n",
       "       0, 0, 0, 0, 0, 0, 0, 0, 0, 0, 0, 0, 1, 0, 0, 0, 0, 0, 1, 0, 0, 0,\n",
       "       0, 0, 0, 0, 0, 0, 0, 0, 0, 0, 0, 0, 0, 0, 0, 1, 0, 0, 0, 0, 0, 0,\n",
       "       1, 0, 0, 0, 0, 0, 0, 1, 0, 0, 0, 0, 0, 0, 0, 0, 0, 0, 0, 0, 0, 0,\n",
       "       0, 0, 0, 1, 0, 0, 0, 0, 0, 0, 1, 0, 0, 0, 0, 0, 0, 0, 0, 0, 0, 0,\n",
       "       0, 0, 0, 0, 0, 0, 0, 0, 0, 1, 0, 0, 1, 0, 0, 0, 1, 0, 0, 0, 0, 0,\n",
       "       0, 0, 0, 0, 0, 0, 0, 0, 0, 0, 0, 0, 0, 1, 0, 0, 0, 0, 1, 0, 0, 0,\n",
       "       0, 0, 0, 0], dtype=int64)"
      ]
     },
     "execution_count": 34,
     "metadata": {},
     "output_type": "execute_result"
    }
   ],
   "source": [
    "previsoes"
   ]
  },
  {
   "cell_type": "code",
   "execution_count": 35,
   "metadata": {
    "scrolled": true
   },
   "outputs": [
    {
     "data": {
      "text/plain": [
       "array([0, 0, 0, 0, 0, 0, 0, 0, 0, 0, 0, 0, 0, 0, 0, 0, 0, 0, 0, 0, 0, 0,\n",
       "       0, 0, 0, 0, 0, 1, 0, 0, 0, 0, 1, 0, 1, 0, 1, 0, 1, 0, 0, 0, 0, 0,\n",
       "       0, 1, 0, 1, 0, 0, 0, 0, 0, 0, 0, 0, 0, 0, 0, 0, 0, 0, 0, 0, 1, 0,\n",
       "       0, 0, 0, 0, 0, 0, 0, 1, 0, 0, 0, 1, 1, 1, 0, 0, 0, 1, 0, 0, 0, 0,\n",
       "       0, 0, 0, 0, 0, 1, 0, 0, 0, 0, 0, 0, 0, 0, 0, 0, 0, 0, 0, 0, 0, 0,\n",
       "       0, 1, 0, 0, 1, 0, 0, 0, 1, 1, 0, 0, 1, 0, 0, 0, 0, 0, 0, 0, 1, 0,\n",
       "       0, 0, 0, 1, 0, 0, 0, 0, 0, 0, 1, 0, 0, 0, 0, 0, 0, 1, 0, 0, 0, 0,\n",
       "       0, 0, 0, 0, 1, 1, 0, 0, 0, 0, 0, 0, 0, 0, 0, 0, 0, 0, 0, 0, 0, 0,\n",
       "       0, 0, 0, 0, 1, 0, 0, 0, 0, 0, 0, 0, 0, 0, 0, 0, 0, 0, 0, 0, 1, 0,\n",
       "       0, 0, 1, 0, 0, 1, 0, 0, 0, 0, 0, 0, 1, 0, 0, 0, 0, 0, 0, 0, 0, 0,\n",
       "       1, 0, 0, 0, 0, 0, 0, 0, 0, 0, 1, 0, 0, 0, 0, 0, 0, 1, 0, 0, 0, 0,\n",
       "       1, 0, 0, 0, 0, 0, 0, 0, 0, 0, 0, 0, 0, 0, 0, 0, 0, 1, 0, 1, 0, 1,\n",
       "       0, 0, 1, 0, 0, 0, 0, 0, 0, 0, 0, 0, 1, 0, 0, 0, 0, 0, 1, 0, 0, 0,\n",
       "       0, 0, 0, 0, 0, 0, 0, 0, 0, 0, 0, 1, 0, 0, 0, 1, 0, 0, 0, 0, 0, 0,\n",
       "       1, 0, 0, 0, 0, 1, 0, 1, 0, 0, 0, 0, 0, 0, 0, 0, 0, 0, 0, 0, 0, 0,\n",
       "       0, 0, 0, 1, 0, 0, 0, 0, 0, 0, 1, 0, 0, 0, 1, 0, 0, 0, 0, 0, 0, 1,\n",
       "       0, 0, 0, 0, 0, 0, 0, 0, 0, 1, 0, 0, 1, 0, 0, 0, 0, 0, 0, 0, 0, 0,\n",
       "       0, 0, 0, 0, 1, 0, 0, 0, 0, 0, 1, 0, 0, 1, 0, 0, 0, 1, 1, 0, 0, 0,\n",
       "       0, 0, 0, 1], dtype=int64)"
      ]
     },
     "execution_count": 35,
     "metadata": {},
     "output_type": "execute_result"
    }
   ],
   "source": [
    "y_teste"
   ]
  },
  {
   "cell_type": "code",
   "execution_count": 1,
   "metadata": {},
   "outputs": [],
   "source": [
    "#análise de acerto da classificação"
   ]
  },
  {
   "cell_type": "code",
   "execution_count": 36,
   "metadata": {},
   "outputs": [],
   "source": [
    "from sklearn.metrics import accuracy_score"
   ]
  },
  {
   "cell_type": "code",
   "execution_count": 37,
   "metadata": {
    "scrolled": true
   },
   "outputs": [
    {
     "data": {
      "text/plain": [
       "0.9375"
      ]
     },
     "execution_count": 37,
     "metadata": {},
     "output_type": "execute_result"
    }
   ],
   "source": [
    "accuracy_score(y_teste,previsoes)"
   ]
  },
  {
   "cell_type": "code",
   "execution_count": 2,
   "metadata": {},
   "outputs": [],
   "source": [
    "#criação da matriz de confusão"
   ]
  },
  {
   "cell_type": "code",
   "execution_count": 38,
   "metadata": {},
   "outputs": [],
   "source": [
    "from sklearn.metrics import confusion_matrix"
   ]
  },
  {
   "cell_type": "code",
   "execution_count": 39,
   "metadata": {},
   "outputs": [
    {
     "data": {
      "text/plain": [
       "array([[339,   4],\n",
       "       [ 21,  36]], dtype=int64)"
      ]
     },
     "execution_count": 39,
     "metadata": {},
     "output_type": "execute_result"
    }
   ],
   "source": [
    "cm = confusion_matrix(y_teste,previsoes)\n",
    "cm"
   ]
  },
  {
   "cell_type": "code",
   "execution_count": 40,
   "metadata": {},
   "outputs": [
    {
     "data": {
      "image/png": "[encoded data removed]",
      "text/plain": [
       "<Figure size 432x288 with 2 Axes>"
      ]
     },
     "metadata": {
      "needs_background": "light"
     },
     "output_type": "display_data"
    }
   ],
   "source": [
    "sns.heatmap(cm, annot=True);"
   ]
  },
  {
   "cell_type": "code",
   "execution_count": 3,
   "metadata": {},
   "outputs": [
    {
     "data": {
      "text/plain": [
       "0.9375"
      ]
     },
     "execution_count": 3,
     "metadata": {},
     "output_type": "execute_result"
    }
   ],
   "source": [
    "(339 + 36) / (339 + 21 + 4 + 36)"
   ]
  },
  {
   "cell_type": "code",
   "execution_count": 4,
   "metadata": {},
   "outputs": [
    {
     "data": {
      "text/plain": [
       "0.9416666666666667"
      ]
     },
     "execution_count": 4,
     "metadata": {},
     "output_type": "execute_result"
    }
   ],
   "source": [
    "# Percentual de acerto para pessoas que pagam o empréstimo\n",
    "339 / (339 + 21)"
   ]
  },
  {
   "cell_type": "code",
   "execution_count": 5,
   "metadata": {},
   "outputs": [
    {
     "data": {
      "text/plain": [
       "0.9"
      ]
     },
     "execution_count": 5,
     "metadata": {},
     "output_type": "execute_result"
    }
   ],
   "source": [
    "# Percentual de acerto para pessoas que não pagam o empréstimo\n",
    "36 / (36 + 4)"
   ]
  },
  {
   "cell_type": "code",
   "execution_count": 6,
   "metadata": {},
   "outputs": [
    {
     "data": {
      "text/plain": [
       "100.0"
      ]
     },
     "execution_count": 6,
     "metadata": {},
     "output_type": "execute_result"
    }
   ],
   "source": [
    "# Perdas: 5.000 reais para cliente que não paga o emprestimo\n",
    "# Clientes não pagadores: 1.000\n",
    "1000 * 10 / 100"
   ]
  },
  {
   "cell_type": "code",
   "execution_count": 8,
   "metadata": {},
   "outputs": [
    {
     "data": {
      "text/plain": [
       "500000"
      ]
     },
     "execution_count": 8,
     "metadata": {},
     "output_type": "execute_result"
    }
   ],
   "source": [
    "100 * 5000 #prejuizo estimado"
   ]
  },
  {
   "cell_type": "markdown",
   "metadata": {},
   "source": [
    "### Undersampling e Oversampling"
   ]
  },
  {
   "cell_type": "code",
   "execution_count": 10,
   "metadata": {},
   "outputs": [
    {
     "data": {
      "image/png": "[encoded data removed]",
      "text/plain": [
       "<IPython.core.display.Image object>"
      ]
     },
     "execution_count": 10,
     "metadata": {},
     "output_type": "execute_result"
    }
   ],
   "source": [
    "from IPython.display import Image\n",
    "Image(filename=\"C://Users//yanks//ESTATÍSTICA - JUPYTER//UDEMY - Curso de Estatística//Estatistica para Ciencia de Dados e Machine Learning//Under_oversampling.png\")"
   ]
  },
  {
   "cell_type": "markdown",
   "metadata": {},
   "source": [
    "**Subamostragem - Tomek Links**"
   ]
  },
  {
   "cell_type": "markdown",
   "metadata": {},
   "source": [
    "A subamostragem é uma abordagem para equilibrar conjuntos de dados que reduz o tamanho da classe majoritária ao remover algumas de suas instâncias. Uma maneira específica de fazer isso é usando Tomek Links. Um link de Tomek consiste em um par de instâncias muito próximas, mas de classes diferentes. A ideia é que, ao remover as instâncias da classe majoritária que formam um link de Tomek, o conjunto de dados se torna mais balanceado, e as fronteiras entre as classes se tornam mais claras.\n",
    "\n",
    "Este método é especialmente útil quando as instâncias da classe majoritária e minoritária estão misturadas. Ao eliminar instâncias da classe majoritária que são ambíguas (ou seja, aquelas que formam um link de Tomek), ajuda-se a melhorar a capacidade do classificador de distinguir entre as classes."
   ]
  },
  {
   "cell_type": "markdown",
   "metadata": {},
   "source": [
    "**Subamostragem - Smote**"
   ]
  },
  {
   "cell_type": "markdown",
   "metadata": {},
   "source": [
    "Em contraste com a subamostragem, o SMOTE é uma técnica de sobreamostragem que visa equilibrar o conjunto de dados aumentando o tamanho da classe minoritária. Ele faz isso criando instâncias sintéticas da classe minoritária em vez de simplesmente duplicar instâncias existentes. Para uma instância da classe minoritária, o SMOTE seleciona um de seus k vizinhos mais próximos (também pertencentes à classe minoritária) e gera uma nova instância em algum ponto entre a instância original e seu vizinho.\n",
    "\n",
    "Esta abordagem pode ajudar a superar o problema de sobreajuste que pode ocorrer com a sobreamostragem simples, proporcionando mais generalização ao treinar o modelo. No entanto, o SMOTE pode também introduzir artificialmente ruído se as classes estiverem muito sobrepostas, já que pode gerar instâncias sintéticas que caem em regiões dominadas pela classe majoritária."
   ]
  },
  {
   "cell_type": "markdown",
   "metadata": {},
   "source": [
    "Ambas as técnicas têm seus méritos e podem ser usadas de forma complementar. Enquanto a subamostragem com Tomek Links pode ajudar a limpar as fronteiras entre classes ao remover instâncias potencialmente ruidosas ou ambíguas da classe majoritária, o SMOTE pode aumentar a representatividade da classe minoritária sem causar repetição exata de instâncias, o que pode ser benéfico para a diversidade do conjunto de treinamento.\n",
    "\n",
    "Em muitos casos, a combinação dessas técnicas — primeiro aplicando subamostragem para remover instâncias ambíguas da classe majoritária e depois aplicando sobreamostragem para reforçar a classe minoritária — pode oferecer um equilíbrio eficaz, melhorando o desempenho do modelo em conjuntos de dados desequilibrados."
   ]
  },
  {
   "cell_type": "markdown",
   "metadata": {},
   "source": [
    "**Random Forest**"
   ]
  },
  {
   "cell_type": "markdown",
   "metadata": {},
   "source": [
    "Agora vamos testar as técnicas de subamostragem e sobreamostragem utilizando outra base de dados, a csv_result-ebay_confianca_completo.csv, que é uma base de dados para prever a confiança de usuários baseado em traços de personalidade extraídos de textos\n",
    "\n",
    "A classe é o atributo reputation, que pode ser reputação boa ou reputação ruim\n",
    "\n",
    "O algoritmo Naïve Bayes não tem um bom desempenho nesta base de dados, por isso precisamos utilizar o Random Forest que é um algoritmo baseado em árvores de decisão. A ideia de utilização é a mesma, e no link a seguir você pode verificar a documentação: https://scikit-learn.org/stable/modules/generated/sklearn.ensemble.RandomForestClassifier.html"
   ]
  },
  {
   "cell_type": "code",
   "execution_count": 1,
   "metadata": {},
   "outputs": [],
   "source": [
    "import pandas as pd\n",
    "import random\n",
    "import numpy as np"
   ]
  },
  {
   "cell_type": "code",
   "execution_count": 2,
   "metadata": {},
   "outputs": [],
   "source": [
    "dataset = pd.read_csv('csv_result-ebay_confianca_completo.csv')"
   ]
  },
  {
   "cell_type": "code",
   "execution_count": 3,
   "metadata": {},
   "outputs": [
    {
     "data": {
      "text/plain": [
       "(5806, 75)"
      ]
     },
     "execution_count": 3,
     "metadata": {},
     "output_type": "execute_result"
    }
   ],
   "source": [
    "dataset.shape"
   ]
  },
  {
   "cell_type": "code",
   "execution_count": 4,
   "metadata": {},
   "outputs": [
    {
     "data": {
      "text/html": [
       "<div>\n",
       "<style scoped>\n",
       "    .dataframe tbody tr th:only-of-type {\n",
       "        vertical-align: middle;\n",
       "    }\n",
       "\n",
       "    .dataframe tbody tr th {\n",
       "        vertical-align: top;\n",
       "    }\n",
       "\n",
       "    .dataframe thead th {\n",
       "        text-align: right;\n",
       "    }\n",
       "</style>\n",
       "<table border=\"1\" class=\"dataframe\">\n",
       "  <thead>\n",
       "    <tr style=\"text-align: right;\">\n",
       "      <th></th>\n",
       "      <th>feedbacks</th>\n",
       "      <th>reviews</th>\n",
       "      <th>blacklist</th>\n",
       "      <th>mextraversion</th>\n",
       "      <th>cextraversion</th>\n",
       "      <th>sextraversion</th>\n",
       "      <th>mneuroticism</th>\n",
       "      <th>cneuroticism</th>\n",
       "      <th>sneuroticism</th>\n",
       "      <th>mconscientiousness</th>\n",
       "      <th>...</th>\n",
       "      <th>need_practicaly</th>\n",
       "      <th>need_selfexpression</th>\n",
       "      <th>need_stability</th>\n",
       "      <th>need_structure</th>\n",
       "      <th>value_conservation</th>\n",
       "      <th>value_openess</th>\n",
       "      <th>value_hedonism</th>\n",
       "      <th>value_selfenhancement</th>\n",
       "      <th>value_selftranscendence</th>\n",
       "      <th>reputation</th>\n",
       "    </tr>\n",
       "  </thead>\n",
       "  <tbody>\n",
       "    <tr>\n",
       "      <th>2</th>\n",
       "      <td>0</td>\n",
       "      <td>49</td>\n",
       "      <td>N</td>\n",
       "      <td>4.181642</td>\n",
       "      <td>0.6</td>\n",
       "      <td>1</td>\n",
       "      <td>2.777591</td>\n",
       "      <td>0.6</td>\n",
       "      <td>0</td>\n",
       "      <td>4.085460</td>\n",
       "      <td>...</td>\n",
       "      <td>0.696359</td>\n",
       "      <td>0.698786</td>\n",
       "      <td>0.756963</td>\n",
       "      <td>0.660119</td>\n",
       "      <td>0.619416</td>\n",
       "      <td>0.746372</td>\n",
       "      <td>0.640073</td>\n",
       "      <td>0.598037</td>\n",
       "      <td>0.828716</td>\n",
       "      <td>Bom</td>\n",
       "    </tr>\n",
       "    <tr>\n",
       "      <th>3</th>\n",
       "      <td>0</td>\n",
       "      <td>56</td>\n",
       "      <td>N</td>\n",
       "      <td>4.007042</td>\n",
       "      <td>0.6</td>\n",
       "      <td>0</td>\n",
       "      <td>2.698650</td>\n",
       "      <td>0.6</td>\n",
       "      <td>0</td>\n",
       "      <td>4.187338</td>\n",
       "      <td>...</td>\n",
       "      <td>0.715300</td>\n",
       "      <td>0.664572</td>\n",
       "      <td>0.728806</td>\n",
       "      <td>0.660740</td>\n",
       "      <td>0.588969</td>\n",
       "      <td>0.735915</td>\n",
       "      <td>0.644465</td>\n",
       "      <td>0.603042</td>\n",
       "      <td>0.809379</td>\n",
       "      <td>Bom</td>\n",
       "    </tr>\n",
       "    <tr>\n",
       "      <th>4</th>\n",
       "      <td>0</td>\n",
       "      <td>50</td>\n",
       "      <td>N</td>\n",
       "      <td>4.538230</td>\n",
       "      <td>0.7</td>\n",
       "      <td>1</td>\n",
       "      <td>2.298492</td>\n",
       "      <td>0.5</td>\n",
       "      <td>1</td>\n",
       "      <td>5.085833</td>\n",
       "      <td>...</td>\n",
       "      <td>0.720150</td>\n",
       "      <td>0.694678</td>\n",
       "      <td>0.669652</td>\n",
       "      <td>0.627962</td>\n",
       "      <td>0.553523</td>\n",
       "      <td>0.766618</td>\n",
       "      <td>0.655470</td>\n",
       "      <td>0.645042</td>\n",
       "      <td>0.826039</td>\n",
       "      <td>Bom</td>\n",
       "    </tr>\n",
       "    <tr>\n",
       "      <th>5</th>\n",
       "      <td>72</td>\n",
       "      <td>0</td>\n",
       "      <td>N</td>\n",
       "      <td>4.692854</td>\n",
       "      <td>0.3</td>\n",
       "      <td>0</td>\n",
       "      <td>2.987231</td>\n",
       "      <td>0.5</td>\n",
       "      <td>0</td>\n",
       "      <td>4.831320</td>\n",
       "      <td>...</td>\n",
       "      <td>0.739793</td>\n",
       "      <td>0.637027</td>\n",
       "      <td>0.697221</td>\n",
       "      <td>0.638587</td>\n",
       "      <td>0.675289</td>\n",
       "      <td>0.752234</td>\n",
       "      <td>0.679661</td>\n",
       "      <td>0.674438</td>\n",
       "      <td>0.813391</td>\n",
       "      <td>Bom</td>\n",
       "    </tr>\n",
       "    <tr>\n",
       "      <th>6</th>\n",
       "      <td>76</td>\n",
       "      <td>0</td>\n",
       "      <td>N</td>\n",
       "      <td>4.966753</td>\n",
       "      <td>0.3</td>\n",
       "      <td>0</td>\n",
       "      <td>3.048730</td>\n",
       "      <td>0.5</td>\n",
       "      <td>0</td>\n",
       "      <td>4.725294</td>\n",
       "      <td>...</td>\n",
       "      <td>0.718530</td>\n",
       "      <td>0.616852</td>\n",
       "      <td>0.692761</td>\n",
       "      <td>0.646695</td>\n",
       "      <td>0.677245</td>\n",
       "      <td>0.699785</td>\n",
       "      <td>0.648607</td>\n",
       "      <td>0.616075</td>\n",
       "      <td>0.816841</td>\n",
       "      <td>Bom</td>\n",
       "    </tr>\n",
       "  </tbody>\n",
       "</table>\n",
       "<p>5 rows × 75 columns</p>\n",
       "</div>"
      ],
      "text/plain": [
       "   feedbacks  reviews blacklist  mextraversion  cextraversion  sextraversion  \\\n",
       "2          0       49         N       4.181642            0.6              1   \n",
       "3          0       56         N       4.007042            0.6              0   \n",
       "4          0       50         N       4.538230            0.7              1   \n",
       "5         72        0         N       4.692854            0.3              0   \n",
       "6         76        0         N       4.966753            0.3              0   \n",
       "\n",
       "   mneuroticism  cneuroticism  sneuroticism  mconscientiousness  ...  \\\n",
       "2      2.777591           0.6             0            4.085460  ...   \n",
       "3      2.698650           0.6             0            4.187338  ...   \n",
       "4      2.298492           0.5             1            5.085833  ...   \n",
       "5      2.987231           0.5             0            4.831320  ...   \n",
       "6      3.048730           0.5             0            4.725294  ...   \n",
       "\n",
       "   need_practicaly  need_selfexpression  need_stability  need_structure  \\\n",
       "2         0.696359             0.698786        0.756963        0.660119   \n",
       "3         0.715300             0.664572        0.728806        0.660740   \n",
       "4         0.720150             0.694678        0.669652        0.627962   \n",
       "5         0.739793             0.637027        0.697221        0.638587   \n",
       "6         0.718530             0.616852        0.692761        0.646695   \n",
       "\n",
       "   value_conservation  value_openess  value_hedonism  value_selfenhancement  \\\n",
       "2            0.619416       0.746372        0.640073               0.598037   \n",
       "3            0.588969       0.735915        0.644465               0.603042   \n",
       "4            0.553523       0.766618        0.655470               0.645042   \n",
       "5            0.675289       0.752234        0.679661               0.674438   \n",
       "6            0.677245       0.699785        0.648607               0.616075   \n",
       "\n",
       "   value_selftranscendence  reputation  \n",
       "2                 0.828716         Bom  \n",
       "3                 0.809379         Bom  \n",
       "4                 0.826039         Bom  \n",
       "5                 0.813391         Bom  \n",
       "6                 0.816841         Bom  \n",
       "\n",
       "[5 rows x 75 columns]"
      ]
     },
     "execution_count": 4,
     "metadata": {},
     "output_type": "execute_result"
    }
   ],
   "source": [
    "dataset.head()"
   ]
  },
  {
   "cell_type": "code",
   "execution_count": 5,
   "metadata": {},
   "outputs": [],
   "source": [
    "dataset['blacklist'] = dataset['blacklist'] == 'S'"
   ]
  },
  {
   "cell_type": "code",
   "execution_count": 6,
   "metadata": {},
   "outputs": [
    {
     "name": "stderr",
     "output_type": "stream",
     "text": [
      "C:\\Users\\yanks\\anaconda3\\lib\\site-packages\\seaborn\\_decorators.py:36: FutureWarning: Pass the following variable as a keyword arg: x. From version 0.12, the only valid positional argument will be `data`, and passing other arguments without an explicit keyword will result in an error or misinterpretation.\n",
      "  warnings.warn(\n"
     ]
    },
    {
     "data": {
      "image/png": "[encoded data removed]",
      "text/plain": [
       "<Figure size 432x288 with 1 Axes>"
      ]
     },
     "metadata": {
      "needs_background": "light"
     },
     "output_type": "display_data"
    }
   ],
   "source": [
    "import seaborn as sns\n",
    "sns.countplot(dataset['reputation']);"
   ]
  },
  {
   "cell_type": "code",
   "execution_count": 7,
   "metadata": {},
   "outputs": [
    {
     "data": {
      "text/plain": [
       "75"
      ]
     },
     "execution_count": 7,
     "metadata": {},
     "output_type": "execute_result"
    }
   ],
   "source": [
    "len(dataset.columns)"
   ]
  },
  {
   "cell_type": "code",
   "execution_count": 8,
   "metadata": {},
   "outputs": [],
   "source": [
    "X = dataset.iloc[:,0:74].values"
   ]
  },
  {
   "cell_type": "code",
   "execution_count": 9,
   "metadata": {},
   "outputs": [
    {
     "data": {
      "text/plain": [
       "(5806, 74)"
      ]
     },
     "execution_count": 9,
     "metadata": {},
     "output_type": "execute_result"
    }
   ],
   "source": [
    "X.shape"
   ]
  },
  {
   "cell_type": "code",
   "execution_count": 10,
   "metadata": {},
   "outputs": [
    {
     "data": {
      "text/plain": [
       "array([[0, 49, False, ..., 0.6400725899947721, 0.598037041554872,\n",
       "        0.828716381071851],\n",
       "       [0, 56, False, ..., 0.6444645861342442, 0.603041772443901,\n",
       "        0.8093789692710098],\n",
       "       [0, 50, False, ..., 0.6554697130298307, 0.6450420335022421,\n",
       "        0.82603890125472],\n",
       "       ...,\n",
       "       [78, 0, False, ..., 0.6974661634054785, 0.6739035045452172,\n",
       "        0.8320726536961992],\n",
       "       [95, 0, False, ..., 0.7706773179699052, 0.7100477615788761,\n",
       "        0.8199238314070743],\n",
       "       [53, 0, False, ..., 0.6239306346573744, 0.6331205213003834,\n",
       "        0.7920921058167003]], dtype=object)"
      ]
     },
     "execution_count": 10,
     "metadata": {},
     "output_type": "execute_result"
    }
   ],
   "source": [
    "X"
   ]
  },
  {
   "cell_type": "code",
   "execution_count": 11,
   "metadata": {},
   "outputs": [],
   "source": [
    "y = dataset.iloc[:,74].values"
   ]
  },
  {
   "cell_type": "code",
   "execution_count": 12,
   "metadata": {},
   "outputs": [
    {
     "data": {
      "text/plain": [
       "array(['Bom', 'Bom', 'Bom', ..., 'Bom', 'Ruim', 'Ruim'], dtype=object)"
      ]
     },
     "execution_count": 12,
     "metadata": {},
     "output_type": "execute_result"
    }
   ],
   "source": [
    "y"
   ]
  },
  {
   "cell_type": "code",
   "execution_count": 13,
   "metadata": {},
   "outputs": [
    {
     "data": {
      "text/plain": [
       "(array(['Bom', 'Ruim'], dtype=object), array([4299, 1507], dtype=int64))"
      ]
     },
     "execution_count": 13,
     "metadata": {},
     "output_type": "execute_result"
    }
   ],
   "source": [
    "np.unique(y, return_counts=True)"
   ]
  },
  {
   "cell_type": "markdown",
   "metadata": {},
   "source": [
    "**Base de treinamento e teste**"
   ]
  },
  {
   "cell_type": "code",
   "execution_count": 14,
   "metadata": {},
   "outputs": [],
   "source": [
    "from sklearn.model_selection import train_test_split"
   ]
  },
  {
   "cell_type": "code",
   "execution_count": 15,
   "metadata": {},
   "outputs": [],
   "source": [
    "X_treinamento, X_teste, y_treinamento, y_teste = train_test_split(X, y, test_size = 0.2, stratify = y)"
   ]
  },
  {
   "cell_type": "code",
   "execution_count": 16,
   "metadata": {},
   "outputs": [
    {
     "data": {
      "text/plain": [
       "((4644, 74), (4644,))"
      ]
     },
     "execution_count": 16,
     "metadata": {},
     "output_type": "execute_result"
    }
   ],
   "source": [
    "X_treinamento.shape, y_treinamento.shape"
   ]
  },
  {
   "cell_type": "code",
   "execution_count": 17,
   "metadata": {},
   "outputs": [
    {
     "data": {
      "text/plain": [
       "((1162, 74), (1162,))"
      ]
     },
     "execution_count": 17,
     "metadata": {},
     "output_type": "execute_result"
    }
   ],
   "source": [
    "X_teste.shape, y_teste.shape"
   ]
  },
  {
   "cell_type": "markdown",
   "metadata": {},
   "source": [
    "**Classificação com Random Forest**"
   ]
  },
  {
   "cell_type": "code",
   "execution_count": 18,
   "metadata": {},
   "outputs": [],
   "source": [
    "from sklearn.ensemble import RandomForestClassifier"
   ]
  },
  {
   "cell_type": "code",
   "execution_count": 19,
   "metadata": {},
   "outputs": [
    {
     "data": {
      "text/plain": [
       "RandomForestClassifier()"
      ]
     },
     "execution_count": 19,
     "metadata": {},
     "output_type": "execute_result"
    }
   ],
   "source": [
    "modelo = RandomForestClassifier()\n",
    "modelo.fit(X_treinamento, y_treinamento)"
   ]
  },
  {
   "cell_type": "code",
   "execution_count": 20,
   "metadata": {},
   "outputs": [
    {
     "data": {
      "text/plain": [
       "0.7409638554216867"
      ]
     },
     "execution_count": 20,
     "metadata": {},
     "output_type": "execute_result"
    }
   ],
   "source": [
    "previsoes = modelo.predict(X_teste)\n",
    "from sklearn.metrics import accuracy_score\n",
    "accuracy_score(previsoes, y_teste)"
   ]
  },
  {
   "cell_type": "markdown",
   "metadata": {},
   "source": [
    "**Subamostragem (undersampling) - Tomek links**"
   ]
  },
  {
   "cell_type": "markdown",
   "metadata": {},
   "source": [
    "https://imbalanced-learn.readthedocs.io/en/stable/user_guide.html"
   ]
  },
  {
   "cell_type": "code",
   "execution_count": 24,
   "metadata": {},
   "outputs": [],
   "source": [
    "from imblearn.under_sampling import TomekLinks"
   ]
  },
  {
   "cell_type": "code",
   "execution_count": 25,
   "metadata": {},
   "outputs": [],
   "source": [
    "tl = TomekLinks(sampling_strategy='majority')\n",
    "X_under, y_under = tl.fit_resample(X, y)"
   ]
  },
  {
   "cell_type": "code",
   "execution_count": 26,
   "metadata": {},
   "outputs": [
    {
     "data": {
      "text/plain": [
       "((5417, 74), (5417,))"
      ]
     },
     "execution_count": 26,
     "metadata": {},
     "output_type": "execute_result"
    }
   ],
   "source": [
    "X_under.shape, y_under.shape"
   ]
  },
  {
   "cell_type": "code",
   "execution_count": 27,
   "metadata": {},
   "outputs": [
    {
     "data": {
      "text/plain": [
       "(array(['Bom', 'Ruim'], dtype=object), array([4299, 1507], dtype=int64))"
      ]
     },
     "execution_count": 27,
     "metadata": {},
     "output_type": "execute_result"
    }
   ],
   "source": [
    "np.unique(y, return_counts=True)"
   ]
  },
  {
   "cell_type": "code",
   "execution_count": 28,
   "metadata": {},
   "outputs": [
    {
     "data": {
      "text/plain": [
       "(array(['Bom', 'Ruim'], dtype=object), array([3910, 1507], dtype=int64))"
      ]
     },
     "execution_count": 28,
     "metadata": {},
     "output_type": "execute_result"
    }
   ],
   "source": [
    "np.unique(y_under, return_counts=True)"
   ]
  },
  {
   "cell_type": "code",
   "execution_count": 29,
   "metadata": {},
   "outputs": [
    {
     "data": {
      "text/plain": [
       "((4333, 74), (1084, 74))"
      ]
     },
     "execution_count": 29,
     "metadata": {},
     "output_type": "execute_result"
    }
   ],
   "source": [
    "X_treinamento_u, X_teste_u, y_treinamento_u, y_teste_u = train_test_split(X_under, y_under, \n",
    "                                                                          test_size = 0.2, stratify = y_under)\n",
    "X_treinamento_u.shape, X_teste_u.shape"
   ]
  },
  {
   "cell_type": "code",
   "execution_count": 30,
   "metadata": {},
   "outputs": [
    {
     "data": {
      "text/plain": [
       "0.731549815498155"
      ]
     },
     "execution_count": 30,
     "metadata": {},
     "output_type": "execute_result"
    }
   ],
   "source": [
    "modelo_u = RandomForestClassifier()\n",
    "modelo_u.fit(X_treinamento_u, y_treinamento_u)\n",
    "previsoes_u = modelo_u.predict(X_teste_u)\n",
    "accuracy_score(previsoes_u, y_teste_u)"
   ]
  },
  {
   "cell_type": "markdown",
   "metadata": {},
   "source": [
    "**Sobreamostragem (oversampling) - SMOTE**"
   ]
  },
  {
   "cell_type": "code",
   "execution_count": 31,
   "metadata": {},
   "outputs": [],
   "source": [
    "from imblearn.over_sampling import SMOTE"
   ]
  },
  {
   "cell_type": "code",
   "execution_count": 32,
   "metadata": {},
   "outputs": [],
   "source": [
    "smote = SMOTE(sampling_strategy='minority')\n",
    "X_over, y_over = smote.fit_resample(X, y)"
   ]
  },
  {
   "cell_type": "code",
   "execution_count": 33,
   "metadata": {},
   "outputs": [
    {
     "data": {
      "text/plain": [
       "((8598, 74), (8598,))"
      ]
     },
     "execution_count": 33,
     "metadata": {},
     "output_type": "execute_result"
    }
   ],
   "source": [
    "X_over.shape, y_over.shape"
   ]
  },
  {
   "cell_type": "code",
   "execution_count": 34,
   "metadata": {},
   "outputs": [
    {
     "data": {
      "text/plain": [
       "(array(['Bom', 'Ruim'], dtype=object), array([4299, 1507], dtype=int64))"
      ]
     },
     "execution_count": 34,
     "metadata": {},
     "output_type": "execute_result"
    }
   ],
   "source": [
    "np.unique(y, return_counts=True)"
   ]
  },
  {
   "cell_type": "code",
   "execution_count": 35,
   "metadata": {},
   "outputs": [
    {
     "data": {
      "text/plain": [
       "(array(['Bom', 'Ruim'], dtype=object), array([4299, 4299], dtype=int64))"
      ]
     },
     "execution_count": 35,
     "metadata": {},
     "output_type": "execute_result"
    }
   ],
   "source": [
    "np.unique(y_over, return_counts=True)"
   ]
  },
  {
   "cell_type": "code",
   "execution_count": 36,
   "metadata": {},
   "outputs": [
    {
     "data": {
      "text/plain": [
       "((6878, 74), (1720, 74))"
      ]
     },
     "execution_count": 36,
     "metadata": {},
     "output_type": "execute_result"
    }
   ],
   "source": [
    "X_treinamento_o, X_teste_o, y_treinamento_o, y_teste_o = train_test_split(X_over, y_over, \n",
    "                                                                          test_size = 0.2, stratify = y_over)\n",
    "X_treinamento_o.shape, X_teste_o.shape"
   ]
  },
  {
   "cell_type": "code",
   "execution_count": 37,
   "metadata": {},
   "outputs": [
    {
     "data": {
      "text/plain": [
       "0.8267441860465117"
      ]
     },
     "execution_count": 37,
     "metadata": {},
     "output_type": "execute_result"
    }
   ],
   "source": [
    "modelo_o = RandomForestClassifier()\n",
    "modelo_o.fit(X_treinamento_o, y_treinamento_o)\n",
    "previsoes_o = modelo_o.predict(X_teste_o)\n",
    "accuracy_score(previsoes_o, y_teste_o)"
   ]
  }
 ],
 "metadata": {
  "colab": {
   "provenance": [],
   "toc_visible": true
  },
  "kernelspec": {
   "display_name": "Python 3 (ipykernel)",
   "language": "python",
   "name": "python3"
  },
  "language_info": {
   "codemirror_mode": {
    "name": "ipython",
    "version": 3
   },
   "file_extension": ".py",
   "mimetype": "text/x-python",
   "name": "python",
   "nbconvert_exporter": "python",
   "pygments_lexer": "ipython3",
   "version": "3.9.12"
  },
  "varInspector": {
   "cols": {
    "lenName": 16,
    "lenType": 16,
    "lenVar": 40
   },
   "kernels_config": {
    "python": {
     "delete_cmd_postfix": "",
     "delete_cmd_prefix": "del ",
     "library": "var_list.py",
     "varRefreshCmd": "print(var_dic_list())"
    },
    "r": {
     "delete_cmd_postfix": ") ",
     "delete_cmd_prefix": "rm(",
     "library": "var_list.r",
     "varRefreshCmd": "cat(var_dic_list()) "
    }
   },
   "types_to_exclude": [
    "module",
    "function",
    "builtin_function_or_method",
    "instance",
    "_Feature"
   ],
   "window_display": false
  }
 },
 "nbformat": 4,
 "nbformat_minor": 1
}
